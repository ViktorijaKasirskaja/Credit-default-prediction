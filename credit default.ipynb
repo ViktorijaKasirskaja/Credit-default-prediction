{
 "cells": [
  {
   "cell_type": "markdown",
   "metadata": {},
   "source": [
    "# CREDIT CARD DEFAULT PREDICTION"
   ]
  },
  {
   "cell_type": "markdown",
   "metadata": {},
   "source": [
    "Importing libraries"
   ]
  },
  {
   "cell_type": "code",
   "execution_count": 1891,
   "metadata": {},
   "outputs": [],
   "source": [
    "import pandas as pd\n",
    "import numpy as np\n",
    "import matplotlib.pyplot as plt\n",
    "import seaborn as sns\n",
    "%matplotlib inline"
   ]
  },
  {
   "cell_type": "markdown",
   "metadata": {},
   "source": [
    "Reading file into the dataframe"
   ]
  },
  {
   "cell_type": "code",
   "execution_count": 1892,
   "metadata": {
    "scrolled": true
   },
   "outputs": [
    {
     "data": {
      "text/html": [
       "<div>\n",
       "<style scoped>\n",
       "    .dataframe tbody tr th:only-of-type {\n",
       "        vertical-align: middle;\n",
       "    }\n",
       "\n",
       "    .dataframe tbody tr th {\n",
       "        vertical-align: top;\n",
       "    }\n",
       "\n",
       "    .dataframe thead th {\n",
       "        text-align: right;\n",
       "    }\n",
       "</style>\n",
       "<table border=\"1\" class=\"dataframe\">\n",
       "  <thead>\n",
       "    <tr style=\"text-align: right;\">\n",
       "      <th></th>\n",
       "      <th>ID</th>\n",
       "      <th>LIMIT_BAL</th>\n",
       "      <th>SEX</th>\n",
       "      <th>EDUCATION</th>\n",
       "      <th>MARRIAGE</th>\n",
       "      <th>AGE</th>\n",
       "      <th>PAY_0</th>\n",
       "      <th>PAY_2</th>\n",
       "      <th>PAY_3</th>\n",
       "      <th>PAY_4</th>\n",
       "      <th>...</th>\n",
       "      <th>BILL_AMT4</th>\n",
       "      <th>BILL_AMT5</th>\n",
       "      <th>BILL_AMT6</th>\n",
       "      <th>PAY_AMT1</th>\n",
       "      <th>PAY_AMT2</th>\n",
       "      <th>PAY_AMT3</th>\n",
       "      <th>PAY_AMT4</th>\n",
       "      <th>PAY_AMT5</th>\n",
       "      <th>PAY_AMT6</th>\n",
       "      <th>default.payment.next.month</th>\n",
       "    </tr>\n",
       "  </thead>\n",
       "  <tbody>\n",
       "    <tr>\n",
       "      <td>0</td>\n",
       "      <td>1</td>\n",
       "      <td>20000.0</td>\n",
       "      <td>2</td>\n",
       "      <td>2</td>\n",
       "      <td>1</td>\n",
       "      <td>24</td>\n",
       "      <td>2</td>\n",
       "      <td>2</td>\n",
       "      <td>-1</td>\n",
       "      <td>-1</td>\n",
       "      <td>...</td>\n",
       "      <td>0.0</td>\n",
       "      <td>0.0</td>\n",
       "      <td>0.0</td>\n",
       "      <td>0.0</td>\n",
       "      <td>689.0</td>\n",
       "      <td>0.0</td>\n",
       "      <td>0.0</td>\n",
       "      <td>0.0</td>\n",
       "      <td>0.0</td>\n",
       "      <td>1</td>\n",
       "    </tr>\n",
       "    <tr>\n",
       "      <td>1</td>\n",
       "      <td>2</td>\n",
       "      <td>120000.0</td>\n",
       "      <td>2</td>\n",
       "      <td>2</td>\n",
       "      <td>2</td>\n",
       "      <td>26</td>\n",
       "      <td>-1</td>\n",
       "      <td>2</td>\n",
       "      <td>0</td>\n",
       "      <td>0</td>\n",
       "      <td>...</td>\n",
       "      <td>3272.0</td>\n",
       "      <td>3455.0</td>\n",
       "      <td>3261.0</td>\n",
       "      <td>0.0</td>\n",
       "      <td>1000.0</td>\n",
       "      <td>1000.0</td>\n",
       "      <td>1000.0</td>\n",
       "      <td>0.0</td>\n",
       "      <td>2000.0</td>\n",
       "      <td>1</td>\n",
       "    </tr>\n",
       "    <tr>\n",
       "      <td>2</td>\n",
       "      <td>3</td>\n",
       "      <td>90000.0</td>\n",
       "      <td>2</td>\n",
       "      <td>2</td>\n",
       "      <td>2</td>\n",
       "      <td>34</td>\n",
       "      <td>0</td>\n",
       "      <td>0</td>\n",
       "      <td>0</td>\n",
       "      <td>0</td>\n",
       "      <td>...</td>\n",
       "      <td>14331.0</td>\n",
       "      <td>14948.0</td>\n",
       "      <td>15549.0</td>\n",
       "      <td>1518.0</td>\n",
       "      <td>1500.0</td>\n",
       "      <td>1000.0</td>\n",
       "      <td>1000.0</td>\n",
       "      <td>1000.0</td>\n",
       "      <td>5000.0</td>\n",
       "      <td>0</td>\n",
       "    </tr>\n",
       "    <tr>\n",
       "      <td>3</td>\n",
       "      <td>4</td>\n",
       "      <td>50000.0</td>\n",
       "      <td>2</td>\n",
       "      <td>2</td>\n",
       "      <td>1</td>\n",
       "      <td>37</td>\n",
       "      <td>0</td>\n",
       "      <td>0</td>\n",
       "      <td>0</td>\n",
       "      <td>0</td>\n",
       "      <td>...</td>\n",
       "      <td>28314.0</td>\n",
       "      <td>28959.0</td>\n",
       "      <td>29547.0</td>\n",
       "      <td>2000.0</td>\n",
       "      <td>2019.0</td>\n",
       "      <td>1200.0</td>\n",
       "      <td>1100.0</td>\n",
       "      <td>1069.0</td>\n",
       "      <td>1000.0</td>\n",
       "      <td>0</td>\n",
       "    </tr>\n",
       "    <tr>\n",
       "      <td>4</td>\n",
       "      <td>5</td>\n",
       "      <td>50000.0</td>\n",
       "      <td>1</td>\n",
       "      <td>2</td>\n",
       "      <td>1</td>\n",
       "      <td>57</td>\n",
       "      <td>-1</td>\n",
       "      <td>0</td>\n",
       "      <td>-1</td>\n",
       "      <td>0</td>\n",
       "      <td>...</td>\n",
       "      <td>20940.0</td>\n",
       "      <td>19146.0</td>\n",
       "      <td>19131.0</td>\n",
       "      <td>2000.0</td>\n",
       "      <td>36681.0</td>\n",
       "      <td>10000.0</td>\n",
       "      <td>9000.0</td>\n",
       "      <td>689.0</td>\n",
       "      <td>679.0</td>\n",
       "      <td>0</td>\n",
       "    </tr>\n",
       "  </tbody>\n",
       "</table>\n",
       "<p>5 rows × 25 columns</p>\n",
       "</div>"
      ],
      "text/plain": [
       "   ID  LIMIT_BAL  SEX  EDUCATION  MARRIAGE  AGE  PAY_0  PAY_2  PAY_3  PAY_4  \\\n",
       "0   1    20000.0    2          2         1   24      2      2     -1     -1   \n",
       "1   2   120000.0    2          2         2   26     -1      2      0      0   \n",
       "2   3    90000.0    2          2         2   34      0      0      0      0   \n",
       "3   4    50000.0    2          2         1   37      0      0      0      0   \n",
       "4   5    50000.0    1          2         1   57     -1      0     -1      0   \n",
       "\n",
       "   ...  BILL_AMT4  BILL_AMT5  BILL_AMT6  PAY_AMT1  PAY_AMT2  PAY_AMT3  \\\n",
       "0  ...        0.0        0.0        0.0       0.0     689.0       0.0   \n",
       "1  ...     3272.0     3455.0     3261.0       0.0    1000.0    1000.0   \n",
       "2  ...    14331.0    14948.0    15549.0    1518.0    1500.0    1000.0   \n",
       "3  ...    28314.0    28959.0    29547.0    2000.0    2019.0    1200.0   \n",
       "4  ...    20940.0    19146.0    19131.0    2000.0   36681.0   10000.0   \n",
       "\n",
       "   PAY_AMT4  PAY_AMT5  PAY_AMT6  default.payment.next.month  \n",
       "0       0.0       0.0       0.0                           1  \n",
       "1    1000.0       0.0    2000.0                           1  \n",
       "2    1000.0    1000.0    5000.0                           0  \n",
       "3    1100.0    1069.0    1000.0                           0  \n",
       "4    9000.0     689.0     679.0                           0  \n",
       "\n",
       "[5 rows x 25 columns]"
      ]
     },
     "execution_count": 1892,
     "metadata": {},
     "output_type": "execute_result"
    }
   ],
   "source": [
    "credit = pd.read_csv('UCI_Credit_Card.csv')\n",
    "credit.head()"
   ]
  },
  {
   "cell_type": "markdown",
   "metadata": {},
   "source": [
    "**Content:**\n",
    "\n",
    "2005 April - 2005 September (6 months)\n",
    "\n",
    "30,000 rows of observations.\n",
    "\n",
    "There are 25 columns:\n",
    "\n",
    "  * ID: ID of each client\n",
    "  * LIMIT_BAL: Amount of given credit in dollars\n",
    "  * SEX: Gender\n",
    "  * EDUCATION\n",
    "  * MARRIAGE\n",
    "  * AGE\n",
    "  * PAY_0 - PAY_6: Delay status in months (negative numbers are payments in advance)\n",
    "  * BILL_AMT1 - BILL_AMT6: Amount of bill statements in dollars\n",
    "  * PAY_AMT1 - PAY_AMT6: Amount of previous payment in dollars\n",
    "  * Default: Default next month (1=yes, 0=no)"
   ]
  },
  {
   "cell_type": "markdown",
   "metadata": {},
   "source": [
    "## Quick Exploratory Data Analysis"
   ]
  },
  {
   "cell_type": "markdown",
   "metadata": {},
   "source": [
    "Dataset contains 30,000 rows (unique clients) and 25 variables (characteristics)"
   ]
  },
  {
   "cell_type": "code",
   "execution_count": 1893,
   "metadata": {},
   "outputs": [
    {
     "data": {
      "text/plain": [
       "(30000, 25)"
      ]
     },
     "execution_count": 1893,
     "metadata": {},
     "output_type": "execute_result"
    }
   ],
   "source": [
    "credit.shape"
   ]
  },
  {
   "cell_type": "code",
   "execution_count": 1894,
   "metadata": {
    "scrolled": true
   },
   "outputs": [
    {
     "data": {
      "text/plain": [
       "Index(['ID', 'LIMIT_BAL', 'SEX', 'EDUCATION', 'MARRIAGE', 'AGE', 'PAY_0',\n",
       "       'PAY_2', 'PAY_3', 'PAY_4', 'PAY_5', 'PAY_6', 'BILL_AMT1', 'BILL_AMT2',\n",
       "       'BILL_AMT3', 'BILL_AMT4', 'BILL_AMT5', 'BILL_AMT6', 'PAY_AMT1',\n",
       "       'PAY_AMT2', 'PAY_AMT3', 'PAY_AMT4', 'PAY_AMT5', 'PAY_AMT6',\n",
       "       'default.payment.next.month'],\n",
       "      dtype='object')"
      ]
     },
     "execution_count": 1894,
     "metadata": {},
     "output_type": "execute_result"
    }
   ],
   "source": [
    "credit.columns"
   ]
  },
  {
   "cell_type": "markdown",
   "metadata": {},
   "source": [
    "Renaming columns, so they make more sense and easier to read"
   ]
  },
  {
   "cell_type": "code",
   "execution_count": 1895,
   "metadata": {},
   "outputs": [
    {
     "data": {
      "text/html": [
       "<div>\n",
       "<style scoped>\n",
       "    .dataframe tbody tr th:only-of-type {\n",
       "        vertical-align: middle;\n",
       "    }\n",
       "\n",
       "    .dataframe tbody tr th {\n",
       "        vertical-align: top;\n",
       "    }\n",
       "\n",
       "    .dataframe thead th {\n",
       "        text-align: right;\n",
       "    }\n",
       "</style>\n",
       "<table border=\"1\" class=\"dataframe\">\n",
       "  <thead>\n",
       "    <tr style=\"text-align: right;\">\n",
       "      <th></th>\n",
       "      <th>ID</th>\n",
       "      <th>Total credit</th>\n",
       "      <th>Sex</th>\n",
       "      <th>Education</th>\n",
       "      <th>Marriage</th>\n",
       "      <th>Age</th>\n",
       "      <th>Delay September</th>\n",
       "      <th>Delay August</th>\n",
       "      <th>Delay July</th>\n",
       "      <th>Delay June</th>\n",
       "      <th>...</th>\n",
       "      <th>Bill Statement June</th>\n",
       "      <th>Bill Statement May</th>\n",
       "      <th>Bill Statement April</th>\n",
       "      <th>Previous payment September</th>\n",
       "      <th>Previous payment August</th>\n",
       "      <th>Previous payment July</th>\n",
       "      <th>Previous payment June</th>\n",
       "      <th>Previous payment May</th>\n",
       "      <th>Previous payment April</th>\n",
       "      <th>Default</th>\n",
       "    </tr>\n",
       "  </thead>\n",
       "  <tbody>\n",
       "    <tr>\n",
       "      <td>0</td>\n",
       "      <td>1</td>\n",
       "      <td>20000.0</td>\n",
       "      <td>2</td>\n",
       "      <td>2</td>\n",
       "      <td>1</td>\n",
       "      <td>24</td>\n",
       "      <td>2</td>\n",
       "      <td>2</td>\n",
       "      <td>-1</td>\n",
       "      <td>-1</td>\n",
       "      <td>...</td>\n",
       "      <td>0.0</td>\n",
       "      <td>0.0</td>\n",
       "      <td>0.0</td>\n",
       "      <td>0.0</td>\n",
       "      <td>689.0</td>\n",
       "      <td>0.0</td>\n",
       "      <td>0.0</td>\n",
       "      <td>0.0</td>\n",
       "      <td>0.0</td>\n",
       "      <td>1</td>\n",
       "    </tr>\n",
       "    <tr>\n",
       "      <td>1</td>\n",
       "      <td>2</td>\n",
       "      <td>120000.0</td>\n",
       "      <td>2</td>\n",
       "      <td>2</td>\n",
       "      <td>2</td>\n",
       "      <td>26</td>\n",
       "      <td>-1</td>\n",
       "      <td>2</td>\n",
       "      <td>0</td>\n",
       "      <td>0</td>\n",
       "      <td>...</td>\n",
       "      <td>3272.0</td>\n",
       "      <td>3455.0</td>\n",
       "      <td>3261.0</td>\n",
       "      <td>0.0</td>\n",
       "      <td>1000.0</td>\n",
       "      <td>1000.0</td>\n",
       "      <td>1000.0</td>\n",
       "      <td>0.0</td>\n",
       "      <td>2000.0</td>\n",
       "      <td>1</td>\n",
       "    </tr>\n",
       "    <tr>\n",
       "      <td>2</td>\n",
       "      <td>3</td>\n",
       "      <td>90000.0</td>\n",
       "      <td>2</td>\n",
       "      <td>2</td>\n",
       "      <td>2</td>\n",
       "      <td>34</td>\n",
       "      <td>0</td>\n",
       "      <td>0</td>\n",
       "      <td>0</td>\n",
       "      <td>0</td>\n",
       "      <td>...</td>\n",
       "      <td>14331.0</td>\n",
       "      <td>14948.0</td>\n",
       "      <td>15549.0</td>\n",
       "      <td>1518.0</td>\n",
       "      <td>1500.0</td>\n",
       "      <td>1000.0</td>\n",
       "      <td>1000.0</td>\n",
       "      <td>1000.0</td>\n",
       "      <td>5000.0</td>\n",
       "      <td>0</td>\n",
       "    </tr>\n",
       "    <tr>\n",
       "      <td>3</td>\n",
       "      <td>4</td>\n",
       "      <td>50000.0</td>\n",
       "      <td>2</td>\n",
       "      <td>2</td>\n",
       "      <td>1</td>\n",
       "      <td>37</td>\n",
       "      <td>0</td>\n",
       "      <td>0</td>\n",
       "      <td>0</td>\n",
       "      <td>0</td>\n",
       "      <td>...</td>\n",
       "      <td>28314.0</td>\n",
       "      <td>28959.0</td>\n",
       "      <td>29547.0</td>\n",
       "      <td>2000.0</td>\n",
       "      <td>2019.0</td>\n",
       "      <td>1200.0</td>\n",
       "      <td>1100.0</td>\n",
       "      <td>1069.0</td>\n",
       "      <td>1000.0</td>\n",
       "      <td>0</td>\n",
       "    </tr>\n",
       "    <tr>\n",
       "      <td>4</td>\n",
       "      <td>5</td>\n",
       "      <td>50000.0</td>\n",
       "      <td>1</td>\n",
       "      <td>2</td>\n",
       "      <td>1</td>\n",
       "      <td>57</td>\n",
       "      <td>-1</td>\n",
       "      <td>0</td>\n",
       "      <td>-1</td>\n",
       "      <td>0</td>\n",
       "      <td>...</td>\n",
       "      <td>20940.0</td>\n",
       "      <td>19146.0</td>\n",
       "      <td>19131.0</td>\n",
       "      <td>2000.0</td>\n",
       "      <td>36681.0</td>\n",
       "      <td>10000.0</td>\n",
       "      <td>9000.0</td>\n",
       "      <td>689.0</td>\n",
       "      <td>679.0</td>\n",
       "      <td>0</td>\n",
       "    </tr>\n",
       "  </tbody>\n",
       "</table>\n",
       "<p>5 rows × 25 columns</p>\n",
       "</div>"
      ],
      "text/plain": [
       "   ID  Total credit  Sex  Education  Marriage  Age  Delay September  \\\n",
       "0   1       20000.0    2          2         1   24                2   \n",
       "1   2      120000.0    2          2         2   26               -1   \n",
       "2   3       90000.0    2          2         2   34                0   \n",
       "3   4       50000.0    2          2         1   37                0   \n",
       "4   5       50000.0    1          2         1   57               -1   \n",
       "\n",
       "   Delay August  Delay July  Delay June  ...  Bill Statement June  \\\n",
       "0             2          -1          -1  ...                  0.0   \n",
       "1             2           0           0  ...               3272.0   \n",
       "2             0           0           0  ...              14331.0   \n",
       "3             0           0           0  ...              28314.0   \n",
       "4             0          -1           0  ...              20940.0   \n",
       "\n",
       "   Bill Statement May  Bill Statement April  Previous payment September  \\\n",
       "0                 0.0                   0.0                         0.0   \n",
       "1              3455.0                3261.0                         0.0   \n",
       "2             14948.0               15549.0                      1518.0   \n",
       "3             28959.0               29547.0                      2000.0   \n",
       "4             19146.0               19131.0                      2000.0   \n",
       "\n",
       "   Previous payment August  Previous payment July  Previous payment June  \\\n",
       "0                    689.0                    0.0                    0.0   \n",
       "1                   1000.0                 1000.0                 1000.0   \n",
       "2                   1500.0                 1000.0                 1000.0   \n",
       "3                   2019.0                 1200.0                 1100.0   \n",
       "4                  36681.0                10000.0                 9000.0   \n",
       "\n",
       "   Previous payment May  Previous payment April  Default  \n",
       "0                   0.0                     0.0        1  \n",
       "1                   0.0                  2000.0        1  \n",
       "2                1000.0                  5000.0        0  \n",
       "3                1069.0                  1000.0        0  \n",
       "4                 689.0                   679.0        0  \n",
       "\n",
       "[5 rows x 25 columns]"
      ]
     },
     "execution_count": 1895,
     "metadata": {},
     "output_type": "execute_result"
    }
   ],
   "source": [
    "credit.rename(columns={'LIMIT_BAL': 'Total credit', 'SEX': 'Sex', 'EDUCATION':'Education', 'MARRIAGE':'Marriage',\n",
    "                      'AGE':'Age', 'PAY_0':'Delay September', 'PAY_2':'Delay August', \n",
    "                       'PAY_3':'Delay July', 'PAY_4':'Delay June', 'PAY_5':'Delay May', \n",
    "                       'PAY_6': 'Delay April', 'BILL_AMT1':'Bill Statement September', \n",
    "                       'BILL_AMT2':'Bill Statement August', 'BILL_AMT3':'Bill Statement July', \n",
    "                       'BILL_AMT4':'Bill Statement June', 'BILL_AMT5':'Bill Statement May', \n",
    "                       'BILL_AMT6':'Bill Statement April', 'PAY_AMT1':'Previous payment September', \n",
    "                       'PAY_AMT2':'Previous payment August', 'PAY_AMT3':'Previous payment July', \n",
    "                       'PAY_AMT4':'Previous payment June', 'PAY_AMT5':'Previous payment May', \n",
    "                       'PAY_AMT6':'Previous payment April', 'default.payment.next.month':'Default'},\n",
    "             inplace=True)\n",
    "\n",
    "credit.head()"
   ]
  },
  {
   "cell_type": "markdown",
   "metadata": {},
   "source": [
    "Exploring content: checking what types of data we are dealing with. As we can see, all categorical variables\n",
    "are represented with numbers"
   ]
  },
  {
   "cell_type": "code",
   "execution_count": 1896,
   "metadata": {},
   "outputs": [
    {
     "name": "stdout",
     "output_type": "stream",
     "text": [
      "<class 'pandas.core.frame.DataFrame'>\n",
      "RangeIndex: 30000 entries, 0 to 29999\n",
      "Data columns (total 25 columns):\n",
      "ID                            30000 non-null int64\n",
      "Total credit                  30000 non-null float64\n",
      "Sex                           30000 non-null int64\n",
      "Education                     30000 non-null int64\n",
      "Marriage                      30000 non-null int64\n",
      "Age                           30000 non-null int64\n",
      "Delay September               30000 non-null int64\n",
      "Delay August                  30000 non-null int64\n",
      "Delay July                    30000 non-null int64\n",
      "Delay June                    30000 non-null int64\n",
      "Delay May                     30000 non-null int64\n",
      "Delay April                   30000 non-null int64\n",
      "Bill Statement September      30000 non-null float64\n",
      "Bill Statement August         30000 non-null float64\n",
      "Bill Statement July           30000 non-null float64\n",
      "Bill Statement June           30000 non-null float64\n",
      "Bill Statement May            30000 non-null float64\n",
      "Bill Statement April          30000 non-null float64\n",
      "Previous payment September    30000 non-null float64\n",
      "Previous payment August       30000 non-null float64\n",
      "Previous payment July         30000 non-null float64\n",
      "Previous payment June         30000 non-null float64\n",
      "Previous payment May          30000 non-null float64\n",
      "Previous payment April        30000 non-null float64\n",
      "Default                       30000 non-null int64\n",
      "dtypes: float64(13), int64(12)\n",
      "memory usage: 5.7 MB\n"
     ]
    }
   ],
   "source": [
    "credit.info()"
   ]
  },
  {
   "cell_type": "markdown",
   "metadata": {},
   "source": [
    "Checking for missing values, however, all are values are represented with numbers, so maybe missing values\n",
    "are represented with 0 (if undocumented). We will have to explore this later"
   ]
  },
  {
   "cell_type": "code",
   "execution_count": 1898,
   "metadata": {},
   "outputs": [
    {
     "data": {
      "text/plain": [
       "ID                            0\n",
       "Total credit                  0\n",
       "Sex                           0\n",
       "Education                     0\n",
       "Marriage                      0\n",
       "Age                           0\n",
       "Delay September               0\n",
       "Delay August                  0\n",
       "Delay July                    0\n",
       "Delay June                    0\n",
       "Delay May                     0\n",
       "Delay April                   0\n",
       "Bill Statement September      0\n",
       "Bill Statement August         0\n",
       "Bill Statement July           0\n",
       "Bill Statement June           0\n",
       "Bill Statement May            0\n",
       "Bill Statement April          0\n",
       "Previous payment September    0\n",
       "Previous payment August       0\n",
       "Previous payment July         0\n",
       "Previous payment June         0\n",
       "Previous payment May          0\n",
       "Previous payment April        0\n",
       "Default                       0\n",
       "dtype: int64"
      ]
     },
     "execution_count": 1898,
     "metadata": {},
     "output_type": "execute_result"
    }
   ],
   "source": [
    "# No missing values\n",
    "\n",
    "credit.isnull().sum()"
   ]
  },
  {
   "cell_type": "markdown",
   "metadata": {},
   "source": [
    "## BUSINESS PROBLEM\n",
    "There is a very high rate of defaults - 22% of all customers fail to pay their bills.\n",
    "The task is to identify what parameters causes them to default: perform customer classification.\n",
    "Create a logistic regression model which will help to predict defaults."
   ]
  },
  {
   "cell_type": "code",
   "execution_count": 1899,
   "metadata": {},
   "outputs": [
    {
     "data": {
      "text/plain": [
       "0    23364\n",
       "1     6636\n",
       "Name: Default, dtype: int64"
      ]
     },
     "execution_count": 1899,
     "metadata": {},
     "output_type": "execute_result"
    }
   ],
   "source": [
    "credit['Default'].value_counts().sort_values(ascending=False)"
   ]
  },
  {
   "cell_type": "code",
   "execution_count": 1900,
   "metadata": {
    "scrolled": true
   },
   "outputs": [
    {
     "data": {
      "text/plain": [
       "<matplotlib.axes._subplots.AxesSubplot at 0x1aaba8fc90>"
      ]
     },
     "execution_count": 1900,
     "metadata": {},
     "output_type": "execute_result"
    },
    {
     "data": {
      "image/png": "[encoded data removed]",
      "text/plain": [
       "<Figure size 432x288 with 1 Axes>"
      ]
     },
     "metadata": {},
     "output_type": "display_data"
    }
   ],
   "source": [
    "credit['Default'].value_counts().plot(kind = 'pie')"
   ]
  },
  {
   "cell_type": "code",
   "execution_count": 1901,
   "metadata": {},
   "outputs": [
    {
     "data": {
      "text/plain": [
       "0    0.7788\n",
       "1    0.2212\n",
       "Name: Default, dtype: float64"
      ]
     },
     "execution_count": 1901,
     "metadata": {},
     "output_type": "execute_result"
    }
   ],
   "source": [
    "credit['Default'].value_counts(normalize=True).sort_values(ascending=False)"
   ]
  },
  {
   "cell_type": "markdown",
   "metadata": {},
   "source": [
    "Quick characteristics of class default by looking at the mean differences between two classes:\n",
    "\n",
    "  * Total credit sum is smaller\n",
    "  * Tendency to delay payments\n",
    "  * Amounts of payments are lower"
   ]
  },
  {
   "cell_type": "code",
   "execution_count": 1902,
   "metadata": {},
   "outputs": [
    {
     "data": {
      "text/html": [
       "<div>\n",
       "<style scoped>\n",
       "    .dataframe tbody tr th:only-of-type {\n",
       "        vertical-align: middle;\n",
       "    }\n",
       "\n",
       "    .dataframe tbody tr th {\n",
       "        vertical-align: top;\n",
       "    }\n",
       "\n",
       "    .dataframe thead th {\n",
       "        text-align: right;\n",
       "    }\n",
       "</style>\n",
       "<table border=\"1\" class=\"dataframe\">\n",
       "  <thead>\n",
       "    <tr style=\"text-align: right;\">\n",
       "      <th></th>\n",
       "      <th>ID</th>\n",
       "      <th>Total credit</th>\n",
       "      <th>Sex</th>\n",
       "      <th>Education</th>\n",
       "      <th>Marriage</th>\n",
       "      <th>Age</th>\n",
       "      <th>Delay September</th>\n",
       "      <th>Delay August</th>\n",
       "      <th>Delay July</th>\n",
       "      <th>Delay June</th>\n",
       "      <th>...</th>\n",
       "      <th>Bill Statement July</th>\n",
       "      <th>Bill Statement June</th>\n",
       "      <th>Bill Statement May</th>\n",
       "      <th>Bill Statement April</th>\n",
       "      <th>Previous payment September</th>\n",
       "      <th>Previous payment August</th>\n",
       "      <th>Previous payment July</th>\n",
       "      <th>Previous payment June</th>\n",
       "      <th>Previous payment May</th>\n",
       "      <th>Previous payment April</th>\n",
       "    </tr>\n",
       "    <tr>\n",
       "      <th>Default</th>\n",
       "      <th></th>\n",
       "      <th></th>\n",
       "      <th></th>\n",
       "      <th></th>\n",
       "      <th></th>\n",
       "      <th></th>\n",
       "      <th></th>\n",
       "      <th></th>\n",
       "      <th></th>\n",
       "      <th></th>\n",
       "      <th></th>\n",
       "      <th></th>\n",
       "      <th></th>\n",
       "      <th></th>\n",
       "      <th></th>\n",
       "      <th></th>\n",
       "      <th></th>\n",
       "      <th></th>\n",
       "      <th></th>\n",
       "      <th></th>\n",
       "      <th></th>\n",
       "    </tr>\n",
       "  </thead>\n",
       "  <tbody>\n",
       "    <tr>\n",
       "      <td>0</td>\n",
       "      <td>15064.893982</td>\n",
       "      <td>178099.726074</td>\n",
       "      <td>1.614150</td>\n",
       "      <td>1.841337</td>\n",
       "      <td>1.558637</td>\n",
       "      <td>35.417266</td>\n",
       "      <td>-0.211222</td>\n",
       "      <td>-0.301917</td>\n",
       "      <td>-0.316256</td>\n",
       "      <td>-0.355633</td>\n",
       "      <td>...</td>\n",
       "      <td>47533.365605</td>\n",
       "      <td>43611.165254</td>\n",
       "      <td>40530.445343</td>\n",
       "      <td>39042.268704</td>\n",
       "      <td>6307.337357</td>\n",
       "      <td>6640.465074</td>\n",
       "      <td>5753.496833</td>\n",
       "      <td>5300.529319</td>\n",
       "      <td>5248.220296</td>\n",
       "      <td>5719.371769</td>\n",
       "    </tr>\n",
       "    <tr>\n",
       "      <td>1</td>\n",
       "      <td>14773.781947</td>\n",
       "      <td>130109.656420</td>\n",
       "      <td>1.567058</td>\n",
       "      <td>1.894665</td>\n",
       "      <td>1.528029</td>\n",
       "      <td>35.725738</td>\n",
       "      <td>0.668174</td>\n",
       "      <td>0.458258</td>\n",
       "      <td>0.362116</td>\n",
       "      <td>0.254521</td>\n",
       "      <td>...</td>\n",
       "      <td>45181.598855</td>\n",
       "      <td>42036.950573</td>\n",
       "      <td>39540.190476</td>\n",
       "      <td>38271.435503</td>\n",
       "      <td>3397.044153</td>\n",
       "      <td>3388.649638</td>\n",
       "      <td>3367.351567</td>\n",
       "      <td>3155.626733</td>\n",
       "      <td>3219.139542</td>\n",
       "      <td>3441.482068</td>\n",
       "    </tr>\n",
       "  </tbody>\n",
       "</table>\n",
       "<p>2 rows × 24 columns</p>\n",
       "</div>"
      ],
      "text/plain": [
       "                   ID   Total credit       Sex  Education  Marriage  \\\n",
       "Default                                                               \n",
       "0        15064.893982  178099.726074  1.614150   1.841337  1.558637   \n",
       "1        14773.781947  130109.656420  1.567058   1.894665  1.528029   \n",
       "\n",
       "               Age  Delay September  Delay August  Delay July  Delay June  \\\n",
       "Default                                                                     \n",
       "0        35.417266        -0.211222     -0.301917   -0.316256   -0.355633   \n",
       "1        35.725738         0.668174      0.458258    0.362116    0.254521   \n",
       "\n",
       "         ...  Bill Statement July  Bill Statement June  Bill Statement May  \\\n",
       "Default  ...                                                                 \n",
       "0        ...         47533.365605         43611.165254        40530.445343   \n",
       "1        ...         45181.598855         42036.950573        39540.190476   \n",
       "\n",
       "         Bill Statement April  Previous payment September  \\\n",
       "Default                                                     \n",
       "0                39042.268704                 6307.337357   \n",
       "1                38271.435503                 3397.044153   \n",
       "\n",
       "         Previous payment August  Previous payment July  \\\n",
       "Default                                                   \n",
       "0                    6640.465074            5753.496833   \n",
       "1                    3388.649638            3367.351567   \n",
       "\n",
       "         Previous payment June  Previous payment May  Previous payment April  \n",
       "Default                                                                       \n",
       "0                  5300.529319           5248.220296             5719.371769  \n",
       "1                  3155.626733           3219.139542             3441.482068  \n",
       "\n",
       "[2 rows x 24 columns]"
      ]
     },
     "execution_count": 1902,
     "metadata": {},
     "output_type": "execute_result"
    }
   ],
   "source": [
    "means = credit.groupby(by=['Default']).mean()\n",
    "means"
   ]
  },
  {
   "cell_type": "markdown",
   "metadata": {},
   "source": [
    "## EDA + DATA CLEANING"
   ]
  },
  {
   "cell_type": "markdown",
   "metadata": {},
   "source": [
    "### CATEGORICAL VARIABLES: \n",
    "### 1. SEX"
   ]
  },
  {
   "cell_type": "markdown",
   "metadata": {},
   "source": [
    "Though we can't use sex variable for modeling due to legal issues, we can still explore it for some insights."
   ]
  },
  {
   "cell_type": "markdown",
   "metadata": {},
   "source": [
    "According to documentation:\n",
    "  * 1 for male\n",
    "  * 2 for female\n",
    "\n",
    "Lets see if we don't have any other values:"
   ]
  },
  {
   "cell_type": "code",
   "execution_count": 1903,
   "metadata": {
    "scrolled": true
   },
   "outputs": [
    {
     "data": {
      "text/plain": [
       "array([2, 1])"
      ]
     },
     "execution_count": 1903,
     "metadata": {},
     "output_type": "execute_result"
    }
   ],
   "source": [
    "credit['Sex'].unique()"
   ]
  },
  {
   "cell_type": "markdown",
   "metadata": {},
   "source": [
    "Mapping for clarity (I will change it back after EDA):"
   ]
  },
  {
   "cell_type": "code",
   "execution_count": 1904,
   "metadata": {},
   "outputs": [
    {
     "data": {
      "text/html": [
       "<div>\n",
       "<style scoped>\n",
       "    .dataframe tbody tr th:only-of-type {\n",
       "        vertical-align: middle;\n",
       "    }\n",
       "\n",
       "    .dataframe tbody tr th {\n",
       "        vertical-align: top;\n",
       "    }\n",
       "\n",
       "    .dataframe thead th {\n",
       "        text-align: right;\n",
       "    }\n",
       "</style>\n",
       "<table border=\"1\" class=\"dataframe\">\n",
       "  <thead>\n",
       "    <tr style=\"text-align: right;\">\n",
       "      <th></th>\n",
       "      <th>ID</th>\n",
       "      <th>Total credit</th>\n",
       "      <th>Sex</th>\n",
       "      <th>Education</th>\n",
       "      <th>Marriage</th>\n",
       "      <th>Age</th>\n",
       "      <th>Delay September</th>\n",
       "      <th>Delay August</th>\n",
       "      <th>Delay July</th>\n",
       "      <th>Delay June</th>\n",
       "      <th>...</th>\n",
       "      <th>Bill Statement June</th>\n",
       "      <th>Bill Statement May</th>\n",
       "      <th>Bill Statement April</th>\n",
       "      <th>Previous payment September</th>\n",
       "      <th>Previous payment August</th>\n",
       "      <th>Previous payment July</th>\n",
       "      <th>Previous payment June</th>\n",
       "      <th>Previous payment May</th>\n",
       "      <th>Previous payment April</th>\n",
       "      <th>Default</th>\n",
       "    </tr>\n",
       "  </thead>\n",
       "  <tbody>\n",
       "    <tr>\n",
       "      <td>0</td>\n",
       "      <td>1</td>\n",
       "      <td>20000.0</td>\n",
       "      <td>Female</td>\n",
       "      <td>2</td>\n",
       "      <td>1</td>\n",
       "      <td>24</td>\n",
       "      <td>2</td>\n",
       "      <td>2</td>\n",
       "      <td>-1</td>\n",
       "      <td>-1</td>\n",
       "      <td>...</td>\n",
       "      <td>0.0</td>\n",
       "      <td>0.0</td>\n",
       "      <td>0.0</td>\n",
       "      <td>0.0</td>\n",
       "      <td>689.0</td>\n",
       "      <td>0.0</td>\n",
       "      <td>0.0</td>\n",
       "      <td>0.0</td>\n",
       "      <td>0.0</td>\n",
       "      <td>1</td>\n",
       "    </tr>\n",
       "    <tr>\n",
       "      <td>1</td>\n",
       "      <td>2</td>\n",
       "      <td>120000.0</td>\n",
       "      <td>Female</td>\n",
       "      <td>2</td>\n",
       "      <td>2</td>\n",
       "      <td>26</td>\n",
       "      <td>-1</td>\n",
       "      <td>2</td>\n",
       "      <td>0</td>\n",
       "      <td>0</td>\n",
       "      <td>...</td>\n",
       "      <td>3272.0</td>\n",
       "      <td>3455.0</td>\n",
       "      <td>3261.0</td>\n",
       "      <td>0.0</td>\n",
       "      <td>1000.0</td>\n",
       "      <td>1000.0</td>\n",
       "      <td>1000.0</td>\n",
       "      <td>0.0</td>\n",
       "      <td>2000.0</td>\n",
       "      <td>1</td>\n",
       "    </tr>\n",
       "    <tr>\n",
       "      <td>2</td>\n",
       "      <td>3</td>\n",
       "      <td>90000.0</td>\n",
       "      <td>Female</td>\n",
       "      <td>2</td>\n",
       "      <td>2</td>\n",
       "      <td>34</td>\n",
       "      <td>0</td>\n",
       "      <td>0</td>\n",
       "      <td>0</td>\n",
       "      <td>0</td>\n",
       "      <td>...</td>\n",
       "      <td>14331.0</td>\n",
       "      <td>14948.0</td>\n",
       "      <td>15549.0</td>\n",
       "      <td>1518.0</td>\n",
       "      <td>1500.0</td>\n",
       "      <td>1000.0</td>\n",
       "      <td>1000.0</td>\n",
       "      <td>1000.0</td>\n",
       "      <td>5000.0</td>\n",
       "      <td>0</td>\n",
       "    </tr>\n",
       "    <tr>\n",
       "      <td>3</td>\n",
       "      <td>4</td>\n",
       "      <td>50000.0</td>\n",
       "      <td>Female</td>\n",
       "      <td>2</td>\n",
       "      <td>1</td>\n",
       "      <td>37</td>\n",
       "      <td>0</td>\n",
       "      <td>0</td>\n",
       "      <td>0</td>\n",
       "      <td>0</td>\n",
       "      <td>...</td>\n",
       "      <td>28314.0</td>\n",
       "      <td>28959.0</td>\n",
       "      <td>29547.0</td>\n",
       "      <td>2000.0</td>\n",
       "      <td>2019.0</td>\n",
       "      <td>1200.0</td>\n",
       "      <td>1100.0</td>\n",
       "      <td>1069.0</td>\n",
       "      <td>1000.0</td>\n",
       "      <td>0</td>\n",
       "    </tr>\n",
       "    <tr>\n",
       "      <td>4</td>\n",
       "      <td>5</td>\n",
       "      <td>50000.0</td>\n",
       "      <td>Male</td>\n",
       "      <td>2</td>\n",
       "      <td>1</td>\n",
       "      <td>57</td>\n",
       "      <td>-1</td>\n",
       "      <td>0</td>\n",
       "      <td>-1</td>\n",
       "      <td>0</td>\n",
       "      <td>...</td>\n",
       "      <td>20940.0</td>\n",
       "      <td>19146.0</td>\n",
       "      <td>19131.0</td>\n",
       "      <td>2000.0</td>\n",
       "      <td>36681.0</td>\n",
       "      <td>10000.0</td>\n",
       "      <td>9000.0</td>\n",
       "      <td>689.0</td>\n",
       "      <td>679.0</td>\n",
       "      <td>0</td>\n",
       "    </tr>\n",
       "  </tbody>\n",
       "</table>\n",
       "<p>5 rows × 25 columns</p>\n",
       "</div>"
      ],
      "text/plain": [
       "   ID  Total credit     Sex  Education  Marriage  Age  Delay September  \\\n",
       "0   1       20000.0  Female          2         1   24                2   \n",
       "1   2      120000.0  Female          2         2   26               -1   \n",
       "2   3       90000.0  Female          2         2   34                0   \n",
       "3   4       50000.0  Female          2         1   37                0   \n",
       "4   5       50000.0    Male          2         1   57               -1   \n",
       "\n",
       "   Delay August  Delay July  Delay June  ...  Bill Statement June  \\\n",
       "0             2          -1          -1  ...                  0.0   \n",
       "1             2           0           0  ...               3272.0   \n",
       "2             0           0           0  ...              14331.0   \n",
       "3             0           0           0  ...              28314.0   \n",
       "4             0          -1           0  ...              20940.0   \n",
       "\n",
       "   Bill Statement May  Bill Statement April  Previous payment September  \\\n",
       "0                 0.0                   0.0                         0.0   \n",
       "1              3455.0                3261.0                         0.0   \n",
       "2             14948.0               15549.0                      1518.0   \n",
       "3             28959.0               29547.0                      2000.0   \n",
       "4             19146.0               19131.0                      2000.0   \n",
       "\n",
       "   Previous payment August  Previous payment July  Previous payment June  \\\n",
       "0                    689.0                    0.0                    0.0   \n",
       "1                   1000.0                 1000.0                 1000.0   \n",
       "2                   1500.0                 1000.0                 1000.0   \n",
       "3                   2019.0                 1200.0                 1100.0   \n",
       "4                  36681.0                10000.0                 9000.0   \n",
       "\n",
       "   Previous payment May  Previous payment April  Default  \n",
       "0                   0.0                     0.0        1  \n",
       "1                   0.0                  2000.0        1  \n",
       "2                1000.0                  5000.0        0  \n",
       "3                1069.0                  1000.0        0  \n",
       "4                 689.0                   679.0        0  \n",
       "\n",
       "[5 rows x 25 columns]"
      ]
     },
     "execution_count": 1904,
     "metadata": {},
     "output_type": "execute_result"
    }
   ],
   "source": [
    "c = {1:'Male', 2:'Female'}\n",
    "credit['Sex'] = credit['Sex'].map(c)\n",
    "credit.head()"
   ]
  },
  {
   "cell_type": "markdown",
   "metadata": {},
   "source": [
    "**Quick statistics:** Dataset consist of:\n",
    "  * 60% females\n",
    "  * 40% males"
   ]
  },
  {
   "cell_type": "code",
   "execution_count": 1905,
   "metadata": {},
   "outputs": [
    {
     "data": {
      "text/plain": [
       "Female    0.603733\n",
       "Male      0.396267\n",
       "Name: Sex, dtype: float64"
      ]
     },
     "execution_count": 1905,
     "metadata": {},
     "output_type": "execute_result"
    }
   ],
   "source": [
    "credit['Sex'].value_counts(normalize=True)"
   ]
  },
  {
   "cell_type": "markdown",
   "metadata": {},
   "source": [
    "**Sex and Default:**\n",
    "  * Men are more likely to default than women"
   ]
  },
  {
   "cell_type": "code",
   "execution_count": 1906,
   "metadata": {
    "scrolled": true
   },
   "outputs": [
    {
     "data": {
      "text/plain": [
       "<matplotlib.axes._subplots.AxesSubplot at 0x1aac56a810>"
      ]
     },
     "execution_count": 1906,
     "metadata": {},
     "output_type": "execute_result"
    },
    {
     "data": {
      "image/png": "[encoded data removed]",
      "text/plain": [
       "<Figure size 432x288 with 1 Axes>"
      ]
     },
     "metadata": {
      "needs_background": "light"
     },
     "output_type": "display_data"
    }
   ],
   "source": [
    "sns.barplot(x='Sex', y = 'Default', data=credit, order=['Male', 'Female'])"
   ]
  },
  {
   "cell_type": "markdown",
   "metadata": {},
   "source": [
    "**COMPARISON OF MEANS**\n",
    "\n",
    "  There are no significant differences among **continuous variables** between men and women.\n",
    "  However, there is a slight difference in Total Credit amount:\n",
    "  * Women tend to have bigger credits"
   ]
  },
  {
   "cell_type": "code",
   "execution_count": 1907,
   "metadata": {
    "scrolled": true
   },
   "outputs": [
    {
     "data": {
      "text/plain": [
       "Sex\n",
       "Female    170086.462014\n",
       "Male      163519.825034\n",
       "Name: Total credit, dtype: float64"
      ]
     },
     "execution_count": 1907,
     "metadata": {},
     "output_type": "execute_result"
    }
   ],
   "source": [
    "sex_means1 = credit.groupby(by=['Sex'])['Total credit'].mean()\n",
    "sex_means1"
   ]
  },
  {
   "cell_type": "markdown",
   "metadata": {},
   "source": [
    "**Categorical variables:**\n",
    "  * Women tend to pay in advance (all negative results)\n",
    "  * Delays in September among men\n",
    "  * More of less same results"
   ]
  },
  {
   "cell_type": "code",
   "execution_count": 1908,
   "metadata": {},
   "outputs": [
    {
     "data": {
      "text/html": [
       "<div>\n",
       "<style scoped>\n",
       "    .dataframe tbody tr th:only-of-type {\n",
       "        vertical-align: middle;\n",
       "    }\n",
       "\n",
       "    .dataframe tbody tr th {\n",
       "        vertical-align: top;\n",
       "    }\n",
       "\n",
       "    .dataframe thead th {\n",
       "        text-align: right;\n",
       "    }\n",
       "</style>\n",
       "<table border=\"1\" class=\"dataframe\">\n",
       "  <thead>\n",
       "    <tr style=\"text-align: right;\">\n",
       "      <th></th>\n",
       "      <th>Delay September</th>\n",
       "      <th>Delay August</th>\n",
       "      <th>Delay July</th>\n",
       "      <th>Delay June</th>\n",
       "      <th>Delay May</th>\n",
       "      <th>Delay April</th>\n",
       "    </tr>\n",
       "    <tr>\n",
       "      <th>Sex</th>\n",
       "      <th></th>\n",
       "      <th></th>\n",
       "      <th></th>\n",
       "      <th></th>\n",
       "      <th></th>\n",
       "      <th></th>\n",
       "    </tr>\n",
       "  </thead>\n",
       "  <tbody>\n",
       "    <tr>\n",
       "      <td>Female</td>\n",
       "      <td>-0.069181</td>\n",
       "      <td>-0.202407</td>\n",
       "      <td>-0.230289</td>\n",
       "      <td>-0.277661</td>\n",
       "      <td>-0.316751</td>\n",
       "      <td>-0.332100</td>\n",
       "    </tr>\n",
       "    <tr>\n",
       "      <td>Male</td>\n",
       "      <td>0.063257</td>\n",
       "      <td>-0.029189</td>\n",
       "      <td>-0.068557</td>\n",
       "      <td>-0.133832</td>\n",
       "      <td>-0.189182</td>\n",
       "      <td>-0.228634</td>\n",
       "    </tr>\n",
       "  </tbody>\n",
       "</table>\n",
       "</div>"
      ],
      "text/plain": [
       "        Delay September  Delay August  Delay July  Delay June  Delay May  \\\n",
       "Sex                                                                        \n",
       "Female        -0.069181     -0.202407   -0.230289   -0.277661  -0.316751   \n",
       "Male           0.063257     -0.029189   -0.068557   -0.133832  -0.189182   \n",
       "\n",
       "        Delay April  \n",
       "Sex                  \n",
       "Female    -0.332100  \n",
       "Male      -0.228634  "
      ]
     },
     "execution_count": 1908,
     "metadata": {},
     "output_type": "execute_result"
    }
   ],
   "source": [
    "sex_means2 = credit.groupby(by=['Sex'])['Delay September', 'Delay August', 'Delay July', 'Delay June',\n",
    "       'Delay May', 'Delay April'].mean()\n",
    "sex_means2"
   ]
  },
  {
   "cell_type": "code",
   "execution_count": 1909,
   "metadata": {},
   "outputs": [
    {
     "data": {
      "text/plain": [
       "<matplotlib.axes._subplots.AxesSubplot at 0x1aad5925d0>"
      ]
     },
     "execution_count": 1909,
     "metadata": {},
     "output_type": "execute_result"
    },
    {
     "data": {
      "image/png": "[encoded data removed]",
      "text/plain": [
       "<Figure size 864x432 with 1 Axes>"
      ]
     },
     "metadata": {
      "needs_background": "light"
     },
     "output_type": "display_data"
    }
   ],
   "source": [
    "sex_means2.plot(kind='bar', figsize=(12,6))"
   ]
  },
  {
   "cell_type": "markdown",
   "metadata": {},
   "source": [
    "### 2. MARRIAGE"
   ]
  },
  {
   "cell_type": "markdown",
   "metadata": {},
   "source": [
    "According to documentation, interpretation of values is:\n",
    "  * 1 for married \n",
    "  * 2 for single\n",
    "  * 3 for others (divorced, widowed, etc.)"
   ]
  },
  {
   "cell_type": "markdown",
   "metadata": {},
   "source": [
    "However if we check unique values of marital status, we will spot undocumented value 0.\n",
    "  It can be a missing value, unknown marital status."
   ]
  },
  {
   "cell_type": "code",
   "execution_count": 1910,
   "metadata": {},
   "outputs": [
    {
     "data": {
      "text/plain": [
       "array([1, 2, 3, 0])"
      ]
     },
     "execution_count": 1910,
     "metadata": {},
     "output_type": "execute_result"
    }
   ],
   "source": [
    "credit['Marriage'].unique()"
   ]
  },
  {
   "cell_type": "markdown",
   "metadata": {},
   "source": [
    "There are only 54 of these values among 30,000, so it is not that bad"
   ]
  },
  {
   "cell_type": "code",
   "execution_count": 1911,
   "metadata": {
    "scrolled": false
   },
   "outputs": [
    {
     "data": {
      "text/plain": [
       "False    29946\n",
       "True        54\n",
       "Name: Marriage, dtype: int64"
      ]
     },
     "execution_count": 1911,
     "metadata": {},
     "output_type": "execute_result"
    }
   ],
   "source": [
    "(credit['Marriage'] == 0).value_counts()"
   ]
  },
  {
   "cell_type": "markdown",
   "metadata": {},
   "source": [
    "**Dealing with undocumented values:**\n",
    "\n",
    "I have joined unknown '0' values with others - '3'"
   ]
  },
  {
   "cell_type": "code",
   "execution_count": 1912,
   "metadata": {},
   "outputs": [
    {
     "data": {
      "text/plain": [
       "2    15964\n",
       "1    13659\n",
       "0      377\n",
       "Name: Marriage, dtype: int64"
      ]
     },
     "execution_count": 1912,
     "metadata": {},
     "output_type": "execute_result"
    }
   ],
   "source": [
    "unknown_m = (credit['Marriage'] == 3)\n",
    "credit.loc[unknown_m, 'Marriage'] = 0\n",
    "credit['Marriage'].value_counts()"
   ]
  },
  {
   "cell_type": "markdown",
   "metadata": {},
   "source": [
    "Mapping to meaningful labels:"
   ]
  },
  {
   "cell_type": "code",
   "execution_count": 1913,
   "metadata": {},
   "outputs": [
    {
     "data": {
      "text/html": [
       "<div>\n",
       "<style scoped>\n",
       "    .dataframe tbody tr th:only-of-type {\n",
       "        vertical-align: middle;\n",
       "    }\n",
       "\n",
       "    .dataframe tbody tr th {\n",
       "        vertical-align: top;\n",
       "    }\n",
       "\n",
       "    .dataframe thead th {\n",
       "        text-align: right;\n",
       "    }\n",
       "</style>\n",
       "<table border=\"1\" class=\"dataframe\">\n",
       "  <thead>\n",
       "    <tr style=\"text-align: right;\">\n",
       "      <th></th>\n",
       "      <th>ID</th>\n",
       "      <th>Total credit</th>\n",
       "      <th>Sex</th>\n",
       "      <th>Education</th>\n",
       "      <th>Marriage</th>\n",
       "      <th>Age</th>\n",
       "      <th>Delay September</th>\n",
       "      <th>Delay August</th>\n",
       "      <th>Delay July</th>\n",
       "      <th>Delay June</th>\n",
       "      <th>...</th>\n",
       "      <th>Bill Statement June</th>\n",
       "      <th>Bill Statement May</th>\n",
       "      <th>Bill Statement April</th>\n",
       "      <th>Previous payment September</th>\n",
       "      <th>Previous payment August</th>\n",
       "      <th>Previous payment July</th>\n",
       "      <th>Previous payment June</th>\n",
       "      <th>Previous payment May</th>\n",
       "      <th>Previous payment April</th>\n",
       "      <th>Default</th>\n",
       "    </tr>\n",
       "  </thead>\n",
       "  <tbody>\n",
       "    <tr>\n",
       "      <td>0</td>\n",
       "      <td>1</td>\n",
       "      <td>20000.0</td>\n",
       "      <td>Female</td>\n",
       "      <td>2</td>\n",
       "      <td>Married</td>\n",
       "      <td>24</td>\n",
       "      <td>2</td>\n",
       "      <td>2</td>\n",
       "      <td>-1</td>\n",
       "      <td>-1</td>\n",
       "      <td>...</td>\n",
       "      <td>0.0</td>\n",
       "      <td>0.0</td>\n",
       "      <td>0.0</td>\n",
       "      <td>0.0</td>\n",
       "      <td>689.0</td>\n",
       "      <td>0.0</td>\n",
       "      <td>0.0</td>\n",
       "      <td>0.0</td>\n",
       "      <td>0.0</td>\n",
       "      <td>1</td>\n",
       "    </tr>\n",
       "    <tr>\n",
       "      <td>1</td>\n",
       "      <td>2</td>\n",
       "      <td>120000.0</td>\n",
       "      <td>Female</td>\n",
       "      <td>2</td>\n",
       "      <td>Single</td>\n",
       "      <td>26</td>\n",
       "      <td>-1</td>\n",
       "      <td>2</td>\n",
       "      <td>0</td>\n",
       "      <td>0</td>\n",
       "      <td>...</td>\n",
       "      <td>3272.0</td>\n",
       "      <td>3455.0</td>\n",
       "      <td>3261.0</td>\n",
       "      <td>0.0</td>\n",
       "      <td>1000.0</td>\n",
       "      <td>1000.0</td>\n",
       "      <td>1000.0</td>\n",
       "      <td>0.0</td>\n",
       "      <td>2000.0</td>\n",
       "      <td>1</td>\n",
       "    </tr>\n",
       "    <tr>\n",
       "      <td>2</td>\n",
       "      <td>3</td>\n",
       "      <td>90000.0</td>\n",
       "      <td>Female</td>\n",
       "      <td>2</td>\n",
       "      <td>Single</td>\n",
       "      <td>34</td>\n",
       "      <td>0</td>\n",
       "      <td>0</td>\n",
       "      <td>0</td>\n",
       "      <td>0</td>\n",
       "      <td>...</td>\n",
       "      <td>14331.0</td>\n",
       "      <td>14948.0</td>\n",
       "      <td>15549.0</td>\n",
       "      <td>1518.0</td>\n",
       "      <td>1500.0</td>\n",
       "      <td>1000.0</td>\n",
       "      <td>1000.0</td>\n",
       "      <td>1000.0</td>\n",
       "      <td>5000.0</td>\n",
       "      <td>0</td>\n",
       "    </tr>\n",
       "    <tr>\n",
       "      <td>3</td>\n",
       "      <td>4</td>\n",
       "      <td>50000.0</td>\n",
       "      <td>Female</td>\n",
       "      <td>2</td>\n",
       "      <td>Married</td>\n",
       "      <td>37</td>\n",
       "      <td>0</td>\n",
       "      <td>0</td>\n",
       "      <td>0</td>\n",
       "      <td>0</td>\n",
       "      <td>...</td>\n",
       "      <td>28314.0</td>\n",
       "      <td>28959.0</td>\n",
       "      <td>29547.0</td>\n",
       "      <td>2000.0</td>\n",
       "      <td>2019.0</td>\n",
       "      <td>1200.0</td>\n",
       "      <td>1100.0</td>\n",
       "      <td>1069.0</td>\n",
       "      <td>1000.0</td>\n",
       "      <td>0</td>\n",
       "    </tr>\n",
       "    <tr>\n",
       "      <td>4</td>\n",
       "      <td>5</td>\n",
       "      <td>50000.0</td>\n",
       "      <td>Male</td>\n",
       "      <td>2</td>\n",
       "      <td>Married</td>\n",
       "      <td>57</td>\n",
       "      <td>-1</td>\n",
       "      <td>0</td>\n",
       "      <td>-1</td>\n",
       "      <td>0</td>\n",
       "      <td>...</td>\n",
       "      <td>20940.0</td>\n",
       "      <td>19146.0</td>\n",
       "      <td>19131.0</td>\n",
       "      <td>2000.0</td>\n",
       "      <td>36681.0</td>\n",
       "      <td>10000.0</td>\n",
       "      <td>9000.0</td>\n",
       "      <td>689.0</td>\n",
       "      <td>679.0</td>\n",
       "      <td>0</td>\n",
       "    </tr>\n",
       "  </tbody>\n",
       "</table>\n",
       "<p>5 rows × 25 columns</p>\n",
       "</div>"
      ],
      "text/plain": [
       "   ID  Total credit     Sex  Education Marriage  Age  Delay September  \\\n",
       "0   1       20000.0  Female          2  Married   24                2   \n",
       "1   2      120000.0  Female          2   Single   26               -1   \n",
       "2   3       90000.0  Female          2   Single   34                0   \n",
       "3   4       50000.0  Female          2  Married   37                0   \n",
       "4   5       50000.0    Male          2  Married   57               -1   \n",
       "\n",
       "   Delay August  Delay July  Delay June  ...  Bill Statement June  \\\n",
       "0             2          -1          -1  ...                  0.0   \n",
       "1             2           0           0  ...               3272.0   \n",
       "2             0           0           0  ...              14331.0   \n",
       "3             0           0           0  ...              28314.0   \n",
       "4             0          -1           0  ...              20940.0   \n",
       "\n",
       "   Bill Statement May  Bill Statement April  Previous payment September  \\\n",
       "0                 0.0                   0.0                         0.0   \n",
       "1              3455.0                3261.0                         0.0   \n",
       "2             14948.0               15549.0                      1518.0   \n",
       "3             28959.0               29547.0                      2000.0   \n",
       "4             19146.0               19131.0                      2000.0   \n",
       "\n",
       "   Previous payment August  Previous payment July  Previous payment June  \\\n",
       "0                    689.0                    0.0                    0.0   \n",
       "1                   1000.0                 1000.0                 1000.0   \n",
       "2                   1500.0                 1000.0                 1000.0   \n",
       "3                   2019.0                 1200.0                 1100.0   \n",
       "4                  36681.0                10000.0                 9000.0   \n",
       "\n",
       "   Previous payment May  Previous payment April  Default  \n",
       "0                   0.0                     0.0        1  \n",
       "1                   0.0                  2000.0        1  \n",
       "2                1000.0                  5000.0        0  \n",
       "3                1069.0                  1000.0        0  \n",
       "4                 689.0                   679.0        0  \n",
       "\n",
       "[5 rows x 25 columns]"
      ]
     },
     "execution_count": 1913,
     "metadata": {},
     "output_type": "execute_result"
    }
   ],
   "source": [
    "m = {0:'Others', 1: 'Married', 2: 'Single'}\n",
    "credit['Marriage'] = credit['Marriage'].map(m)\n",
    "credit.head()"
   ]
  },
  {
   "cell_type": "markdown",
   "metadata": {},
   "source": [
    "**Quick statistics:**\n",
    "Now we see the dataset contains:\n",
    "  * 53% single customers\n",
    "  * 46% married customers\n",
    "  * 1% others"
   ]
  },
  {
   "cell_type": "code",
   "execution_count": 1914,
   "metadata": {},
   "outputs": [
    {
     "data": {
      "text/plain": [
       "Single     0.532133\n",
       "Married    0.455300\n",
       "Others     0.012567\n",
       "Name: Marriage, dtype: float64"
      ]
     },
     "execution_count": 1914,
     "metadata": {},
     "output_type": "execute_result"
    }
   ],
   "source": [
    "credit['Marriage'].value_counts(normalize=True)"
   ]
  },
  {
   "cell_type": "markdown",
   "metadata": {},
   "source": [
    "**Marriage and Default:**\n",
    "  * Married customers are more likely to default than single ones.\n",
    "  * Other are more likely to default than singles as well, but there are only 1% of them"
   ]
  },
  {
   "cell_type": "code",
   "execution_count": 1915,
   "metadata": {
    "scrolled": true
   },
   "outputs": [
    {
     "data": {
      "text/plain": [
       "<matplotlib.axes._subplots.AxesSubplot at 0x1aaddf7990>"
      ]
     },
     "execution_count": 1915,
     "metadata": {},
     "output_type": "execute_result"
    },
    {
     "data": {
      "image/png": "[encoded data removed]",
      "text/plain": [
       "<Figure size 432x288 with 1 Axes>"
      ]
     },
     "metadata": {
      "needs_background": "light"
     },
     "output_type": "display_data"
    }
   ],
   "source": [
    "sns.barplot(x='Marriage', y = 'Default', data=credit, order=['Others', 'Married', 'Single'])"
   ]
  },
  {
   "cell_type": "markdown",
   "metadata": {},
   "source": [
    "**COMPARISON OF MEANS**\n",
    "\n",
    "  There are no significant differences among **continuous variables** between married, single and others.\n",
    "  The only exception is in Total Credit amount:\n",
    "  * Married customers tend to have bigger credits than single\n",
    "  * Customers with other marital status have significantly smaller credits (there is only 1% of them)"
   ]
  },
  {
   "cell_type": "code",
   "execution_count": 1916,
   "metadata": {
    "scrolled": true
   },
   "outputs": [],
   "source": [
    "marriage_means1 = credit.groupby(by=['Marriage'])['Total credit'].mean().sort_values(ascending=False)"
   ]
  },
  {
   "cell_type": "code",
   "execution_count": 1917,
   "metadata": {},
   "outputs": [
    {
     "data": {
      "text/plain": [
       "<matplotlib.axes._subplots.AxesSubplot at 0x1aade58790>"
      ]
     },
     "execution_count": 1917,
     "metadata": {},
     "output_type": "execute_result"
    },
    {
     "data": {
      "image/png": "[encoded data removed]",
      "text/plain": [
       "<Figure size 432x288 with 1 Axes>"
      ]
     },
     "metadata": {
      "needs_background": "light"
     },
     "output_type": "display_data"
    }
   ],
   "source": [
    "marriage_means1.plot(kind='bar')"
   ]
  },
  {
   "cell_type": "markdown",
   "metadata": {},
   "source": [
    "**Categorical variables**\n",
    "  * Married customers tend to pay more in advance than single customers (their delays are negative)\n",
    "  * Customers with other marital status tend to delay their payments (but there is only 1% of them)"
   ]
  },
  {
   "cell_type": "code",
   "execution_count": 1918,
   "metadata": {},
   "outputs": [
    {
     "data": {
      "text/html": [
       "<div>\n",
       "<style scoped>\n",
       "    .dataframe tbody tr th:only-of-type {\n",
       "        vertical-align: middle;\n",
       "    }\n",
       "\n",
       "    .dataframe tbody tr th {\n",
       "        vertical-align: top;\n",
       "    }\n",
       "\n",
       "    .dataframe thead th {\n",
       "        text-align: right;\n",
       "    }\n",
       "</style>\n",
       "<table border=\"1\" class=\"dataframe\">\n",
       "  <thead>\n",
       "    <tr style=\"text-align: right;\">\n",
       "      <th></th>\n",
       "      <th>Delay September</th>\n",
       "      <th>Delay August</th>\n",
       "      <th>Delay July</th>\n",
       "      <th>Delay June</th>\n",
       "      <th>Delay May</th>\n",
       "      <th>Delay April</th>\n",
       "    </tr>\n",
       "    <tr>\n",
       "      <th>Marriage</th>\n",
       "      <th></th>\n",
       "      <th></th>\n",
       "      <th></th>\n",
       "      <th></th>\n",
       "      <th></th>\n",
       "      <th></th>\n",
       "    </tr>\n",
       "  </thead>\n",
       "  <tbody>\n",
       "    <tr>\n",
       "      <td>Married</td>\n",
       "      <td>-0.036752</td>\n",
       "      <td>-0.163262</td>\n",
       "      <td>-0.206238</td>\n",
       "      <td>-0.259243</td>\n",
       "      <td>-0.308441</td>\n",
       "      <td>-0.331064</td>\n",
       "    </tr>\n",
       "    <tr>\n",
       "      <td>Others</td>\n",
       "      <td>0.122016</td>\n",
       "      <td>-0.029178</td>\n",
       "      <td>-0.007958</td>\n",
       "      <td>-0.074271</td>\n",
       "      <td>-0.180371</td>\n",
       "      <td>-0.156499</td>\n",
       "    </tr>\n",
       "    <tr>\n",
       "      <td>Single</td>\n",
       "      <td>-0.002819</td>\n",
       "      <td>-0.111000</td>\n",
       "      <td>-0.135680</td>\n",
       "      <td>-0.191118</td>\n",
       "      <td>-0.232085</td>\n",
       "      <td>-0.260085</td>\n",
       "    </tr>\n",
       "  </tbody>\n",
       "</table>\n",
       "</div>"
      ],
      "text/plain": [
       "          Delay September  Delay August  Delay July  Delay June  Delay May  \\\n",
       "Marriage                                                                     \n",
       "Married         -0.036752     -0.163262   -0.206238   -0.259243  -0.308441   \n",
       "Others           0.122016     -0.029178   -0.007958   -0.074271  -0.180371   \n",
       "Single          -0.002819     -0.111000   -0.135680   -0.191118  -0.232085   \n",
       "\n",
       "          Delay April  \n",
       "Marriage               \n",
       "Married     -0.331064  \n",
       "Others      -0.156499  \n",
       "Single      -0.260085  "
      ]
     },
     "execution_count": 1918,
     "metadata": {},
     "output_type": "execute_result"
    }
   ],
   "source": [
    "marriage_means2 = credit.groupby(by=['Marriage'])['Delay September', 'Delay August', 'Delay July', 'Delay June',\n",
    "       'Delay May', 'Delay April'].mean()\n",
    "marriage_means2"
   ]
  },
  {
   "cell_type": "code",
   "execution_count": 1919,
   "metadata": {
    "scrolled": false
   },
   "outputs": [
    {
     "data": {
      "text/plain": [
       "<matplotlib.axes._subplots.AxesSubplot at 0x1aae485510>"
      ]
     },
     "execution_count": 1919,
     "metadata": {},
     "output_type": "execute_result"
    },
    {
     "data": {
      "image/png": "[encoded data removed]",
      "text/plain": [
       "<Figure size 864x432 with 1 Axes>"
      ]
     },
     "metadata": {
      "needs_background": "light"
     },
     "output_type": "display_data"
    }
   ],
   "source": [
    "marriage_means2.plot(kind='bar', figsize=(12,6))"
   ]
  },
  {
   "cell_type": "markdown",
   "metadata": {},
   "source": [
    "### 3. EDUCATION"
   ]
  },
  {
   "cell_type": "markdown",
   "metadata": {},
   "source": [
    "According to documentation, interpretation of values is:\n",
    "  * 1 for graduate school (Master degree) \n",
    "  * 2 for university (Bachelor degree)\n",
    "  * 3 for high school\n",
    "  * 4 for others\n",
    "  * 5 and 6 for unknown "
   ]
  },
  {
   "cell_type": "markdown",
   "metadata": {},
   "source": [
    "But again if we check unique values for education, we will see undocumented value 0 which we can interpret as unknown."
   ]
  },
  {
   "cell_type": "code",
   "execution_count": 1920,
   "metadata": {},
   "outputs": [
    {
     "data": {
      "text/plain": [
       "array([2, 1, 3, 5, 4, 6, 0])"
      ]
     },
     "execution_count": 1920,
     "metadata": {},
     "output_type": "execute_result"
    }
   ],
   "source": [
    "credit['Education'].unique()"
   ]
  },
  {
   "cell_type": "markdown",
   "metadata": {},
   "source": [
    "Dataset contains only 14 rows of these values, so they wont have a high impact"
   ]
  },
  {
   "cell_type": "code",
   "execution_count": 1921,
   "metadata": {
    "scrolled": true
   },
   "outputs": [
    {
     "data": {
      "text/plain": [
       "False    29986\n",
       "True        14\n",
       "Name: Education, dtype: int64"
      ]
     },
     "execution_count": 1921,
     "metadata": {},
     "output_type": "execute_result"
    }
   ],
   "source": [
    "(credit['Education'] == 0).value_counts()"
   ]
  },
  {
   "cell_type": "markdown",
   "metadata": {},
   "source": [
    "**Dealing with undocumented values:**\n",
    "\n",
    "I have joined 0, 4, 5 and 6 categories in one, which represents unknown education level. "
   ]
  },
  {
   "cell_type": "code",
   "execution_count": 1922,
   "metadata": {},
   "outputs": [
    {
     "data": {
      "text/plain": [
       "2    14030\n",
       "1    10585\n",
       "3     4917\n",
       "0      468\n",
       "Name: Education, dtype: int64"
      ]
     },
     "execution_count": 1922,
     "metadata": {},
     "output_type": "execute_result"
    }
   ],
   "source": [
    "unknown = (credit['Education'] == 5) | (credit['Education'] == 6) | (credit['Education'] == 4) \n",
    "credit.loc[unknown, 'Education'] = 0\n",
    "credit['Education'].value_counts()"
   ]
  },
  {
   "cell_type": "markdown",
   "metadata": {},
   "source": [
    "Mapping to meaningful labels:"
   ]
  },
  {
   "cell_type": "code",
   "execution_count": 1923,
   "metadata": {},
   "outputs": [
    {
     "data": {
      "text/html": [
       "<div>\n",
       "<style scoped>\n",
       "    .dataframe tbody tr th:only-of-type {\n",
       "        vertical-align: middle;\n",
       "    }\n",
       "\n",
       "    .dataframe tbody tr th {\n",
       "        vertical-align: top;\n",
       "    }\n",
       "\n",
       "    .dataframe thead th {\n",
       "        text-align: right;\n",
       "    }\n",
       "</style>\n",
       "<table border=\"1\" class=\"dataframe\">\n",
       "  <thead>\n",
       "    <tr style=\"text-align: right;\">\n",
       "      <th></th>\n",
       "      <th>ID</th>\n",
       "      <th>Total credit</th>\n",
       "      <th>Sex</th>\n",
       "      <th>Education</th>\n",
       "      <th>Marriage</th>\n",
       "      <th>Age</th>\n",
       "      <th>Delay September</th>\n",
       "      <th>Delay August</th>\n",
       "      <th>Delay July</th>\n",
       "      <th>Delay June</th>\n",
       "      <th>...</th>\n",
       "      <th>Bill Statement June</th>\n",
       "      <th>Bill Statement May</th>\n",
       "      <th>Bill Statement April</th>\n",
       "      <th>Previous payment September</th>\n",
       "      <th>Previous payment August</th>\n",
       "      <th>Previous payment July</th>\n",
       "      <th>Previous payment June</th>\n",
       "      <th>Previous payment May</th>\n",
       "      <th>Previous payment April</th>\n",
       "      <th>Default</th>\n",
       "    </tr>\n",
       "  </thead>\n",
       "  <tbody>\n",
       "    <tr>\n",
       "      <td>0</td>\n",
       "      <td>1</td>\n",
       "      <td>20000.0</td>\n",
       "      <td>Female</td>\n",
       "      <td>Bachelor</td>\n",
       "      <td>Married</td>\n",
       "      <td>24</td>\n",
       "      <td>2</td>\n",
       "      <td>2</td>\n",
       "      <td>-1</td>\n",
       "      <td>-1</td>\n",
       "      <td>...</td>\n",
       "      <td>0.0</td>\n",
       "      <td>0.0</td>\n",
       "      <td>0.0</td>\n",
       "      <td>0.0</td>\n",
       "      <td>689.0</td>\n",
       "      <td>0.0</td>\n",
       "      <td>0.0</td>\n",
       "      <td>0.0</td>\n",
       "      <td>0.0</td>\n",
       "      <td>1</td>\n",
       "    </tr>\n",
       "    <tr>\n",
       "      <td>1</td>\n",
       "      <td>2</td>\n",
       "      <td>120000.0</td>\n",
       "      <td>Female</td>\n",
       "      <td>Bachelor</td>\n",
       "      <td>Single</td>\n",
       "      <td>26</td>\n",
       "      <td>-1</td>\n",
       "      <td>2</td>\n",
       "      <td>0</td>\n",
       "      <td>0</td>\n",
       "      <td>...</td>\n",
       "      <td>3272.0</td>\n",
       "      <td>3455.0</td>\n",
       "      <td>3261.0</td>\n",
       "      <td>0.0</td>\n",
       "      <td>1000.0</td>\n",
       "      <td>1000.0</td>\n",
       "      <td>1000.0</td>\n",
       "      <td>0.0</td>\n",
       "      <td>2000.0</td>\n",
       "      <td>1</td>\n",
       "    </tr>\n",
       "    <tr>\n",
       "      <td>2</td>\n",
       "      <td>3</td>\n",
       "      <td>90000.0</td>\n",
       "      <td>Female</td>\n",
       "      <td>Bachelor</td>\n",
       "      <td>Single</td>\n",
       "      <td>34</td>\n",
       "      <td>0</td>\n",
       "      <td>0</td>\n",
       "      <td>0</td>\n",
       "      <td>0</td>\n",
       "      <td>...</td>\n",
       "      <td>14331.0</td>\n",
       "      <td>14948.0</td>\n",
       "      <td>15549.0</td>\n",
       "      <td>1518.0</td>\n",
       "      <td>1500.0</td>\n",
       "      <td>1000.0</td>\n",
       "      <td>1000.0</td>\n",
       "      <td>1000.0</td>\n",
       "      <td>5000.0</td>\n",
       "      <td>0</td>\n",
       "    </tr>\n",
       "    <tr>\n",
       "      <td>3</td>\n",
       "      <td>4</td>\n",
       "      <td>50000.0</td>\n",
       "      <td>Female</td>\n",
       "      <td>Bachelor</td>\n",
       "      <td>Married</td>\n",
       "      <td>37</td>\n",
       "      <td>0</td>\n",
       "      <td>0</td>\n",
       "      <td>0</td>\n",
       "      <td>0</td>\n",
       "      <td>...</td>\n",
       "      <td>28314.0</td>\n",
       "      <td>28959.0</td>\n",
       "      <td>29547.0</td>\n",
       "      <td>2000.0</td>\n",
       "      <td>2019.0</td>\n",
       "      <td>1200.0</td>\n",
       "      <td>1100.0</td>\n",
       "      <td>1069.0</td>\n",
       "      <td>1000.0</td>\n",
       "      <td>0</td>\n",
       "    </tr>\n",
       "    <tr>\n",
       "      <td>4</td>\n",
       "      <td>5</td>\n",
       "      <td>50000.0</td>\n",
       "      <td>Male</td>\n",
       "      <td>Bachelor</td>\n",
       "      <td>Married</td>\n",
       "      <td>57</td>\n",
       "      <td>-1</td>\n",
       "      <td>0</td>\n",
       "      <td>-1</td>\n",
       "      <td>0</td>\n",
       "      <td>...</td>\n",
       "      <td>20940.0</td>\n",
       "      <td>19146.0</td>\n",
       "      <td>19131.0</td>\n",
       "      <td>2000.0</td>\n",
       "      <td>36681.0</td>\n",
       "      <td>10000.0</td>\n",
       "      <td>9000.0</td>\n",
       "      <td>689.0</td>\n",
       "      <td>679.0</td>\n",
       "      <td>0</td>\n",
       "    </tr>\n",
       "  </tbody>\n",
       "</table>\n",
       "<p>5 rows × 25 columns</p>\n",
       "</div>"
      ],
      "text/plain": [
       "   ID  Total credit     Sex Education Marriage  Age  Delay September  \\\n",
       "0   1       20000.0  Female  Bachelor  Married   24                2   \n",
       "1   2      120000.0  Female  Bachelor   Single   26               -1   \n",
       "2   3       90000.0  Female  Bachelor   Single   34                0   \n",
       "3   4       50000.0  Female  Bachelor  Married   37                0   \n",
       "4   5       50000.0    Male  Bachelor  Married   57               -1   \n",
       "\n",
       "   Delay August  Delay July  Delay June  ...  Bill Statement June  \\\n",
       "0             2          -1          -1  ...                  0.0   \n",
       "1             2           0           0  ...               3272.0   \n",
       "2             0           0           0  ...              14331.0   \n",
       "3             0           0           0  ...              28314.0   \n",
       "4             0          -1           0  ...              20940.0   \n",
       "\n",
       "   Bill Statement May  Bill Statement April  Previous payment September  \\\n",
       "0                 0.0                   0.0                         0.0   \n",
       "1              3455.0                3261.0                         0.0   \n",
       "2             14948.0               15549.0                      1518.0   \n",
       "3             28959.0               29547.0                      2000.0   \n",
       "4             19146.0               19131.0                      2000.0   \n",
       "\n",
       "   Previous payment August  Previous payment July  Previous payment June  \\\n",
       "0                    689.0                    0.0                    0.0   \n",
       "1                   1000.0                 1000.0                 1000.0   \n",
       "2                   1500.0                 1000.0                 1000.0   \n",
       "3                   2019.0                 1200.0                 1100.0   \n",
       "4                  36681.0                10000.0                 9000.0   \n",
       "\n",
       "   Previous payment May  Previous payment April  Default  \n",
       "0                   0.0                     0.0        1  \n",
       "1                   0.0                  2000.0        1  \n",
       "2                1000.0                  5000.0        0  \n",
       "3                1069.0                  1000.0        0  \n",
       "4                 689.0                   679.0        0  \n",
       "\n",
       "[5 rows x 25 columns]"
      ]
     },
     "execution_count": 1923,
     "metadata": {},
     "output_type": "execute_result"
    }
   ],
   "source": [
    "e = {0:'Unknown', 1: 'Master', 2: 'Bachelor', 3: 'High school'}\n",
    "credit['Education'] = credit['Education'].map(e)\n",
    "credit.head()"
   ]
  },
  {
   "cell_type": "markdown",
   "metadata": {},
   "source": [
    "**Quick statistics:**\n",
    "  * 47% customers with Bachelor degree\n",
    "  * 35% customers with Master degree\n",
    "  * 16% customers who finished high school\n",
    "  * 2% customers whose education level is unknown"
   ]
  },
  {
   "cell_type": "code",
   "execution_count": 1924,
   "metadata": {},
   "outputs": [
    {
     "data": {
      "text/plain": [
       "Bachelor       0.467667\n",
       "Master         0.352833\n",
       "High school    0.163900\n",
       "Unknown        0.015600\n",
       "Name: Education, dtype: float64"
      ]
     },
     "execution_count": 1924,
     "metadata": {},
     "output_type": "execute_result"
    }
   ],
   "source": [
    "credit['Education'].value_counts(normalize=True)"
   ]
  },
  {
   "cell_type": "markdown",
   "metadata": {},
   "source": [
    "**Education and Default:**\n",
    "  * The lower education lever, the higher chance to default\n",
    "  * Customers with unknown level of education has the lowest chance to default (though, there is only 2% of them)"
   ]
  },
  {
   "cell_type": "code",
   "execution_count": 1925,
   "metadata": {
    "scrolled": false
   },
   "outputs": [
    {
     "data": {
      "text/plain": [
       "<matplotlib.axes._subplots.AxesSubplot at 0x1aadd704d0>"
      ]
     },
     "execution_count": 1925,
     "metadata": {},
     "output_type": "execute_result"
    },
    {
     "data": {
      "image/png": "[encoded data removed]",
      "text/plain": [
       "<Figure size 432x288 with 1 Axes>"
      ]
     },
     "metadata": {
      "needs_background": "light"
     },
     "output_type": "display_data"
    }
   ],
   "source": [
    "sns.barplot(x='Education', y = 'Default', data=credit, order=['High school', 'Bachelor', 'Master', 'Unknown'])"
   ]
  },
  {
   "cell_type": "markdown",
   "metadata": {},
   "source": [
    "**COMPARISON OF MEANS**\n",
    "\n",
    "  The main difference between customers with distinct level of education among **continuous variables**:\n",
    "  * Customers with Master degree have the biggest credits\n",
    "  * Interesting thing is that 'Unknown' category has second biggest credits (there is only 2% of them)\n",
    "  * They are followed by Barchelors and customers with high school education (smallest credits)\n",
    "  * Masters have biggest Bill Statements and Previous Payments amounts, which is logical, so nothing interesting here"
   ]
  },
  {
   "cell_type": "code",
   "execution_count": 1926,
   "metadata": {
    "scrolled": false
   },
   "outputs": [],
   "source": [
    "education_means1 = credit.groupby(by=['Education'])['Total credit'].mean().sort_values(ascending=False)"
   ]
  },
  {
   "cell_type": "code",
   "execution_count": 1927,
   "metadata": {
    "scrolled": true
   },
   "outputs": [
    {
     "data": {
      "text/plain": [
       "<matplotlib.axes._subplots.AxesSubplot at 0x1aae8fea90>"
      ]
     },
     "execution_count": 1927,
     "metadata": {},
     "output_type": "execute_result"
    },
    {
     "data": {
      "image/png": "[encoded data removed]",
      "text/plain": [
       "<Figure size 432x288 with 1 Axes>"
      ]
     },
     "metadata": {
      "needs_background": "light"
     },
     "output_type": "display_data"
    }
   ],
   "source": [
    "education_means1.plot(kind='bar')"
   ]
  },
  {
   "cell_type": "markdown",
   "metadata": {},
   "source": [
    "**Categorical variables:**\n",
    "  * Masters and customers with unknown level of education have similar trends of delays: they tend to pay in advance\n",
    "  * Bachelors and customers with high school education also share similarities: they tend to delay their payments\n",
    "  * However, customers with high school education seem to delay even more than Bachelors"
   ]
  },
  {
   "cell_type": "code",
   "execution_count": 1928,
   "metadata": {
    "scrolled": true
   },
   "outputs": [
    {
     "data": {
      "text/html": [
       "<div>\n",
       "<style scoped>\n",
       "    .dataframe tbody tr th:only-of-type {\n",
       "        vertical-align: middle;\n",
       "    }\n",
       "\n",
       "    .dataframe tbody tr th {\n",
       "        vertical-align: top;\n",
       "    }\n",
       "\n",
       "    .dataframe thead th {\n",
       "        text-align: right;\n",
       "    }\n",
       "</style>\n",
       "<table border=\"1\" class=\"dataframe\">\n",
       "  <thead>\n",
       "    <tr style=\"text-align: right;\">\n",
       "      <th></th>\n",
       "      <th>Delay September</th>\n",
       "      <th>Delay August</th>\n",
       "      <th>Delay July</th>\n",
       "      <th>Delay June</th>\n",
       "      <th>Delay May</th>\n",
       "      <th>Delay April</th>\n",
       "    </tr>\n",
       "    <tr>\n",
       "      <th>Education</th>\n",
       "      <th></th>\n",
       "      <th></th>\n",
       "      <th></th>\n",
       "      <th></th>\n",
       "      <th></th>\n",
       "      <th></th>\n",
       "    </tr>\n",
       "  </thead>\n",
       "  <tbody>\n",
       "    <tr>\n",
       "      <td>Bachelor</td>\n",
       "      <td>0.102210</td>\n",
       "      <td>0.022523</td>\n",
       "      <td>-0.018532</td>\n",
       "      <td>-0.083036</td>\n",
       "      <td>-0.141411</td>\n",
       "      <td>-0.170848</td>\n",
       "    </tr>\n",
       "    <tr>\n",
       "      <td>High school</td>\n",
       "      <td>0.132805</td>\n",
       "      <td>0.040879</td>\n",
       "      <td>0.002644</td>\n",
       "      <td>-0.066504</td>\n",
       "      <td>-0.139313</td>\n",
       "      <td>-0.183649</td>\n",
       "    </tr>\n",
       "    <tr>\n",
       "      <td>Master</td>\n",
       "      <td>-0.233916</td>\n",
       "      <td>-0.408125</td>\n",
       "      <td>-0.425886</td>\n",
       "      <td>-0.461974</td>\n",
       "      <td>-0.479074</td>\n",
       "      <td>-0.485971</td>\n",
       "    </tr>\n",
       "    <tr>\n",
       "      <td>Unknown</td>\n",
       "      <td>-0.239316</td>\n",
       "      <td>-0.448718</td>\n",
       "      <td>-0.493590</td>\n",
       "      <td>-0.508547</td>\n",
       "      <td>-0.525641</td>\n",
       "      <td>-0.617521</td>\n",
       "    </tr>\n",
       "  </tbody>\n",
       "</table>\n",
       "</div>"
      ],
      "text/plain": [
       "             Delay September  Delay August  Delay July  Delay June  Delay May  \\\n",
       "Education                                                                       \n",
       "Bachelor            0.102210      0.022523   -0.018532   -0.083036  -0.141411   \n",
       "High school         0.132805      0.040879    0.002644   -0.066504  -0.139313   \n",
       "Master             -0.233916     -0.408125   -0.425886   -0.461974  -0.479074   \n",
       "Unknown            -0.239316     -0.448718   -0.493590   -0.508547  -0.525641   \n",
       "\n",
       "             Delay April  \n",
       "Education                 \n",
       "Bachelor       -0.170848  \n",
       "High school    -0.183649  \n",
       "Master         -0.485971  \n",
       "Unknown        -0.617521  "
      ]
     },
     "execution_count": 1928,
     "metadata": {},
     "output_type": "execute_result"
    }
   ],
   "source": [
    "education_means2 = credit.groupby(by=['Education'])['Delay September', 'Delay August', 'Delay July', 'Delay June',\n",
    "       'Delay May', 'Delay April'].mean()\n",
    "education_means2"
   ]
  },
  {
   "cell_type": "code",
   "execution_count": 1929,
   "metadata": {
    "scrolled": false
   },
   "outputs": [
    {
     "data": {
      "text/plain": [
       "<matplotlib.axes._subplots.AxesSubplot at 0x1aadd45150>"
      ]
     },
     "execution_count": 1929,
     "metadata": {},
     "output_type": "execute_result"
    },
    {
     "data": {
      "image/png": "[encoded data removed]",
      "text/plain": [
       "<Figure size 1152x432 with 1 Axes>"
      ]
     },
     "metadata": {
      "needs_background": "light"
     },
     "output_type": "display_data"
    }
   ],
   "source": [
    "education_means2.plot(kind='bar', figsize=(16,6))"
   ]
  },
  {
   "cell_type": "markdown",
   "metadata": {},
   "source": [
    "**Education and Marriage:**\n",
    "  * A lot more Masters among single\n",
    "  * More Barchelors among married\n",
    " \n",
    "**Different balances of education level among single, married and others:**\n",
    "  * Single: 44% Bachelors, 43% Masters, 12% High School\n",
    "  * Married: 50% Bachelors, 27% Masters, 21% High School\n",
    "  * Others: 45% Bachelors, 14% Masters, 39% High School"
   ]
  },
  {
   "cell_type": "code",
   "execution_count": 1930,
   "metadata": {
    "scrolled": true
   },
   "outputs": [
    {
     "data": {
      "text/html": [
       "<div>\n",
       "<style scoped>\n",
       "    .dataframe tbody tr th:only-of-type {\n",
       "        vertical-align: middle;\n",
       "    }\n",
       "\n",
       "    .dataframe tbody tr th {\n",
       "        vertical-align: top;\n",
       "    }\n",
       "\n",
       "    .dataframe thead th {\n",
       "        text-align: right;\n",
       "    }\n",
       "</style>\n",
       "<table border=\"1\" class=\"dataframe\">\n",
       "  <thead>\n",
       "    <tr style=\"text-align: right;\">\n",
       "      <th>Marriage</th>\n",
       "      <th>Married</th>\n",
       "      <th>Others</th>\n",
       "      <th>Single</th>\n",
       "    </tr>\n",
       "    <tr>\n",
       "      <th>Education</th>\n",
       "      <th></th>\n",
       "      <th></th>\n",
       "      <th></th>\n",
       "    </tr>\n",
       "  </thead>\n",
       "  <tbody>\n",
       "    <tr>\n",
       "      <td>Bachelor</td>\n",
       "      <td>0.500915</td>\n",
       "      <td>0.445623</td>\n",
       "      <td>0.439739</td>\n",
       "    </tr>\n",
       "    <tr>\n",
       "      <td>High school</td>\n",
       "      <td>0.209459</td>\n",
       "      <td>0.389920</td>\n",
       "      <td>0.119582</td>\n",
       "    </tr>\n",
       "    <tr>\n",
       "      <td>Master</td>\n",
       "      <td>0.272494</td>\n",
       "      <td>0.143236</td>\n",
       "      <td>0.426522</td>\n",
       "    </tr>\n",
       "    <tr>\n",
       "      <td>Unknown</td>\n",
       "      <td>0.017132</td>\n",
       "      <td>0.021220</td>\n",
       "      <td>0.014157</td>\n",
       "    </tr>\n",
       "  </tbody>\n",
       "</table>\n",
       "</div>"
      ],
      "text/plain": [
       "Marriage      Married    Others    Single\n",
       "Education                                \n",
       "Bachelor     0.500915  0.445623  0.439739\n",
       "High school  0.209459  0.389920  0.119582\n",
       "Master       0.272494  0.143236  0.426522\n",
       "Unknown      0.017132  0.021220  0.014157"
      ]
     },
     "execution_count": 1930,
     "metadata": {},
     "output_type": "execute_result"
    }
   ],
   "source": [
    "pd.crosstab(credit['Education'], credit['Marriage'], normalize='columns')"
   ]
  },
  {
   "cell_type": "markdown",
   "metadata": {},
   "source": [
    "**Default by Education, Marital Status**\n",
    "\n",
    "We can't use sex as predictor for a model, so lets eliminate sex and look at the results:\n",
    "\n",
    "TOP 5 troublemakers:\n",
    "  * 25% of all defaults are caused by married customers with Bachelor degree\n",
    "  * 24% of all defaults are caused by single customers with Bachelor degree\n",
    "  * 19% of all defaults are caused by single customers with Master degree\n",
    "  * 12% of all defaults are caused by married customers with Master degree\n",
    "  * 11% of all defaults are caused by married customers with high school education\n"
   ]
  },
  {
   "cell_type": "code",
   "execution_count": 1932,
   "metadata": {
    "scrolled": true
   },
   "outputs": [
    {
     "data": {
      "text/plain": [
       "<matplotlib.axes._subplots.AxesSubplot at 0x1aaf212990>"
      ]
     },
     "execution_count": 1932,
     "metadata": {},
     "output_type": "execute_result"
    },
    {
     "data": {
      "image/png": "[encoded data removed]",
      "text/plain": [
       "<Figure size 432x288 with 1 Axes>"
      ]
     },
     "metadata": {
      "needs_background": "light"
     },
     "output_type": "display_data"
    }
   ],
   "source": [
    "categor_default_legal = pd.crosstab(credit['Marriage'], credit['Education'], values=credit['Default'],\n",
    "           aggfunc='sum', normalize=True)\n",
    "sns.heatmap(categor_default_legal, cmap='Blues', annot=True, cbar=False)"
   ]
  },
  {
   "cell_type": "markdown",
   "metadata": {},
   "source": [
    "### 4. DELAY SEPTEMBER"
   ]
  },
  {
   "cell_type": "markdown",
   "metadata": {},
   "source": [
    "Documentation + common sense:\n",
    "  * -2, -1 months paid in advance\n",
    "  * 0 paid duly\n",
    "  * 1, 2, 3, 4, 5, 6, 7, 8 months delayed"
   ]
  },
  {
   "cell_type": "markdown",
   "metadata": {},
   "source": [
    "**Quick statistics:**\n",
    "  * 49% pay duly\n",
    "  * 28% pay in advance\n",
    "  * 23% delays payments"
   ]
  },
  {
   "cell_type": "code",
   "execution_count": 1933,
   "metadata": {},
   "outputs": [
    {
     "data": {
      "text/plain": [
       " 0    0.491233\n",
       "-1    0.189533\n",
       " 1    0.122933\n",
       "-2    0.091967\n",
       " 2    0.088900\n",
       " 3    0.010733\n",
       " 4    0.002533\n",
       " 5    0.000867\n",
       " 8    0.000633\n",
       " 6    0.000367\n",
       " 7    0.000300\n",
       "Name: Delay September, dtype: float64"
      ]
     },
     "execution_count": 1933,
     "metadata": {},
     "output_type": "execute_result"
    }
   ],
   "source": [
    "credit['Delay September'].value_counts(normalize=True)"
   ]
  },
  {
   "cell_type": "markdown",
   "metadata": {},
   "source": [
    "**Delay September and Default:**\n",
    "  * 1 month delayed payment increases chances to default 2X\n",
    "  * 2 months of delayed payment increases chances to default 4X"
   ]
  },
  {
   "cell_type": "code",
   "execution_count": 1934,
   "metadata": {
    "scrolled": true
   },
   "outputs": [
    {
     "data": {
      "text/plain": [
       "<matplotlib.axes._subplots.AxesSubplot at 0x1aaecbd4d0>"
      ]
     },
     "execution_count": 1934,
     "metadata": {},
     "output_type": "execute_result"
    },
    {
     "data": {
      "image/png": "[encoded data removed]",
      "text/plain": [
       "<Figure size 432x288 with 1 Axes>"
      ]
     },
     "metadata": {
      "needs_background": "light"
     },
     "output_type": "display_data"
    }
   ],
   "source": [
    "sns.barplot(x='Delay September', y = 'Default', data=credit)"
   ]
  },
  {
   "cell_type": "markdown",
   "metadata": {},
   "source": [
    "Lets see what happens if we join delay months in 4 categories:\n",
    "  * paid in advance (-1,-2)\n",
    "  * paid duly (0)\n",
    "  * 1-2 month delays\n",
    "  * 3-8 month delays"
   ]
  },
  {
   "cell_type": "markdown",
   "metadata": {},
   "source": [
    "Creating a copy of a column:"
   ]
  },
  {
   "cell_type": "code",
   "execution_count": 1935,
   "metadata": {},
   "outputs": [],
   "source": [
    "credit['Delay September bins'] = credit['Delay September']"
   ]
  },
  {
   "cell_type": "code",
   "execution_count": 1936,
   "metadata": {},
   "outputs": [
    {
     "data": {
      "text/plain": [
       "Duly          0.491233\n",
       "Advance       0.281500\n",
       "1-2 months    0.211833\n",
       "3-8 months    0.015433\n",
       "Name: Delay September bins, dtype: float64"
      ]
     },
     "execution_count": 1936,
     "metadata": {},
     "output_type": "execute_result"
    }
   ],
   "source": [
    "first = (credit['Delay September bins'] == -2) | (credit['Delay September bins'] == -1)\n",
    "credit.loc[first, 'Delay September bins'] = 'Advance'\n",
    "second = (credit['Delay September bins'] == 0)\n",
    "credit.loc[second, 'Delay September bins'] = 'Duly'\n",
    "third = (credit['Delay September bins'] == 1) | (credit['Delay September bins'] == 2)\n",
    "credit.loc[third, 'Delay September bins'] = '1-2 months'\n",
    "fourth = (credit['Delay September bins'] == 3) | (credit['Delay September bins'] == 4) | (credit['Delay September bins'] == 5) | (credit['Delay September bins'] == 6) | (credit['Delay September bins'] == 7) | (credit['Delay September bins'] == 8)\n",
    "credit.loc[fourth, 'Delay September bins'] = '3-8 months'\n",
    "credit['Delay September bins'].value_counts(normalize=True)"
   ]
  },
  {
   "cell_type": "markdown",
   "metadata": {},
   "source": [
    "**COMPARISON OF MEANS**\n",
    "\n",
    "  The main difference between customers with distinct level of education among **continuous variables**:\n",
    "  * Those who pay in advance have much bigger credits\n",
    "  * Then, by level of delays, total credit amount gradually decreases\n",
    "  * Those with 3-8 months delays have the smallest credits\n",
    "  * Those who pay duly receive bigger bill statements\n",
    "  "
   ]
  },
  {
   "cell_type": "code",
   "execution_count": 1937,
   "metadata": {
    "scrolled": true
   },
   "outputs": [
    {
     "data": {
      "text/html": [
       "<div>\n",
       "<style scoped>\n",
       "    .dataframe tbody tr th:only-of-type {\n",
       "        vertical-align: middle;\n",
       "    }\n",
       "\n",
       "    .dataframe tbody tr th {\n",
       "        vertical-align: top;\n",
       "    }\n",
       "\n",
       "    .dataframe thead th {\n",
       "        text-align: right;\n",
       "    }\n",
       "</style>\n",
       "<table border=\"1\" class=\"dataframe\">\n",
       "  <thead>\n",
       "    <tr style=\"text-align: right;\">\n",
       "      <th></th>\n",
       "      <th>Total credit</th>\n",
       "      <th>Bill Statement September</th>\n",
       "      <th>Bill Statement August</th>\n",
       "      <th>Bill Statement July</th>\n",
       "      <th>Bill Statement June</th>\n",
       "      <th>Bill Statement May</th>\n",
       "      <th>Bill Statement April</th>\n",
       "      <th>Previous payment September</th>\n",
       "      <th>Previous payment August</th>\n",
       "      <th>Previous payment July</th>\n",
       "      <th>Previous payment June</th>\n",
       "      <th>Previous payment May</th>\n",
       "      <th>Previous payment April</th>\n",
       "    </tr>\n",
       "    <tr>\n",
       "      <th>Delay September bins</th>\n",
       "      <th></th>\n",
       "      <th></th>\n",
       "      <th></th>\n",
       "      <th></th>\n",
       "      <th></th>\n",
       "      <th></th>\n",
       "      <th></th>\n",
       "      <th></th>\n",
       "      <th></th>\n",
       "      <th></th>\n",
       "      <th></th>\n",
       "      <th></th>\n",
       "      <th></th>\n",
       "    </tr>\n",
       "  </thead>\n",
       "  <tbody>\n",
       "    <tr>\n",
       "      <td>Advance</td>\n",
       "      <td>221020.722321</td>\n",
       "      <td>9932.099586</td>\n",
       "      <td>10245.394671</td>\n",
       "      <td>11729.922202</td>\n",
       "      <td>12087.547306</td>\n",
       "      <td>11467.448905</td>\n",
       "      <td>11084.171107</td>\n",
       "      <td>7095.628774</td>\n",
       "      <td>8061.774186</td>\n",
       "      <td>6893.746477</td>\n",
       "      <td>5782.058259</td>\n",
       "      <td>5711.994198</td>\n",
       "      <td>6581.462404</td>\n",
       "    </tr>\n",
       "    <tr>\n",
       "      <td>Duly</td>\n",
       "      <td>154265.025446</td>\n",
       "      <td>78417.889462</td>\n",
       "      <td>74238.192509</td>\n",
       "      <td>69448.018864</td>\n",
       "      <td>62659.819231</td>\n",
       "      <td>57776.063921</td>\n",
       "      <td>55668.092285</td>\n",
       "      <td>6082.560019</td>\n",
       "      <td>5854.076474</td>\n",
       "      <td>5323.468752</td>\n",
       "      <td>5171.571147</td>\n",
       "      <td>5166.093303</td>\n",
       "      <td>5406.656850</td>\n",
       "    </tr>\n",
       "    <tr>\n",
       "      <td>1-2 months</td>\n",
       "      <td>133141.778127</td>\n",
       "      <td>42989.412903</td>\n",
       "      <td>42701.733438</td>\n",
       "      <td>41781.304327</td>\n",
       "      <td>39594.411959</td>\n",
       "      <td>37955.826908</td>\n",
       "      <td>36724.238080</td>\n",
       "      <td>3141.657278</td>\n",
       "      <td>3577.067978</td>\n",
       "      <td>3048.945555</td>\n",
       "      <td>2969.253501</td>\n",
       "      <td>2870.397010</td>\n",
       "      <td>3068.402518</td>\n",
       "    </tr>\n",
       "    <tr>\n",
       "      <td>3-8 months</td>\n",
       "      <td>83131.749460</td>\n",
       "      <td>51795.226782</td>\n",
       "      <td>50609.369330</td>\n",
       "      <td>48293.321814</td>\n",
       "      <td>44857.209503</td>\n",
       "      <td>42860.235421</td>\n",
       "      <td>40569.714903</td>\n",
       "      <td>822.701944</td>\n",
       "      <td>1186.673866</td>\n",
       "      <td>1565.330454</td>\n",
       "      <td>1878.561555</td>\n",
       "      <td>2958.419006</td>\n",
       "      <td>3686.883369</td>\n",
       "    </tr>\n",
       "  </tbody>\n",
       "</table>\n",
       "</div>"
      ],
      "text/plain": [
       "                       Total credit  Bill Statement September  \\\n",
       "Delay September bins                                            \n",
       "Advance               221020.722321               9932.099586   \n",
       "Duly                  154265.025446              78417.889462   \n",
       "1-2 months            133141.778127              42989.412903   \n",
       "3-8 months             83131.749460              51795.226782   \n",
       "\n",
       "                      Bill Statement August  Bill Statement July  \\\n",
       "Delay September bins                                               \n",
       "Advance                        10245.394671         11729.922202   \n",
       "Duly                           74238.192509         69448.018864   \n",
       "1-2 months                     42701.733438         41781.304327   \n",
       "3-8 months                     50609.369330         48293.321814   \n",
       "\n",
       "                      Bill Statement June  Bill Statement May  \\\n",
       "Delay September bins                                            \n",
       "Advance                      12087.547306        11467.448905   \n",
       "Duly                         62659.819231        57776.063921   \n",
       "1-2 months                   39594.411959        37955.826908   \n",
       "3-8 months                   44857.209503        42860.235421   \n",
       "\n",
       "                      Bill Statement April  Previous payment September  \\\n",
       "Delay September bins                                                     \n",
       "Advance                       11084.171107                 7095.628774   \n",
       "Duly                          55668.092285                 6082.560019   \n",
       "1-2 months                    36724.238080                 3141.657278   \n",
       "3-8 months                    40569.714903                  822.701944   \n",
       "\n",
       "                      Previous payment August  Previous payment July  \\\n",
       "Delay September bins                                                   \n",
       "Advance                           8061.774186            6893.746477   \n",
       "Duly                              5854.076474            5323.468752   \n",
       "1-2 months                        3577.067978            3048.945555   \n",
       "3-8 months                        1186.673866            1565.330454   \n",
       "\n",
       "                      Previous payment June  Previous payment May  \\\n",
       "Delay September bins                                                \n",
       "Advance                         5782.058259           5711.994198   \n",
       "Duly                            5171.571147           5166.093303   \n",
       "1-2 months                      2969.253501           2870.397010   \n",
       "3-8 months                      1878.561555           2958.419006   \n",
       "\n",
       "                      Previous payment April  \n",
       "Delay September bins                          \n",
       "Advance                          6581.462404  \n",
       "Duly                             5406.656850  \n",
       "1-2 months                       3068.402518  \n",
       "3-8 months                       3686.883369  "
      ]
     },
     "execution_count": 1937,
     "metadata": {},
     "output_type": "execute_result"
    }
   ],
   "source": [
    "delay_means1 = credit.groupby(by=['Delay September bins'])['Total credit', 'Bill Statement September', 'Bill Statement August',\n",
    "          'Bill Statement July', 'Bill Statement June', 'Bill Statement May', 'Bill Statement April',\n",
    "          'Previous payment September', 'Previous payment August', 'Previous payment July', \n",
    "          'Previous payment June','Previous payment May', 'Previous payment April'].mean().sort_values(by='Total credit', ascending=False)\n",
    "delay_means1"
   ]
  },
  {
   "cell_type": "code",
   "execution_count": 1938,
   "metadata": {
    "scrolled": false
   },
   "outputs": [
    {
     "data": {
      "text/plain": [
       "<matplotlib.axes._subplots.AxesSubplot at 0x1aad8f9410>"
      ]
     },
     "execution_count": 1938,
     "metadata": {},
     "output_type": "execute_result"
    },
    {
     "data": {
      "image/png": "[encoded data removed]",
      "text/plain": [
       "<Figure size 1152x432 with 1 Axes>"
      ]
     },
     "metadata": {
      "needs_background": "light"
     },
     "output_type": "display_data"
    }
   ],
   "source": [
    "delay_means1.plot(kind='bar', figsize=(16,6))"
   ]
  },
  {
   "cell_type": "markdown",
   "metadata": {},
   "source": [
    "**Delays, Marriage, Education and Default:**\n",
    "\n",
    "TOP risk groups:\n",
    "  * 12% of all defaults caused by married customers with Bachelor degree and 1-2 months delay status (age mean 39)\n",
    "  * 11% of all defaults caused by single customers with Bachelor degree and 1-2 months delay status (age mean 30)\n",
    "  * 8,4% of all defaults caused by single customers with Master degree and 1-2 months delay status (age mean 35)\n",
    "  * 8,1% of all defaults caused by single customers with Bachelor degree who pay duly (age mean 31)\n",
    "  * 7,8% of all defaults caused by married customers with Bachelor degree who pay duly (age mean 38)"
   ]
  },
  {
   "cell_type": "code",
   "execution_count": 1939,
   "metadata": {
    "scrolled": false
   },
   "outputs": [
    {
     "data": {
      "text/plain": [
       "<matplotlib.axes._subplots.AxesSubplot at 0x1aaf9cdb90>"
      ]
     },
     "execution_count": 1939,
     "metadata": {},
     "output_type": "execute_result"
    },
    {
     "data": {
      "image/png": "[encoded data removed]",
      "text/plain": [
       "<Figure size 432x288 with 1 Axes>"
      ]
     },
     "metadata": {
      "needs_background": "light"
     },
     "output_type": "display_data"
    }
   ],
   "source": [
    "dels_default = pd.crosstab([credit['Delay September bins'], credit['Marriage']], credit['Education'], \n",
    "                           values=credit['Default'], aggfunc='sum', normalize=True)\n",
    "sns.heatmap(dels_default, cmap='Blues', annot=True, cbar=False)"
   ]
  },
  {
   "cell_type": "markdown",
   "metadata": {},
   "source": [
    "### CONTINUOUS VARIABLES:\n",
    "### 1. AGE"
   ]
  },
  {
   "cell_type": "markdown",
   "metadata": {},
   "source": [
    "Ages in dataset:"
   ]
  },
  {
   "cell_type": "code",
   "execution_count": 1940,
   "metadata": {
    "scrolled": true
   },
   "outputs": [
    {
     "data": {
      "text/plain": [
       "count    30000.000000\n",
       "mean        35.485500\n",
       "std          9.217904\n",
       "min         21.000000\n",
       "25%         28.000000\n",
       "50%         34.000000\n",
       "75%         41.000000\n",
       "max         79.000000\n",
       "Name: Age, dtype: float64"
      ]
     },
     "execution_count": 1940,
     "metadata": {},
     "output_type": "execute_result"
    }
   ],
   "source": [
    "credit['Age'].describe()"
   ]
  },
  {
   "cell_type": "markdown",
   "metadata": {},
   "source": [
    "Distribution of age is skewed to the right - it may cause problems for regression models because of its outliers.\n",
    "Needs log transformation."
   ]
  },
  {
   "cell_type": "code",
   "execution_count": 1941,
   "metadata": {
    "scrolled": true
   },
   "outputs": [
    {
     "data": {
      "text/plain": [
       "<matplotlib.axes._subplots.AxesSubplot at 0x1aaeb441d0>"
      ]
     },
     "execution_count": 1941,
     "metadata": {},
     "output_type": "execute_result"
    },
    {
     "data": {
      "image/png": "[encoded data removed]",
      "text/plain": [
       "<Figure size 432x288 with 1 Axes>"
      ]
     },
     "metadata": {
      "needs_background": "light"
     },
     "output_type": "display_data"
    }
   ],
   "source": [
    "sns.distplot(credit['Age'])"
   ]
  },
  {
   "cell_type": "markdown",
   "metadata": {},
   "source": [
    "**Creating age bins:**\n",
    "\n",
    "I will create 6 age bins to make further analysis more comprehensive:\n",
    "  * age 21-30\n",
    "  * age 31-40\n",
    "  * age 41-50\n",
    "  * age 51-60\n",
    "  * age 61-70\n",
    "  * age 71-79"
   ]
  },
  {
   "cell_type": "markdown",
   "metadata": {},
   "source": [
    "Function for age bins:"
   ]
  },
  {
   "cell_type": "code",
   "execution_count": 1942,
   "metadata": {},
   "outputs": [],
   "source": [
    "def bins(a):\n",
    "    if a >= 21 and a < 31:\n",
    "        return '21-30'\n",
    "    elif a >=31 and a < 41:\n",
    "        return '31-40' \n",
    "    elif a >=41 and a < 51:\n",
    "        return '41-50'\n",
    "    elif a >=51 and a < 61:\n",
    "        return '51-60'\n",
    "    elif a >=61 and a < 71:\n",
    "        return '61-70'\n",
    "    else:\n",
    "        return '71-79'"
   ]
  },
  {
   "cell_type": "markdown",
   "metadata": {},
   "source": [
    "Creating new column with categorical values 'Age bins':"
   ]
  },
  {
   "cell_type": "code",
   "execution_count": 1943,
   "metadata": {},
   "outputs": [
    {
     "data": {
      "text/html": [
       "<div>\n",
       "<style scoped>\n",
       "    .dataframe tbody tr th:only-of-type {\n",
       "        vertical-align: middle;\n",
       "    }\n",
       "\n",
       "    .dataframe tbody tr th {\n",
       "        vertical-align: top;\n",
       "    }\n",
       "\n",
       "    .dataframe thead th {\n",
       "        text-align: right;\n",
       "    }\n",
       "</style>\n",
       "<table border=\"1\" class=\"dataframe\">\n",
       "  <thead>\n",
       "    <tr style=\"text-align: right;\">\n",
       "      <th></th>\n",
       "      <th>ID</th>\n",
       "      <th>Total credit</th>\n",
       "      <th>Sex</th>\n",
       "      <th>Education</th>\n",
       "      <th>Marriage</th>\n",
       "      <th>Age</th>\n",
       "      <th>Delay September</th>\n",
       "      <th>Delay August</th>\n",
       "      <th>Delay July</th>\n",
       "      <th>Delay June</th>\n",
       "      <th>...</th>\n",
       "      <th>Bill Statement April</th>\n",
       "      <th>Previous payment September</th>\n",
       "      <th>Previous payment August</th>\n",
       "      <th>Previous payment July</th>\n",
       "      <th>Previous payment June</th>\n",
       "      <th>Previous payment May</th>\n",
       "      <th>Previous payment April</th>\n",
       "      <th>Default</th>\n",
       "      <th>Delay September bins</th>\n",
       "      <th>Age bins</th>\n",
       "    </tr>\n",
       "  </thead>\n",
       "  <tbody>\n",
       "    <tr>\n",
       "      <td>0</td>\n",
       "      <td>1</td>\n",
       "      <td>20000.0</td>\n",
       "      <td>Female</td>\n",
       "      <td>Bachelor</td>\n",
       "      <td>Married</td>\n",
       "      <td>24</td>\n",
       "      <td>2</td>\n",
       "      <td>2</td>\n",
       "      <td>-1</td>\n",
       "      <td>-1</td>\n",
       "      <td>...</td>\n",
       "      <td>0.0</td>\n",
       "      <td>0.0</td>\n",
       "      <td>689.0</td>\n",
       "      <td>0.0</td>\n",
       "      <td>0.0</td>\n",
       "      <td>0.0</td>\n",
       "      <td>0.0</td>\n",
       "      <td>1</td>\n",
       "      <td>1-2 months</td>\n",
       "      <td>21-30</td>\n",
       "    </tr>\n",
       "    <tr>\n",
       "      <td>1</td>\n",
       "      <td>2</td>\n",
       "      <td>120000.0</td>\n",
       "      <td>Female</td>\n",
       "      <td>Bachelor</td>\n",
       "      <td>Single</td>\n",
       "      <td>26</td>\n",
       "      <td>-1</td>\n",
       "      <td>2</td>\n",
       "      <td>0</td>\n",
       "      <td>0</td>\n",
       "      <td>...</td>\n",
       "      <td>3261.0</td>\n",
       "      <td>0.0</td>\n",
       "      <td>1000.0</td>\n",
       "      <td>1000.0</td>\n",
       "      <td>1000.0</td>\n",
       "      <td>0.0</td>\n",
       "      <td>2000.0</td>\n",
       "      <td>1</td>\n",
       "      <td>Advance</td>\n",
       "      <td>21-30</td>\n",
       "    </tr>\n",
       "    <tr>\n",
       "      <td>2</td>\n",
       "      <td>3</td>\n",
       "      <td>90000.0</td>\n",
       "      <td>Female</td>\n",
       "      <td>Bachelor</td>\n",
       "      <td>Single</td>\n",
       "      <td>34</td>\n",
       "      <td>0</td>\n",
       "      <td>0</td>\n",
       "      <td>0</td>\n",
       "      <td>0</td>\n",
       "      <td>...</td>\n",
       "      <td>15549.0</td>\n",
       "      <td>1518.0</td>\n",
       "      <td>1500.0</td>\n",
       "      <td>1000.0</td>\n",
       "      <td>1000.0</td>\n",
       "      <td>1000.0</td>\n",
       "      <td>5000.0</td>\n",
       "      <td>0</td>\n",
       "      <td>Duly</td>\n",
       "      <td>31-40</td>\n",
       "    </tr>\n",
       "    <tr>\n",
       "      <td>3</td>\n",
       "      <td>4</td>\n",
       "      <td>50000.0</td>\n",
       "      <td>Female</td>\n",
       "      <td>Bachelor</td>\n",
       "      <td>Married</td>\n",
       "      <td>37</td>\n",
       "      <td>0</td>\n",
       "      <td>0</td>\n",
       "      <td>0</td>\n",
       "      <td>0</td>\n",
       "      <td>...</td>\n",
       "      <td>29547.0</td>\n",
       "      <td>2000.0</td>\n",
       "      <td>2019.0</td>\n",
       "      <td>1200.0</td>\n",
       "      <td>1100.0</td>\n",
       "      <td>1069.0</td>\n",
       "      <td>1000.0</td>\n",
       "      <td>0</td>\n",
       "      <td>Duly</td>\n",
       "      <td>31-40</td>\n",
       "    </tr>\n",
       "    <tr>\n",
       "      <td>4</td>\n",
       "      <td>5</td>\n",
       "      <td>50000.0</td>\n",
       "      <td>Male</td>\n",
       "      <td>Bachelor</td>\n",
       "      <td>Married</td>\n",
       "      <td>57</td>\n",
       "      <td>-1</td>\n",
       "      <td>0</td>\n",
       "      <td>-1</td>\n",
       "      <td>0</td>\n",
       "      <td>...</td>\n",
       "      <td>19131.0</td>\n",
       "      <td>2000.0</td>\n",
       "      <td>36681.0</td>\n",
       "      <td>10000.0</td>\n",
       "      <td>9000.0</td>\n",
       "      <td>689.0</td>\n",
       "      <td>679.0</td>\n",
       "      <td>0</td>\n",
       "      <td>Advance</td>\n",
       "      <td>51-60</td>\n",
       "    </tr>\n",
       "  </tbody>\n",
       "</table>\n",
       "<p>5 rows × 27 columns</p>\n",
       "</div>"
      ],
      "text/plain": [
       "   ID  Total credit     Sex Education Marriage  Age  Delay September  \\\n",
       "0   1       20000.0  Female  Bachelor  Married   24                2   \n",
       "1   2      120000.0  Female  Bachelor   Single   26               -1   \n",
       "2   3       90000.0  Female  Bachelor   Single   34                0   \n",
       "3   4       50000.0  Female  Bachelor  Married   37                0   \n",
       "4   5       50000.0    Male  Bachelor  Married   57               -1   \n",
       "\n",
       "   Delay August  Delay July  Delay June  ...  Bill Statement April  \\\n",
       "0             2          -1          -1  ...                   0.0   \n",
       "1             2           0           0  ...                3261.0   \n",
       "2             0           0           0  ...               15549.0   \n",
       "3             0           0           0  ...               29547.0   \n",
       "4             0          -1           0  ...               19131.0   \n",
       "\n",
       "   Previous payment September  Previous payment August  Previous payment July  \\\n",
       "0                         0.0                    689.0                    0.0   \n",
       "1                         0.0                   1000.0                 1000.0   \n",
       "2                      1518.0                   1500.0                 1000.0   \n",
       "3                      2000.0                   2019.0                 1200.0   \n",
       "4                      2000.0                  36681.0                10000.0   \n",
       "\n",
       "   Previous payment June  Previous payment May  Previous payment April  \\\n",
       "0                    0.0                   0.0                     0.0   \n",
       "1                 1000.0                   0.0                  2000.0   \n",
       "2                 1000.0                1000.0                  5000.0   \n",
       "3                 1100.0                1069.0                  1000.0   \n",
       "4                 9000.0                 689.0                   679.0   \n",
       "\n",
       "   Default  Delay September bins  Age bins  \n",
       "0        1            1-2 months     21-30  \n",
       "1        1               Advance     21-30  \n",
       "2        0                  Duly     31-40  \n",
       "3        0                  Duly     31-40  \n",
       "4        0               Advance     51-60  \n",
       "\n",
       "[5 rows x 27 columns]"
      ]
     },
     "execution_count": 1943,
     "metadata": {},
     "output_type": "execute_result"
    }
   ],
   "source": [
    "credit['Age bins'] = credit['Age'].apply(bins)\n",
    "credit.head()"
   ]
  },
  {
   "cell_type": "markdown",
   "metadata": {},
   "source": [
    "**Quick statistics:**\n",
    "  * 37% of all customers are 21-30 years old\n",
    "  * 36% of all customers are 31-40 years old\n",
    "  * 20% of all customers are 41-50 years old\n",
    "  * 7% of all customers are older than 50 years"
   ]
  },
  {
   "cell_type": "code",
   "execution_count": 1944,
   "metadata": {
    "scrolled": true
   },
   "outputs": [
    {
     "data": {
      "text/plain": [
       "21-30    0.367100\n",
       "31-40    0.357100\n",
       "41-50    0.200167\n",
       "51-60    0.066567\n",
       "61-70    0.008567\n",
       "71-79    0.000500\n",
       "Name: Age bins, dtype: float64"
      ]
     },
     "execution_count": 1944,
     "metadata": {},
     "output_type": "execute_result"
    }
   ],
   "source": [
    "credit['Age bins'].value_counts(normalize=True)"
   ]
  },
  {
   "cell_type": "markdown",
   "metadata": {},
   "source": [
    "**Age and Default:**\n",
    "  * Least likely to default are 31-40 years old\n",
    "  * Most likely to default are older than 50 years old (only 7% of all customers)\n",
    "  * The differences among all age bins are slightly noticeable"
   ]
  },
  {
   "cell_type": "code",
   "execution_count": 1945,
   "metadata": {
    "scrolled": true
   },
   "outputs": [
    {
     "data": {
      "text/plain": [
       "<matplotlib.axes._subplots.AxesSubplot at 0x1aaf2b7290>"
      ]
     },
     "execution_count": 1945,
     "metadata": {},
     "output_type": "execute_result"
    },
    {
     "data": {
      "image/png": "[encoded data removed]",
      "text/plain": [
       "<Figure size 432x288 with 1 Axes>"
      ]
     },
     "metadata": {
      "needs_background": "light"
     },
     "output_type": "display_data"
    }
   ],
   "source": [
    "sns.barplot(x='Age bins', y = 'Default', data=credit, order=['21-30', '31-40', '41-50', '51-60', '61-70', '71-79'])"
   ]
  },
  {
   "cell_type": "markdown",
   "metadata": {},
   "source": [
    "**COMPARISON OF MEANS**\n",
    "\n",
    "  **Continuous variables**:\n",
    "  * Customers, who are older than 60 years old have biggest credits, though there are not so many of them\n",
    "  * If we will ignore those outliers, the 31-40 age bin has biggest credits\n",
    "  * Customers under 30 have smallest credits\n",
    "  "
   ]
  },
  {
   "cell_type": "code",
   "execution_count": 1946,
   "metadata": {},
   "outputs": [],
   "source": [
    "age_means1 = credit.groupby(by=['Age bins'])['Total credit'].mean().sort_values(ascending=False)"
   ]
  },
  {
   "cell_type": "code",
   "execution_count": 1947,
   "metadata": {
    "scrolled": false
   },
   "outputs": [
    {
     "data": {
      "text/plain": [
       "<matplotlib.axes._subplots.AxesSubplot at 0x1aaf41d410>"
      ]
     },
     "execution_count": 1947,
     "metadata": {},
     "output_type": "execute_result"
    },
    {
     "data": {
      "image/png": "[encoded data removed]",
      "text/plain": [
       "<Figure size 432x288 with 1 Axes>"
      ]
     },
     "metadata": {
      "needs_background": "light"
     },
     "output_type": "display_data"
    }
   ],
   "source": [
    "age_means1.plot(kind='bar')"
   ]
  },
  {
   "cell_type": "markdown",
   "metadata": {},
   "source": [
    "### 2. TOTAL CREDIT"
   ]
  },
  {
   "cell_type": "markdown",
   "metadata": {},
   "source": [
    "Description of Total credit variable. Standard deviation is very high: numbers are spread out."
   ]
  },
  {
   "cell_type": "code",
   "execution_count": 1948,
   "metadata": {
    "scrolled": true
   },
   "outputs": [
    {
     "data": {
      "text/plain": [
       "count      30000.000000\n",
       "mean      167484.322667\n",
       "std       129747.661567\n",
       "min        10000.000000\n",
       "25%        50000.000000\n",
       "50%       140000.000000\n",
       "75%       240000.000000\n",
       "max      1000000.000000\n",
       "Name: Total credit, dtype: float64"
      ]
     },
     "execution_count": 1948,
     "metadata": {},
     "output_type": "execute_result"
    }
   ],
   "source": [
    "credit['Total credit'].describe()"
   ]
  },
  {
   "cell_type": "markdown",
   "metadata": {},
   "source": [
    "Distribution of total credit is skewed to the right - it may cause problems for regression models because of its outliers.\n",
    "Needs transformation."
   ]
  },
  {
   "cell_type": "code",
   "execution_count": 1949,
   "metadata": {},
   "outputs": [
    {
     "data": {
      "text/plain": [
       "<matplotlib.axes._subplots.AxesSubplot at 0x1aaf4aa750>"
      ]
     },
     "execution_count": 1949,
     "metadata": {},
     "output_type": "execute_result"
    },
    {
     "data": {
      "image/png": "[encoded data removed]",
      "text/plain": [
       "<Figure size 936x432 with 1 Axes>"
      ]
     },
     "metadata": {
      "needs_background": "light"
     },
     "output_type": "display_data"
    }
   ],
   "source": [
    "fig, ax = plt.subplots(figsize=(13,6)) \n",
    "\n",
    "sns.distplot(credit['Total credit'], ax=ax)"
   ]
  },
  {
   "cell_type": "markdown",
   "metadata": {},
   "source": [
    "**Creating total credit bins:**\n",
    "\n",
    "I will create 5 total credit bins to make further analysis more comprehensive:\n",
    "  * 10,000 - 100,000\n",
    "  * 100,000 - 200,000\n",
    "  * 200,000 - 300,000\n",
    "  * 300,000 - 400,000\n",
    "  * above 400,000"
   ]
  },
  {
   "cell_type": "markdown",
   "metadata": {},
   "source": [
    "Function for total credit bins:"
   ]
  },
  {
   "cell_type": "code",
   "execution_count": 1950,
   "metadata": {},
   "outputs": [],
   "source": [
    "def bins_for_credit(a):\n",
    "    if a >= 10000 and a < 100000:\n",
    "        return '10,000-100,000'\n",
    "    elif a >=100000 and a < 200000:\n",
    "        return '100,000-200,000' \n",
    "    elif a >=200000 and a < 300000:\n",
    "        return '200,000-300,000'\n",
    "    elif a >=300000 and a < 400000:\n",
    "        return '300,000-400,000'\n",
    "    else:\n",
    "        return 'above 400,000'"
   ]
  },
  {
   "cell_type": "markdown",
   "metadata": {},
   "source": [
    "Creating new column for total credit bins:"
   ]
  },
  {
   "cell_type": "code",
   "execution_count": 1951,
   "metadata": {},
   "outputs": [
    {
     "data": {
      "text/html": [
       "<div>\n",
       "<style scoped>\n",
       "    .dataframe tbody tr th:only-of-type {\n",
       "        vertical-align: middle;\n",
       "    }\n",
       "\n",
       "    .dataframe tbody tr th {\n",
       "        vertical-align: top;\n",
       "    }\n",
       "\n",
       "    .dataframe thead th {\n",
       "        text-align: right;\n",
       "    }\n",
       "</style>\n",
       "<table border=\"1\" class=\"dataframe\">\n",
       "  <thead>\n",
       "    <tr style=\"text-align: right;\">\n",
       "      <th></th>\n",
       "      <th>ID</th>\n",
       "      <th>Total credit</th>\n",
       "      <th>Sex</th>\n",
       "      <th>Education</th>\n",
       "      <th>Marriage</th>\n",
       "      <th>Age</th>\n",
       "      <th>Delay September</th>\n",
       "      <th>Delay August</th>\n",
       "      <th>Delay July</th>\n",
       "      <th>Delay June</th>\n",
       "      <th>...</th>\n",
       "      <th>Previous payment September</th>\n",
       "      <th>Previous payment August</th>\n",
       "      <th>Previous payment July</th>\n",
       "      <th>Previous payment June</th>\n",
       "      <th>Previous payment May</th>\n",
       "      <th>Previous payment April</th>\n",
       "      <th>Default</th>\n",
       "      <th>Delay September bins</th>\n",
       "      <th>Age bins</th>\n",
       "      <th>Total credit bins</th>\n",
       "    </tr>\n",
       "  </thead>\n",
       "  <tbody>\n",
       "    <tr>\n",
       "      <td>0</td>\n",
       "      <td>1</td>\n",
       "      <td>20000.0</td>\n",
       "      <td>Female</td>\n",
       "      <td>Bachelor</td>\n",
       "      <td>Married</td>\n",
       "      <td>24</td>\n",
       "      <td>2</td>\n",
       "      <td>2</td>\n",
       "      <td>-1</td>\n",
       "      <td>-1</td>\n",
       "      <td>...</td>\n",
       "      <td>0.0</td>\n",
       "      <td>689.0</td>\n",
       "      <td>0.0</td>\n",
       "      <td>0.0</td>\n",
       "      <td>0.0</td>\n",
       "      <td>0.0</td>\n",
       "      <td>1</td>\n",
       "      <td>1-2 months</td>\n",
       "      <td>21-30</td>\n",
       "      <td>10,000-100,000</td>\n",
       "    </tr>\n",
       "    <tr>\n",
       "      <td>1</td>\n",
       "      <td>2</td>\n",
       "      <td>120000.0</td>\n",
       "      <td>Female</td>\n",
       "      <td>Bachelor</td>\n",
       "      <td>Single</td>\n",
       "      <td>26</td>\n",
       "      <td>-1</td>\n",
       "      <td>2</td>\n",
       "      <td>0</td>\n",
       "      <td>0</td>\n",
       "      <td>...</td>\n",
       "      <td>0.0</td>\n",
       "      <td>1000.0</td>\n",
       "      <td>1000.0</td>\n",
       "      <td>1000.0</td>\n",
       "      <td>0.0</td>\n",
       "      <td>2000.0</td>\n",
       "      <td>1</td>\n",
       "      <td>Advance</td>\n",
       "      <td>21-30</td>\n",
       "      <td>100,000-200,000</td>\n",
       "    </tr>\n",
       "    <tr>\n",
       "      <td>2</td>\n",
       "      <td>3</td>\n",
       "      <td>90000.0</td>\n",
       "      <td>Female</td>\n",
       "      <td>Bachelor</td>\n",
       "      <td>Single</td>\n",
       "      <td>34</td>\n",
       "      <td>0</td>\n",
       "      <td>0</td>\n",
       "      <td>0</td>\n",
       "      <td>0</td>\n",
       "      <td>...</td>\n",
       "      <td>1518.0</td>\n",
       "      <td>1500.0</td>\n",
       "      <td>1000.0</td>\n",
       "      <td>1000.0</td>\n",
       "      <td>1000.0</td>\n",
       "      <td>5000.0</td>\n",
       "      <td>0</td>\n",
       "      <td>Duly</td>\n",
       "      <td>31-40</td>\n",
       "      <td>10,000-100,000</td>\n",
       "    </tr>\n",
       "    <tr>\n",
       "      <td>3</td>\n",
       "      <td>4</td>\n",
       "      <td>50000.0</td>\n",
       "      <td>Female</td>\n",
       "      <td>Bachelor</td>\n",
       "      <td>Married</td>\n",
       "      <td>37</td>\n",
       "      <td>0</td>\n",
       "      <td>0</td>\n",
       "      <td>0</td>\n",
       "      <td>0</td>\n",
       "      <td>...</td>\n",
       "      <td>2000.0</td>\n",
       "      <td>2019.0</td>\n",
       "      <td>1200.0</td>\n",
       "      <td>1100.0</td>\n",
       "      <td>1069.0</td>\n",
       "      <td>1000.0</td>\n",
       "      <td>0</td>\n",
       "      <td>Duly</td>\n",
       "      <td>31-40</td>\n",
       "      <td>10,000-100,000</td>\n",
       "    </tr>\n",
       "    <tr>\n",
       "      <td>4</td>\n",
       "      <td>5</td>\n",
       "      <td>50000.0</td>\n",
       "      <td>Male</td>\n",
       "      <td>Bachelor</td>\n",
       "      <td>Married</td>\n",
       "      <td>57</td>\n",
       "      <td>-1</td>\n",
       "      <td>0</td>\n",
       "      <td>-1</td>\n",
       "      <td>0</td>\n",
       "      <td>...</td>\n",
       "      <td>2000.0</td>\n",
       "      <td>36681.0</td>\n",
       "      <td>10000.0</td>\n",
       "      <td>9000.0</td>\n",
       "      <td>689.0</td>\n",
       "      <td>679.0</td>\n",
       "      <td>0</td>\n",
       "      <td>Advance</td>\n",
       "      <td>51-60</td>\n",
       "      <td>10,000-100,000</td>\n",
       "    </tr>\n",
       "  </tbody>\n",
       "</table>\n",
       "<p>5 rows × 28 columns</p>\n",
       "</div>"
      ],
      "text/plain": [
       "   ID  Total credit     Sex Education Marriage  Age  Delay September  \\\n",
       "0   1       20000.0  Female  Bachelor  Married   24                2   \n",
       "1   2      120000.0  Female  Bachelor   Single   26               -1   \n",
       "2   3       90000.0  Female  Bachelor   Single   34                0   \n",
       "3   4       50000.0  Female  Bachelor  Married   37                0   \n",
       "4   5       50000.0    Male  Bachelor  Married   57               -1   \n",
       "\n",
       "   Delay August  Delay July  Delay June  ...  Previous payment September  \\\n",
       "0             2          -1          -1  ...                         0.0   \n",
       "1             2           0           0  ...                         0.0   \n",
       "2             0           0           0  ...                      1518.0   \n",
       "3             0           0           0  ...                      2000.0   \n",
       "4             0          -1           0  ...                      2000.0   \n",
       "\n",
       "   Previous payment August  Previous payment July  Previous payment June  \\\n",
       "0                    689.0                    0.0                    0.0   \n",
       "1                   1000.0                 1000.0                 1000.0   \n",
       "2                   1500.0                 1000.0                 1000.0   \n",
       "3                   2019.0                 1200.0                 1100.0   \n",
       "4                  36681.0                10000.0                 9000.0   \n",
       "\n",
       "   Previous payment May  Previous payment April  Default  \\\n",
       "0                   0.0                     0.0        1   \n",
       "1                   0.0                  2000.0        1   \n",
       "2                1000.0                  5000.0        0   \n",
       "3                1069.0                  1000.0        0   \n",
       "4                 689.0                   679.0        0   \n",
       "\n",
       "   Delay September bins  Age bins  Total credit bins  \n",
       "0            1-2 months     21-30     10,000-100,000  \n",
       "1               Advance     21-30    100,000-200,000  \n",
       "2                  Duly     31-40     10,000-100,000  \n",
       "3                  Duly     31-40     10,000-100,000  \n",
       "4               Advance     51-60     10,000-100,000  \n",
       "\n",
       "[5 rows x 28 columns]"
      ]
     },
     "execution_count": 1951,
     "metadata": {},
     "output_type": "execute_result"
    }
   ],
   "source": [
    "credit['Total credit bins'] = credit['Total credit'].apply(bins_for_credit)\n",
    "credit.head()"
   ]
  },
  {
   "cell_type": "markdown",
   "metadata": {},
   "source": [
    "**Quick statistics:**\n",
    "  * 10,000 - 100,000: 38% of customers\n",
    "  * 100,000 - 200,000: 25% of customers\n",
    "  * 200,000 - 300,000: 20% of customers\n",
    "  * 300,000 - 400,000: 10% of customers\n",
    "  * above 400,000: 7% of customers"
   ]
  },
  {
   "cell_type": "code",
   "execution_count": 1952,
   "metadata": {
    "scrolled": true
   },
   "outputs": [
    {
     "data": {
      "text/plain": [
       "10,000-100,000     0.381667\n",
       "100,000-200,000    0.246667\n",
       "200,000-300,000    0.201100\n",
       "300,000-400,000    0.101400\n",
       "above 400,000      0.069167\n",
       "Name: Total credit bins, dtype: float64"
      ]
     },
     "execution_count": 1952,
     "metadata": {},
     "output_type": "execute_result"
    }
   ],
   "source": [
    "credit['Total credit bins'].value_counts(normalize=True)"
   ]
  },
  {
   "cell_type": "markdown",
   "metadata": {},
   "source": [
    "**Total credit bins and default:**\n",
    "  * The smaller the sum of your credit - more likely to default"
   ]
  },
  {
   "cell_type": "code",
   "execution_count": 1953,
   "metadata": {
    "scrolled": false
   },
   "outputs": [
    {
     "data": {
      "text/plain": [
       "<matplotlib.axes._subplots.AxesSubplot at 0x1aaffef950>"
      ]
     },
     "execution_count": 1953,
     "metadata": {},
     "output_type": "execute_result"
    },
    {
     "data": {
      "image/png": "[encoded data removed]",
      "text/plain": [
       "<Figure size 576x432 with 1 Axes>"
      ]
     },
     "metadata": {
      "needs_background": "light"
     },
     "output_type": "display_data"
    }
   ],
   "source": [
    "fig, ax = plt.subplots(figsize=(8,6)) \n",
    "\n",
    "sns.barplot(x='Total credit bins', y = 'Default', data=credit, ax=ax, \n",
    "            order=['10,000-100,000', '100,000-200,000', '200,000-300,000', '300,000-400,000', 'above 400,000'])"
   ]
  },
  {
   "cell_type": "markdown",
   "metadata": {},
   "source": [
    "**Total credit limit, Delays, Marriage, Education and Default:**\n",
    "\n",
    "TOP risk groups:\n",
    "  * 7,6% of all defaults caused by single customers with Bachelor degree, 1-2 months delay status and credit limit under 100,000\n",
    "  * 6,4% of all defaults caused by married customers with Bachelor degree, 1-2 months delay status and credit limit under 100,000\n",
    "  * 5,2% of all defaults caused by sinle customers with Bachelor degree, who pay duly and have credit limit under 100,000\n",
    "  * 4,9% of all defaults caused by married customers with Bachelor degree, who pay duly and have credit limit under 100,000\n",
    "  * 4% of all defaults caused by married customers with high school level of education, 1-2 months delay status and have credit limit under 100,000"
   ]
  },
  {
   "cell_type": "code",
   "execution_count": 1962,
   "metadata": {},
   "outputs": [
    {
     "data": {
      "text/plain": [
       "<matplotlib.axes._subplots.AxesSubplot at 0x1ab0c92510>"
      ]
     },
     "execution_count": 1962,
     "metadata": {},
     "output_type": "execute_result"
    },
    {
     "data": {
      "image/png": "[encoded data removed]",
      "text/plain": [
       "<Figure size 936x720 with 1 Axes>"
      ]
     },
     "metadata": {
      "needs_background": "light"
     },
     "output_type": "display_data"
    }
   ],
   "source": [
    "limit_m_default = pd.crosstab([credit['Marriage'], credit['Delay September bins'], credit['Education']], credit['Total credit bins'], \n",
    "                           values=credit['Default'], aggfunc='sum', normalize=True)\n",
    "\n",
    "fig, ax = plt.subplots(figsize=(13,10)) \n",
    "sns.heatmap(limit_m_default, cmap='Blues', annot=True, cbar=False, ax=ax)"
   ]
  },
  {
   "cell_type": "markdown",
   "metadata": {},
   "source": [
    "### CALCULATED COLUMNS"
   ]
  },
  {
   "cell_type": "markdown",
   "metadata": {},
   "source": [
    "Creating new columns for further analysis (and for eliminating multicollinearity between those columns):\n",
    "  * Total statement\n",
    "  * Total payment\n",
    "  * Total statement - Total payment = Debt"
   ]
  },
  {
   "cell_type": "code",
   "execution_count": 1964,
   "metadata": {},
   "outputs": [],
   "source": [
    "credit['Total statement'] = (credit['Bill Statement September'] + credit['Bill Statement August'] + credit['Bill Statement July'] +\n",
    "credit['Bill Statement June'] + credit['Bill Statement May'] + credit['Bill Statement April'])"
   ]
  },
  {
   "cell_type": "code",
   "execution_count": 1965,
   "metadata": {},
   "outputs": [],
   "source": [
    "credit['Total payment'] = (credit['Previous payment September'] + credit['Previous payment August'] + credit['Previous payment July'] +\n",
    "credit['Previous payment June'] + credit['Previous payment May'] + credit['Previous payment April'])"
   ]
  },
  {
   "cell_type": "code",
   "execution_count": 1966,
   "metadata": {
    "scrolled": false
   },
   "outputs": [
    {
     "data": {
      "text/html": [
       "<div>\n",
       "<style scoped>\n",
       "    .dataframe tbody tr th:only-of-type {\n",
       "        vertical-align: middle;\n",
       "    }\n",
       "\n",
       "    .dataframe tbody tr th {\n",
       "        vertical-align: top;\n",
       "    }\n",
       "\n",
       "    .dataframe thead th {\n",
       "        text-align: right;\n",
       "    }\n",
       "</style>\n",
       "<table border=\"1\" class=\"dataframe\">\n",
       "  <thead>\n",
       "    <tr style=\"text-align: right;\">\n",
       "      <th></th>\n",
       "      <th>ID</th>\n",
       "      <th>Total credit</th>\n",
       "      <th>Sex</th>\n",
       "      <th>Education</th>\n",
       "      <th>Marriage</th>\n",
       "      <th>Age</th>\n",
       "      <th>Delay September</th>\n",
       "      <th>Delay August</th>\n",
       "      <th>Delay July</th>\n",
       "      <th>Delay June</th>\n",
       "      <th>...</th>\n",
       "      <th>Previous payment June</th>\n",
       "      <th>Previous payment May</th>\n",
       "      <th>Previous payment April</th>\n",
       "      <th>Default</th>\n",
       "      <th>Delay September bins</th>\n",
       "      <th>Age bins</th>\n",
       "      <th>Total credit bins</th>\n",
       "      <th>Total statement</th>\n",
       "      <th>Total payment</th>\n",
       "      <th>Debt</th>\n",
       "    </tr>\n",
       "  </thead>\n",
       "  <tbody>\n",
       "    <tr>\n",
       "      <td>0</td>\n",
       "      <td>1</td>\n",
       "      <td>20000.0</td>\n",
       "      <td>Female</td>\n",
       "      <td>Bachelor</td>\n",
       "      <td>Married</td>\n",
       "      <td>24</td>\n",
       "      <td>2</td>\n",
       "      <td>2</td>\n",
       "      <td>-1</td>\n",
       "      <td>-1</td>\n",
       "      <td>...</td>\n",
       "      <td>0.0</td>\n",
       "      <td>0.0</td>\n",
       "      <td>0.0</td>\n",
       "      <td>1</td>\n",
       "      <td>1-2 months</td>\n",
       "      <td>21-30</td>\n",
       "      <td>10,000-100,000</td>\n",
       "      <td>7704.0</td>\n",
       "      <td>689.0</td>\n",
       "      <td>7015.0</td>\n",
       "    </tr>\n",
       "    <tr>\n",
       "      <td>1</td>\n",
       "      <td>2</td>\n",
       "      <td>120000.0</td>\n",
       "      <td>Female</td>\n",
       "      <td>Bachelor</td>\n",
       "      <td>Single</td>\n",
       "      <td>26</td>\n",
       "      <td>-1</td>\n",
       "      <td>2</td>\n",
       "      <td>0</td>\n",
       "      <td>0</td>\n",
       "      <td>...</td>\n",
       "      <td>1000.0</td>\n",
       "      <td>0.0</td>\n",
       "      <td>2000.0</td>\n",
       "      <td>1</td>\n",
       "      <td>Advance</td>\n",
       "      <td>21-30</td>\n",
       "      <td>100,000-200,000</td>\n",
       "      <td>17077.0</td>\n",
       "      <td>5000.0</td>\n",
       "      <td>12077.0</td>\n",
       "    </tr>\n",
       "    <tr>\n",
       "      <td>2</td>\n",
       "      <td>3</td>\n",
       "      <td>90000.0</td>\n",
       "      <td>Female</td>\n",
       "      <td>Bachelor</td>\n",
       "      <td>Single</td>\n",
       "      <td>34</td>\n",
       "      <td>0</td>\n",
       "      <td>0</td>\n",
       "      <td>0</td>\n",
       "      <td>0</td>\n",
       "      <td>...</td>\n",
       "      <td>1000.0</td>\n",
       "      <td>1000.0</td>\n",
       "      <td>5000.0</td>\n",
       "      <td>0</td>\n",
       "      <td>Duly</td>\n",
       "      <td>31-40</td>\n",
       "      <td>10,000-100,000</td>\n",
       "      <td>101653.0</td>\n",
       "      <td>11018.0</td>\n",
       "      <td>90635.0</td>\n",
       "    </tr>\n",
       "    <tr>\n",
       "      <td>3</td>\n",
       "      <td>4</td>\n",
       "      <td>50000.0</td>\n",
       "      <td>Female</td>\n",
       "      <td>Bachelor</td>\n",
       "      <td>Married</td>\n",
       "      <td>37</td>\n",
       "      <td>0</td>\n",
       "      <td>0</td>\n",
       "      <td>0</td>\n",
       "      <td>0</td>\n",
       "      <td>...</td>\n",
       "      <td>1100.0</td>\n",
       "      <td>1069.0</td>\n",
       "      <td>1000.0</td>\n",
       "      <td>0</td>\n",
       "      <td>Duly</td>\n",
       "      <td>31-40</td>\n",
       "      <td>10,000-100,000</td>\n",
       "      <td>231334.0</td>\n",
       "      <td>8388.0</td>\n",
       "      <td>222946.0</td>\n",
       "    </tr>\n",
       "    <tr>\n",
       "      <td>4</td>\n",
       "      <td>5</td>\n",
       "      <td>50000.0</td>\n",
       "      <td>Male</td>\n",
       "      <td>Bachelor</td>\n",
       "      <td>Married</td>\n",
       "      <td>57</td>\n",
       "      <td>-1</td>\n",
       "      <td>0</td>\n",
       "      <td>-1</td>\n",
       "      <td>0</td>\n",
       "      <td>...</td>\n",
       "      <td>9000.0</td>\n",
       "      <td>689.0</td>\n",
       "      <td>679.0</td>\n",
       "      <td>0</td>\n",
       "      <td>Advance</td>\n",
       "      <td>51-60</td>\n",
       "      <td>10,000-100,000</td>\n",
       "      <td>109339.0</td>\n",
       "      <td>59049.0</td>\n",
       "      <td>50290.0</td>\n",
       "    </tr>\n",
       "  </tbody>\n",
       "</table>\n",
       "<p>5 rows × 31 columns</p>\n",
       "</div>"
      ],
      "text/plain": [
       "   ID  Total credit     Sex Education Marriage  Age  Delay September  \\\n",
       "0   1       20000.0  Female  Bachelor  Married   24                2   \n",
       "1   2      120000.0  Female  Bachelor   Single   26               -1   \n",
       "2   3       90000.0  Female  Bachelor   Single   34                0   \n",
       "3   4       50000.0  Female  Bachelor  Married   37                0   \n",
       "4   5       50000.0    Male  Bachelor  Married   57               -1   \n",
       "\n",
       "   Delay August  Delay July  Delay June  ...  Previous payment June  \\\n",
       "0             2          -1          -1  ...                    0.0   \n",
       "1             2           0           0  ...                 1000.0   \n",
       "2             0           0           0  ...                 1000.0   \n",
       "3             0           0           0  ...                 1100.0   \n",
       "4             0          -1           0  ...                 9000.0   \n",
       "\n",
       "   Previous payment May  Previous payment April  Default  \\\n",
       "0                   0.0                     0.0        1   \n",
       "1                   0.0                  2000.0        1   \n",
       "2                1000.0                  5000.0        0   \n",
       "3                1069.0                  1000.0        0   \n",
       "4                 689.0                   679.0        0   \n",
       "\n",
       "   Delay September bins  Age bins  Total credit bins  Total statement  \\\n",
       "0            1-2 months     21-30     10,000-100,000           7704.0   \n",
       "1               Advance     21-30    100,000-200,000          17077.0   \n",
       "2                  Duly     31-40     10,000-100,000         101653.0   \n",
       "3                  Duly     31-40     10,000-100,000         231334.0   \n",
       "4               Advance     51-60     10,000-100,000         109339.0   \n",
       "\n",
       "   Total payment      Debt  \n",
       "0          689.0    7015.0  \n",
       "1         5000.0   12077.0  \n",
       "2        11018.0   90635.0  \n",
       "3         8388.0  222946.0  \n",
       "4        59049.0   50290.0  \n",
       "\n",
       "[5 rows x 31 columns]"
      ]
     },
     "execution_count": 1966,
     "metadata": {},
     "output_type": "execute_result"
    }
   ],
   "source": [
    "credit['Debt'] = credit['Total statement'] - credit['Total payment']\n",
    "credit.head()"
   ]
  },
  {
   "cell_type": "markdown",
   "metadata": {},
   "source": [
    "### MAPPING CATEGORICAL VALUES BACK TO ENCODED VALUES\n",
    "#### SEX, EDUCATION, MARRIAGE"
   ]
  },
  {
   "cell_type": "code",
   "execution_count": 2002,
   "metadata": {},
   "outputs": [],
   "source": [
    "sm = {'Male':0, 'Female':1}\n",
    "credit['Sex'] = credit['Sex'].map(sm)"
   ]
  },
  {
   "cell_type": "code",
   "execution_count": 2003,
   "metadata": {},
   "outputs": [],
   "source": [
    "em = {'Bachelor':2, 'Master':3, 'High school':1, 'Unknown':0}\n",
    "credit['Education'] = credit['Education'].map(em)"
   ]
  },
  {
   "cell_type": "code",
   "execution_count": 2004,
   "metadata": {},
   "outputs": [],
   "source": [
    "mm = {'Married':2, 'Single':1, 'Others':0}\n",
    "credit['Marriage'] = credit['Marriage'].map(mm)"
   ]
  },
  {
   "cell_type": "code",
   "execution_count": 2005,
   "metadata": {},
   "outputs": [
    {
     "data": {
      "text/html": [
       "<div>\n",
       "<style scoped>\n",
       "    .dataframe tbody tr th:only-of-type {\n",
       "        vertical-align: middle;\n",
       "    }\n",
       "\n",
       "    .dataframe tbody tr th {\n",
       "        vertical-align: top;\n",
       "    }\n",
       "\n",
       "    .dataframe thead th {\n",
       "        text-align: right;\n",
       "    }\n",
       "</style>\n",
       "<table border=\"1\" class=\"dataframe\">\n",
       "  <thead>\n",
       "    <tr style=\"text-align: right;\">\n",
       "      <th></th>\n",
       "      <th>ID</th>\n",
       "      <th>Total credit</th>\n",
       "      <th>Sex</th>\n",
       "      <th>Education</th>\n",
       "      <th>Marriage</th>\n",
       "      <th>Age</th>\n",
       "      <th>Delay September</th>\n",
       "      <th>Delay August</th>\n",
       "      <th>Delay July</th>\n",
       "      <th>Delay June</th>\n",
       "      <th>...</th>\n",
       "      <th>Previous payment May</th>\n",
       "      <th>Previous payment April</th>\n",
       "      <th>Default</th>\n",
       "      <th>Delay September bins</th>\n",
       "      <th>Age bins</th>\n",
       "      <th>Total credit bins</th>\n",
       "      <th>Total statement</th>\n",
       "      <th>Total payment</th>\n",
       "      <th>Debt</th>\n",
       "      <th>Total payment bins</th>\n",
       "    </tr>\n",
       "  </thead>\n",
       "  <tbody>\n",
       "    <tr>\n",
       "      <td>0</td>\n",
       "      <td>1</td>\n",
       "      <td>20000.0</td>\n",
       "      <td>1</td>\n",
       "      <td>2</td>\n",
       "      <td>2</td>\n",
       "      <td>24</td>\n",
       "      <td>2</td>\n",
       "      <td>2</td>\n",
       "      <td>-1</td>\n",
       "      <td>-1</td>\n",
       "      <td>...</td>\n",
       "      <td>0.0</td>\n",
       "      <td>0.0</td>\n",
       "      <td>1</td>\n",
       "      <td>1-2 months</td>\n",
       "      <td>21-30</td>\n",
       "      <td>10,000-100,000</td>\n",
       "      <td>7704.0</td>\n",
       "      <td>689.0</td>\n",
       "      <td>7015.0</td>\n",
       "      <td>1-5,000</td>\n",
       "    </tr>\n",
       "    <tr>\n",
       "      <td>1</td>\n",
       "      <td>2</td>\n",
       "      <td>120000.0</td>\n",
       "      <td>1</td>\n",
       "      <td>2</td>\n",
       "      <td>1</td>\n",
       "      <td>26</td>\n",
       "      <td>-1</td>\n",
       "      <td>2</td>\n",
       "      <td>0</td>\n",
       "      <td>0</td>\n",
       "      <td>...</td>\n",
       "      <td>0.0</td>\n",
       "      <td>2000.0</td>\n",
       "      <td>1</td>\n",
       "      <td>Advance</td>\n",
       "      <td>21-30</td>\n",
       "      <td>100,000-200,000</td>\n",
       "      <td>17077.0</td>\n",
       "      <td>5000.0</td>\n",
       "      <td>12077.0</td>\n",
       "      <td>1-5,000</td>\n",
       "    </tr>\n",
       "    <tr>\n",
       "      <td>2</td>\n",
       "      <td>3</td>\n",
       "      <td>90000.0</td>\n",
       "      <td>1</td>\n",
       "      <td>2</td>\n",
       "      <td>1</td>\n",
       "      <td>34</td>\n",
       "      <td>0</td>\n",
       "      <td>0</td>\n",
       "      <td>0</td>\n",
       "      <td>0</td>\n",
       "      <td>...</td>\n",
       "      <td>1000.0</td>\n",
       "      <td>5000.0</td>\n",
       "      <td>0</td>\n",
       "      <td>Duly</td>\n",
       "      <td>31-40</td>\n",
       "      <td>10,000-100,000</td>\n",
       "      <td>101653.0</td>\n",
       "      <td>11018.0</td>\n",
       "      <td>90635.0</td>\n",
       "      <td>10,001-20,000</td>\n",
       "    </tr>\n",
       "    <tr>\n",
       "      <td>3</td>\n",
       "      <td>4</td>\n",
       "      <td>50000.0</td>\n",
       "      <td>1</td>\n",
       "      <td>2</td>\n",
       "      <td>2</td>\n",
       "      <td>37</td>\n",
       "      <td>0</td>\n",
       "      <td>0</td>\n",
       "      <td>0</td>\n",
       "      <td>0</td>\n",
       "      <td>...</td>\n",
       "      <td>1069.0</td>\n",
       "      <td>1000.0</td>\n",
       "      <td>0</td>\n",
       "      <td>Duly</td>\n",
       "      <td>31-40</td>\n",
       "      <td>10,000-100,000</td>\n",
       "      <td>231334.0</td>\n",
       "      <td>8388.0</td>\n",
       "      <td>222946.0</td>\n",
       "      <td>5,001-10,000</td>\n",
       "    </tr>\n",
       "    <tr>\n",
       "      <td>4</td>\n",
       "      <td>5</td>\n",
       "      <td>50000.0</td>\n",
       "      <td>0</td>\n",
       "      <td>2</td>\n",
       "      <td>2</td>\n",
       "      <td>57</td>\n",
       "      <td>-1</td>\n",
       "      <td>0</td>\n",
       "      <td>-1</td>\n",
       "      <td>0</td>\n",
       "      <td>...</td>\n",
       "      <td>689.0</td>\n",
       "      <td>679.0</td>\n",
       "      <td>0</td>\n",
       "      <td>Advance</td>\n",
       "      <td>51-60</td>\n",
       "      <td>10,000-100,000</td>\n",
       "      <td>109339.0</td>\n",
       "      <td>59049.0</td>\n",
       "      <td>50290.0</td>\n",
       "      <td>40,001-60,000</td>\n",
       "    </tr>\n",
       "  </tbody>\n",
       "</table>\n",
       "<p>5 rows × 32 columns</p>\n",
       "</div>"
      ],
      "text/plain": [
       "   ID  Total credit  Sex  Education  Marriage  Age  Delay September  \\\n",
       "0   1       20000.0    1          2         2   24                2   \n",
       "1   2      120000.0    1          2         1   26               -1   \n",
       "2   3       90000.0    1          2         1   34                0   \n",
       "3   4       50000.0    1          2         2   37                0   \n",
       "4   5       50000.0    0          2         2   57               -1   \n",
       "\n",
       "   Delay August  Delay July  Delay June  ...  Previous payment May  \\\n",
       "0             2          -1          -1  ...                   0.0   \n",
       "1             2           0           0  ...                   0.0   \n",
       "2             0           0           0  ...                1000.0   \n",
       "3             0           0           0  ...                1069.0   \n",
       "4             0          -1           0  ...                 689.0   \n",
       "\n",
       "   Previous payment April  Default  Delay September bins  Age bins  \\\n",
       "0                     0.0        1            1-2 months     21-30   \n",
       "1                  2000.0        1               Advance     21-30   \n",
       "2                  5000.0        0                  Duly     31-40   \n",
       "3                  1000.0        0                  Duly     31-40   \n",
       "4                   679.0        0               Advance     51-60   \n",
       "\n",
       "   Total credit bins  Total statement  Total payment      Debt  \\\n",
       "0     10,000-100,000           7704.0          689.0    7015.0   \n",
       "1    100,000-200,000          17077.0         5000.0   12077.0   \n",
       "2     10,000-100,000         101653.0        11018.0   90635.0   \n",
       "3     10,000-100,000         231334.0         8388.0  222946.0   \n",
       "4     10,000-100,000         109339.0        59049.0   50290.0   \n",
       "\n",
       "   Total payment bins  \n",
       "0             1-5,000  \n",
       "1             1-5,000  \n",
       "2       10,001-20,000  \n",
       "3        5,001-10,000  \n",
       "4       40,001-60,000  \n",
       "\n",
       "[5 rows x 32 columns]"
      ]
     },
     "execution_count": 2005,
     "metadata": {},
     "output_type": "execute_result"
    }
   ],
   "source": [
    "credit.head()"
   ]
  },
  {
   "cell_type": "markdown",
   "metadata": {},
   "source": [
    "### STANDARTIZATION"
   ]
  },
  {
   "cell_type": "code",
   "execution_count": 1669,
   "metadata": {},
   "outputs": [],
   "source": [
    "from sklearn.preprocessing import StandardScaler"
   ]
  },
  {
   "cell_type": "code",
   "execution_count": 1670,
   "metadata": {},
   "outputs": [],
   "source": [
    "ss = StandardScaler()"
   ]
  },
  {
   "cell_type": "markdown",
   "metadata": {},
   "source": [
    "Columns to be transformed:"
   ]
  },
  {
   "cell_type": "code",
   "execution_count": 1671,
   "metadata": {},
   "outputs": [],
   "source": [
    "cols = ['Total credit','Age','Bill Statement September',\n",
    "       'Bill Statement August', 'Bill Statement July', 'Bill Statement June',\n",
    "       'Bill Statement May', 'Bill Statement April',\n",
    "       'Previous payment September', 'Previous payment August',\n",
    "       'Previous payment July', 'Previous payment June',\n",
    "       'Previous payment May', 'Previous payment April',\n",
    "       'Total statement', 'Total payment', 'Debt']"
   ]
  },
  {
   "cell_type": "code",
   "execution_count": 1672,
   "metadata": {},
   "outputs": [
    {
     "data": {
      "text/html": [
       "<div>\n",
       "<style scoped>\n",
       "    .dataframe tbody tr th:only-of-type {\n",
       "        vertical-align: middle;\n",
       "    }\n",
       "\n",
       "    .dataframe tbody tr th {\n",
       "        vertical-align: top;\n",
       "    }\n",
       "\n",
       "    .dataframe thead th {\n",
       "        text-align: right;\n",
       "    }\n",
       "</style>\n",
       "<table border=\"1\" class=\"dataframe\">\n",
       "  <thead>\n",
       "    <tr style=\"text-align: right;\">\n",
       "      <th></th>\n",
       "      <th>ID</th>\n",
       "      <th>Total credit</th>\n",
       "      <th>Sex</th>\n",
       "      <th>Education</th>\n",
       "      <th>Marriage</th>\n",
       "      <th>Age</th>\n",
       "      <th>Delay September</th>\n",
       "      <th>Delay August</th>\n",
       "      <th>Delay July</th>\n",
       "      <th>Delay June</th>\n",
       "      <th>...</th>\n",
       "      <th>Previous payment June</th>\n",
       "      <th>Previous payment May</th>\n",
       "      <th>Previous payment April</th>\n",
       "      <th>Default</th>\n",
       "      <th>Delay September bins</th>\n",
       "      <th>Age bins</th>\n",
       "      <th>Total credit bins</th>\n",
       "      <th>Total statement</th>\n",
       "      <th>Total payment</th>\n",
       "      <th>Debt</th>\n",
       "    </tr>\n",
       "  </thead>\n",
       "  <tbody>\n",
       "    <tr>\n",
       "      <td>0</td>\n",
       "      <td>1</td>\n",
       "      <td>-1.136720</td>\n",
       "      <td>1</td>\n",
       "      <td>2</td>\n",
       "      <td>2</td>\n",
       "      <td>-1.246020</td>\n",
       "      <td>2</td>\n",
       "      <td>2</td>\n",
       "      <td>-1</td>\n",
       "      <td>-1</td>\n",
       "      <td>...</td>\n",
       "      <td>-0.308063</td>\n",
       "      <td>-0.314136</td>\n",
       "      <td>-0.293382</td>\n",
       "      <td>1</td>\n",
       "      <td>1-2 months</td>\n",
       "      <td>21-30</td>\n",
       "      <td>10,000-100,000</td>\n",
       "      <td>-0.690692</td>\n",
       "      <td>-0.509027</td>\n",
       "      <td>-0.636623</td>\n",
       "    </tr>\n",
       "    <tr>\n",
       "      <td>1</td>\n",
       "      <td>2</td>\n",
       "      <td>-0.365981</td>\n",
       "      <td>1</td>\n",
       "      <td>2</td>\n",
       "      <td>1</td>\n",
       "      <td>-1.029047</td>\n",
       "      <td>-1</td>\n",
       "      <td>2</td>\n",
       "      <td>0</td>\n",
       "      <td>0</td>\n",
       "      <td>...</td>\n",
       "      <td>-0.244230</td>\n",
       "      <td>-0.314136</td>\n",
       "      <td>-0.180878</td>\n",
       "      <td>1</td>\n",
       "      <td>Advance</td>\n",
       "      <td>21-30</td>\n",
       "      <td>100,000-200,000</td>\n",
       "      <td>-0.665997</td>\n",
       "      <td>-0.438153</td>\n",
       "      <td>-0.622684</td>\n",
       "    </tr>\n",
       "    <tr>\n",
       "      <td>2</td>\n",
       "      <td>3</td>\n",
       "      <td>-0.597202</td>\n",
       "      <td>1</td>\n",
       "      <td>2</td>\n",
       "      <td>1</td>\n",
       "      <td>-0.161156</td>\n",
       "      <td>0</td>\n",
       "      <td>0</td>\n",
       "      <td>0</td>\n",
       "      <td>0</td>\n",
       "      <td>...</td>\n",
       "      <td>-0.244230</td>\n",
       "      <td>-0.248683</td>\n",
       "      <td>-0.012122</td>\n",
       "      <td>0</td>\n",
       "      <td>Duly</td>\n",
       "      <td>31-40</td>\n",
       "      <td>10,000-100,000</td>\n",
       "      <td>-0.443170</td>\n",
       "      <td>-0.339216</td>\n",
       "      <td>-0.406365</td>\n",
       "    </tr>\n",
       "    <tr>\n",
       "      <td>3</td>\n",
       "      <td>4</td>\n",
       "      <td>-0.905498</td>\n",
       "      <td>1</td>\n",
       "      <td>2</td>\n",
       "      <td>2</td>\n",
       "      <td>0.164303</td>\n",
       "      <td>0</td>\n",
       "      <td>0</td>\n",
       "      <td>0</td>\n",
       "      <td>0</td>\n",
       "      <td>...</td>\n",
       "      <td>-0.237846</td>\n",
       "      <td>-0.244166</td>\n",
       "      <td>-0.237130</td>\n",
       "      <td>0</td>\n",
       "      <td>Duly</td>\n",
       "      <td>31-40</td>\n",
       "      <td>10,000-100,000</td>\n",
       "      <td>-0.101507</td>\n",
       "      <td>-0.382454</td>\n",
       "      <td>-0.042032</td>\n",
       "    </tr>\n",
       "    <tr>\n",
       "      <td>4</td>\n",
       "      <td>5</td>\n",
       "      <td>-0.905498</td>\n",
       "      <td>0</td>\n",
       "      <td>2</td>\n",
       "      <td>2</td>\n",
       "      <td>2.334029</td>\n",
       "      <td>-1</td>\n",
       "      <td>0</td>\n",
       "      <td>-1</td>\n",
       "      <td>0</td>\n",
       "      <td>...</td>\n",
       "      <td>0.266434</td>\n",
       "      <td>-0.269039</td>\n",
       "      <td>-0.255187</td>\n",
       "      <td>0</td>\n",
       "      <td>Advance</td>\n",
       "      <td>51-60</td>\n",
       "      <td>10,000-100,000</td>\n",
       "      <td>-0.422920</td>\n",
       "      <td>0.450421</td>\n",
       "      <td>-0.517460</td>\n",
       "    </tr>\n",
       "  </tbody>\n",
       "</table>\n",
       "<p>5 rows × 31 columns</p>\n",
       "</div>"
      ],
      "text/plain": [
       "   ID  Total credit  Sex  Education  Marriage       Age  Delay September  \\\n",
       "0   1     -1.136720    1          2         2 -1.246020                2   \n",
       "1   2     -0.365981    1          2         1 -1.029047               -1   \n",
       "2   3     -0.597202    1          2         1 -0.161156                0   \n",
       "3   4     -0.905498    1          2         2  0.164303                0   \n",
       "4   5     -0.905498    0          2         2  2.334029               -1   \n",
       "\n",
       "   Delay August  Delay July  Delay June  ...  Previous payment June  \\\n",
       "0             2          -1          -1  ...              -0.308063   \n",
       "1             2           0           0  ...              -0.244230   \n",
       "2             0           0           0  ...              -0.244230   \n",
       "3             0           0           0  ...              -0.237846   \n",
       "4             0          -1           0  ...               0.266434   \n",
       "\n",
       "   Previous payment May  Previous payment April  Default  \\\n",
       "0             -0.314136               -0.293382        1   \n",
       "1             -0.314136               -0.180878        1   \n",
       "2             -0.248683               -0.012122        0   \n",
       "3             -0.244166               -0.237130        0   \n",
       "4             -0.269039               -0.255187        0   \n",
       "\n",
       "   Delay September bins  Age bins  Total credit bins  Total statement  \\\n",
       "0            1-2 months     21-30     10,000-100,000        -0.690692   \n",
       "1               Advance     21-30    100,000-200,000        -0.665997   \n",
       "2                  Duly     31-40     10,000-100,000        -0.443170   \n",
       "3                  Duly     31-40     10,000-100,000        -0.101507   \n",
       "4               Advance     51-60     10,000-100,000        -0.422920   \n",
       "\n",
       "   Total payment      Debt  \n",
       "0      -0.509027 -0.636623  \n",
       "1      -0.438153 -0.622684  \n",
       "2      -0.339216 -0.406365  \n",
       "3      -0.382454 -0.042032  \n",
       "4       0.450421 -0.517460  \n",
       "\n",
       "[5 rows x 31 columns]"
      ]
     },
     "execution_count": 1672,
     "metadata": {},
     "output_type": "execute_result"
    }
   ],
   "source": [
    "credit[cols] = ss.fit_transform(credit[cols])\n",
    "credit.head()"
   ]
  },
  {
   "cell_type": "markdown",
   "metadata": {},
   "source": [
    "### HEATMAP\n",
    "#### CHECK FOR CORRELATION AND MULTICOLLINEARITY"
   ]
  },
  {
   "cell_type": "code",
   "execution_count": 1673,
   "metadata": {},
   "outputs": [],
   "source": [
    "al_all = credit[['Total credit', 'Sex', 'Education', 'Marriage', 'Age',\n",
    "       'Delay September', 'Delay August', 'Delay July', 'Delay June',\n",
    "       'Delay May', 'Delay April', 'Bill Statement September',\n",
    "       'Bill Statement August', 'Bill Statement July', 'Bill Statement June',\n",
    "       'Bill Statement May', 'Bill Statement April',\n",
    "       'Previous payment September', 'Previous payment August',\n",
    "       'Previous payment July', 'Previous payment June',\n",
    "       'Previous payment May', 'Previous payment April', 'Default',\n",
    "       'Total statement', 'Total payment', 'Debt']]"
   ]
  },
  {
   "cell_type": "code",
   "execution_count": 1674,
   "metadata": {
    "scrolled": false
   },
   "outputs": [
    {
     "data": {
      "text/plain": [
       "<matplotlib.axes._subplots.AxesSubplot at 0x1a84f74e50>"
      ]
     },
     "execution_count": 1674,
     "metadata": {},
     "output_type": "execute_result"
    },
    {
     "data": {
      "image/png": "[encoded data removed]",
      "text/plain": [
       "<Figure size 936x720 with 1 Axes>"
      ]
     },
     "metadata": {
      "needs_background": "light"
     },
     "output_type": "display_data"
    }
   ],
   "source": [
    "fig, ax = plt.subplots(figsize=(13,10)) \n",
    "\n",
    "sns.heatmap(al_all.corr(), ax=ax, cmap='Blues', cbar=False)"
   ]
  },
  {
   "cell_type": "markdown",
   "metadata": {},
   "source": [
    "Selecting variables which correlate with Default, but eliminating those, who have strong correlation among themselves:"
   ]
  },
  {
   "cell_type": "code",
   "execution_count": 1774,
   "metadata": {
    "scrolled": false
   },
   "outputs": [
    {
     "data": {
      "text/plain": [
       "<matplotlib.axes._subplots.AxesSubplot at 0x1a89e753d0>"
      ]
     },
     "execution_count": 1774,
     "metadata": {},
     "output_type": "execute_result"
    },
    {
     "data": {
      "image/png": "[encoded data removed]",
      "text/plain": [
       "<Figure size 432x288 with 1 Axes>"
      ]
     },
     "metadata": {
      "needs_background": "light"
     },
     "output_type": "display_data"
    }
   ],
   "source": [
    "relevant = credit[['Total credit', 'Delay September','Marriage', 'Education', 'Total payment','Default']]\n",
    "\n",
    "sns.heatmap(relevant.corr(), annot=True, cmap='Blues', cbar=False)"
   ]
  },
  {
   "cell_type": "markdown",
   "metadata": {},
   "source": [
    "# MODELING"
   ]
  },
  {
   "cell_type": "markdown",
   "metadata": {},
   "source": [
    "### TRAIN-TEST SPLIT"
   ]
  },
  {
   "cell_type": "code",
   "execution_count": 575,
   "metadata": {},
   "outputs": [],
   "source": [
    "from sklearn.model_selection import train_test_split\n",
    "from sklearn.metrics import accuracy_score, precision_score, recall_score, roc_auc_score, roc_curve, confusion_matrix, f1_score"
   ]
  },
  {
   "cell_type": "code",
   "execution_count": 1821,
   "metadata": {},
   "outputs": [],
   "source": [
    "features = ['Delay September', 'Total payment', 'Marriage', 'Education', 'Total credit']"
   ]
  },
  {
   "cell_type": "code",
   "execution_count": 1822,
   "metadata": {},
   "outputs": [],
   "source": [
    "X = credit[features]\n",
    "y = credit['Default']\n",
    "\n",
    "X_train, X_test, y_train, y_test = train_test_split(X, y, test_size=0.2)"
   ]
  },
  {
   "cell_type": "code",
   "execution_count": 1823,
   "metadata": {},
   "outputs": [
    {
     "data": {
      "text/plain": [
       "(24000, 5)"
      ]
     },
     "execution_count": 1823,
     "metadata": {},
     "output_type": "execute_result"
    }
   ],
   "source": [
    "X_train.shape"
   ]
  },
  {
   "cell_type": "code",
   "execution_count": 1824,
   "metadata": {
    "scrolled": true
   },
   "outputs": [
    {
     "data": {
      "text/plain": [
       "(6000, 5)"
      ]
     },
     "execution_count": 1824,
     "metadata": {},
     "output_type": "execute_result"
    }
   ],
   "source": [
    "X_test.shape"
   ]
  },
  {
   "cell_type": "markdown",
   "metadata": {},
   "source": [
    "### 1. RANDOM FOREST"
   ]
  },
  {
   "cell_type": "markdown",
   "metadata": {},
   "source": [
    "Random forest model aggregates a bunch of descision trees and presents the average result of all descision tree predictions, thus reduces the variance. Each tree is trained on random samples of the dataset. "
   ]
  },
  {
   "cell_type": "markdown",
   "metadata": {},
   "source": [
    "### Randomized Search CV\n",
    "\n",
    "Used for parameter tuning in a classification model"
   ]
  },
  {
   "cell_type": "code",
   "execution_count": 1777,
   "metadata": {},
   "outputs": [
    {
     "name": "stdout",
     "output_type": "stream",
     "text": [
      "{'n_estimators': [200, 400, 600, 800, 1000, 1200, 1400, 1600, 1800, 2000], 'max_features': ['auto', 'sqrt'], 'max_depth': [10, 20, 30, 40, 50, 60, 70, 80, 90, 100, 110, None], 'min_samples_split': [2, 5, 10], 'min_samples_leaf': [1, 2, 4], 'bootstrap': [True, False]}\n"
     ]
    }
   ],
   "source": [
    "from sklearn.model_selection import RandomizedSearchCV\n",
    "\n",
    "# Number of trees in random forest\n",
    "n_estimators = [int(x) for x in np.linspace(start = 200, stop = 2000, num = 10)]\n",
    "\n",
    "# Number of features to consider at every split\n",
    "max_features = ['auto', 'sqrt']\n",
    "\n",
    "# Maximum number of levels in tree\n",
    "max_depth = [int(x) for x in np.linspace(10, 110, num = 11)]\n",
    "max_depth.append(None)\n",
    "\n",
    "# Minimum number of samples required to split a node\n",
    "min_samples_split = [2, 5, 10]\n",
    "\n",
    "# Minimum number of samples required at each leaf node\n",
    "min_samples_leaf = [1, 2, 4]\n",
    "\n",
    "# Method of selecting samples for training each tree\n",
    "bootstrap = [True, False]# Create the random grid\n",
    "random_grid = {'n_estimators': n_estimators,\n",
    "               'max_features': max_features,\n",
    "               'max_depth': max_depth,\n",
    "               'min_samples_split': min_samples_split,\n",
    "               'min_samples_leaf': min_samples_leaf,\n",
    "               'bootstrap': bootstrap}\n",
    "\n",
    "print(random_grid)"
   ]
  },
  {
   "cell_type": "code",
   "execution_count": 1778,
   "metadata": {
    "scrolled": false
   },
   "outputs": [
    {
     "name": "stdout",
     "output_type": "stream",
     "text": [
      "Fitting 3 folds for each of 100 candidates, totalling 300 fits\n"
     ]
    },
    {
     "name": "stderr",
     "output_type": "stream",
     "text": [
      "[Parallel(n_jobs=-1)]: Using backend LokyBackend with 4 concurrent workers.\n",
      "[Parallel(n_jobs=-1)]: Done  33 tasks      | elapsed:  7.4min\n",
      "[Parallel(n_jobs=-1)]: Done 154 tasks      | elapsed: 34.1min\n",
      "[Parallel(n_jobs=-1)]: Done 300 out of 300 | elapsed: 66.0min finished\n"
     ]
    },
    {
     "data": {
      "text/plain": [
       "RandomizedSearchCV(cv=3, error_score='raise-deprecating',\n",
       "                   estimator=RandomForestRegressor(bootstrap=True,\n",
       "                                                   criterion='mse',\n",
       "                                                   max_depth=None,\n",
       "                                                   max_features='auto',\n",
       "                                                   max_leaf_nodes=None,\n",
       "                                                   min_impurity_decrease=0.0,\n",
       "                                                   min_impurity_split=None,\n",
       "                                                   min_samples_leaf=1,\n",
       "                                                   min_samples_split=2,\n",
       "                                                   min_weight_fraction_leaf=0.0,\n",
       "                                                   n_estimators='warn',\n",
       "                                                   n_jobs=None, oob_score=False,\n",
       "                                                   random_sta...\n",
       "                   param_distributions={'bootstrap': [True, False],\n",
       "                                        'max_depth': [10, 20, 30, 40, 50, 60,\n",
       "                                                      70, 80, 90, 100, 110,\n",
       "                                                      None],\n",
       "                                        'max_features': ['auto', 'sqrt'],\n",
       "                                        'min_samples_leaf': [1, 2, 4],\n",
       "                                        'min_samples_split': [2, 5, 10],\n",
       "                                        'n_estimators': [200, 400, 600, 800,\n",
       "                                                         1000, 1200, 1400, 1600,\n",
       "                                                         1800, 2000]},\n",
       "                   pre_dispatch='2*n_jobs', random_state=42, refit=True,\n",
       "                   return_train_score=False, scoring=None, verbose=2)"
      ]
     },
     "execution_count": 1778,
     "metadata": {},
     "output_type": "execute_result"
    }
   ],
   "source": [
    "from sklearn.ensemble import RandomForestRegressor\n",
    "\n",
    "# Use the random grid to search for best hyperparameters\n",
    "# First create the base model to tune\n",
    "rf = RandomForestRegressor()\n",
    "\n",
    "# Random search of parameters, using 3 fold cross validation, \n",
    "# search across 100 different combinations, and use all available cores\n",
    "rf_random = RandomizedSearchCV(estimator = rf, param_distributions = random_grid, n_iter = 100, cv = 3, verbose=2, random_state=42, n_jobs = -1)# Fit the random search model\n",
    "rf_random.fit(X_train, y_train)"
   ]
  },
  {
   "cell_type": "markdown",
   "metadata": {},
   "source": [
    "**Best parameters of Randomized Search CV:**\n",
    "\n",
    "We will use these to narrow the search with GridSearchCV "
   ]
  },
  {
   "cell_type": "code",
   "execution_count": 1779,
   "metadata": {},
   "outputs": [
    {
     "data": {
      "text/plain": [
       "{'n_estimators': 1000,\n",
       " 'min_samples_split': 10,\n",
       " 'min_samples_leaf': 2,\n",
       " 'max_features': 'sqrt',\n",
       " 'max_depth': 10,\n",
       " 'bootstrap': True}"
      ]
     },
     "execution_count": 1779,
     "metadata": {},
     "output_type": "execute_result"
    }
   ],
   "source": [
    "rf_random.best_params_"
   ]
  },
  {
   "cell_type": "markdown",
   "metadata": {},
   "source": [
    "### GRID SEARCH CV"
   ]
  },
  {
   "cell_type": "code",
   "execution_count": 1792,
   "metadata": {},
   "outputs": [],
   "source": [
    "from sklearn.model_selection import GridSearchCV\n",
    "\n",
    "# Create the parameter grid based on the results of random search \n",
    "param_grid = {\n",
    "    'bootstrap': [True],\n",
    "    'max_depth': [20, 30, 40, 50],\n",
    "    'max_features': ['sqrt'],\n",
    "    'min_samples_leaf': [2, 3, 4],\n",
    "    'min_samples_split': [8, 10, 12],\n",
    "    'n_estimators': [600, 800, 1000, 1200]\n",
    "}\n",
    "\n",
    "# Create a based model\n",
    "rf = RandomForestRegressor()# Instantiate the grid search model\n",
    "grid_search = GridSearchCV(estimator = rf, param_grid = param_grid, \n",
    "                          cv = 3, n_jobs = -1, verbose = 2)"
   ]
  },
  {
   "cell_type": "code",
   "execution_count": 1793,
   "metadata": {},
   "outputs": [
    {
     "name": "stdout",
     "output_type": "stream",
     "text": [
      "Fitting 3 folds for each of 144 candidates, totalling 432 fits\n"
     ]
    },
    {
     "name": "stderr",
     "output_type": "stream",
     "text": [
      "[Parallel(n_jobs=-1)]: Using backend LokyBackend with 4 concurrent workers.\n",
      "[Parallel(n_jobs=-1)]: Done  33 tasks      | elapsed:  4.1min\n",
      "[Parallel(n_jobs=-1)]: Done 154 tasks      | elapsed: 17.1min\n",
      "[Parallel(n_jobs=-1)]: Done 357 tasks      | elapsed: 39.7min\n",
      "[Parallel(n_jobs=-1)]: Done 432 out of 432 | elapsed: 47.5min finished\n"
     ]
    },
    {
     "data": {
      "text/plain": [
       "GridSearchCV(cv=3, error_score='raise-deprecating',\n",
       "             estimator=RandomForestRegressor(bootstrap=True, criterion='mse',\n",
       "                                             max_depth=None,\n",
       "                                             max_features='auto',\n",
       "                                             max_leaf_nodes=None,\n",
       "                                             min_impurity_decrease=0.0,\n",
       "                                             min_impurity_split=None,\n",
       "                                             min_samples_leaf=1,\n",
       "                                             min_samples_split=2,\n",
       "                                             min_weight_fraction_leaf=0.0,\n",
       "                                             n_estimators='warn', n_jobs=None,\n",
       "                                             oob_score=False, random_state=None,\n",
       "                                             verbose=0, warm_start=False),\n",
       "             iid='warn', n_jobs=-1,\n",
       "             param_grid={'bootstrap': [True], 'max_depth': [20, 30, 40, 50],\n",
       "                         'max_features': ['sqrt'],\n",
       "                         'min_samples_leaf': [2, 3, 4],\n",
       "                         'min_samples_split': [8, 10, 12],\n",
       "                         'n_estimators': [600, 800, 1000, 1200]},\n",
       "             pre_dispatch='2*n_jobs', refit=True, return_train_score=False,\n",
       "             scoring=None, verbose=2)"
      ]
     },
     "execution_count": 1793,
     "metadata": {},
     "output_type": "execute_result"
    }
   ],
   "source": [
    "grid_search.fit(X_train, y_train)"
   ]
  },
  {
   "cell_type": "markdown",
   "metadata": {},
   "source": [
    "**Best parameters found by GridSearchCV:**\n",
    "\n",
    "We will use these in our Random Forest model"
   ]
  },
  {
   "cell_type": "code",
   "execution_count": 1794,
   "metadata": {},
   "outputs": [
    {
     "data": {
      "text/plain": [
       "{'bootstrap': True,\n",
       " 'max_depth': 20,\n",
       " 'max_features': 'sqrt',\n",
       " 'min_samples_leaf': 4,\n",
       " 'min_samples_split': 12,\n",
       " 'n_estimators': 1000}"
      ]
     },
     "execution_count": 1794,
     "metadata": {},
     "output_type": "execute_result"
    }
   ],
   "source": [
    "grid_search.best_params_"
   ]
  },
  {
   "cell_type": "markdown",
   "metadata": {},
   "source": [
    "Training the model:"
   ]
  },
  {
   "cell_type": "code",
   "execution_count": 1795,
   "metadata": {},
   "outputs": [
    {
     "data": {
      "text/plain": [
       "RandomForestClassifier(bootstrap=True, class_weight='balanced',\n",
       "                       criterion='gini', max_depth=10, max_features='sqrt',\n",
       "                       max_leaf_nodes=None, min_impurity_decrease=0.0,\n",
       "                       min_impurity_split=None, min_samples_leaf=4,\n",
       "                       min_samples_split=12, min_weight_fraction_leaf=0.0,\n",
       "                       n_estimators=1000, n_jobs=None, oob_score=False,\n",
       "                       random_state=None, verbose=0, warm_start=False)"
      ]
     },
     "execution_count": 1795,
     "metadata": {},
     "output_type": "execute_result"
    }
   ],
   "source": [
    "from sklearn.ensemble import RandomForestClassifier\n",
    "\n",
    "# Create the model with 1000 trees\n",
    "model = RandomForestClassifier(n_estimators = 1000,\n",
    "                               bootstrap = True,\n",
    "                               max_features = 'sqrt',\n",
    "                               max_depth = 10,\n",
    "                               min_samples_split = 12,\n",
    "                               min_samples_leaf = 4,\n",
    "                               class_weight='balanced')\n",
    "# Fit on training data\n",
    "model.fit(X_train, y_train)"
   ]
  },
  {
   "cell_type": "markdown",
   "metadata": {},
   "source": [
    "Calculating probabilities and predictions:"
   ]
  },
  {
   "cell_type": "code",
   "execution_count": 1870,
   "metadata": {},
   "outputs": [],
   "source": [
    "train_rf_predictions = model.predict(X_train)\n",
    "\n",
    "train_rf_probs = model.predict_proba(X_train)[:, 1]\n",
    "\n",
    "rf_predictions = model.predict(X_test)\n",
    "\n",
    "rf_probs = model.predict_proba(X_test)[:, 1]"
   ]
  },
  {
   "cell_type": "markdown",
   "metadata": {},
   "source": [
    "#### FEATURE IMPORTANCE"
   ]
  },
  {
   "cell_type": "code",
   "execution_count": 1845,
   "metadata": {
    "scrolled": true
   },
   "outputs": [
    {
     "data": {
      "text/html": [
       "<div>\n",
       "<style scoped>\n",
       "    .dataframe tbody tr th:only-of-type {\n",
       "        vertical-align: middle;\n",
       "    }\n",
       "\n",
       "    .dataframe tbody tr th {\n",
       "        vertical-align: top;\n",
       "    }\n",
       "\n",
       "    .dataframe thead th {\n",
       "        text-align: right;\n",
       "    }\n",
       "</style>\n",
       "<table border=\"1\" class=\"dataframe\">\n",
       "  <thead>\n",
       "    <tr style=\"text-align: right;\">\n",
       "      <th></th>\n",
       "      <th>feature</th>\n",
       "      <th>importance</th>\n",
       "    </tr>\n",
       "  </thead>\n",
       "  <tbody>\n",
       "    <tr>\n",
       "      <td>0</td>\n",
       "      <td>Delay September</td>\n",
       "      <td>0.560509</td>\n",
       "    </tr>\n",
       "    <tr>\n",
       "      <td>1</td>\n",
       "      <td>Total payment</td>\n",
       "      <td>0.240798</td>\n",
       "    </tr>\n",
       "    <tr>\n",
       "      <td>4</td>\n",
       "      <td>Total credit</td>\n",
       "      <td>0.147242</td>\n",
       "    </tr>\n",
       "    <tr>\n",
       "      <td>3</td>\n",
       "      <td>Education</td>\n",
       "      <td>0.032766</td>\n",
       "    </tr>\n",
       "    <tr>\n",
       "      <td>2</td>\n",
       "      <td>Marriage</td>\n",
       "      <td>0.018685</td>\n",
       "    </tr>\n",
       "  </tbody>\n",
       "</table>\n",
       "</div>"
      ],
      "text/plain": [
       "           feature  importance\n",
       "0  Delay September    0.560509\n",
       "1    Total payment    0.240798\n",
       "4     Total credit    0.147242\n",
       "3        Education    0.032766\n",
       "2         Marriage    0.018685"
      ]
     },
     "execution_count": 1845,
     "metadata": {},
     "output_type": "execute_result"
    }
   ],
   "source": [
    "fi_model = pd.DataFrame({'feature': features,\n",
    "                   'importance': model.feature_importances_}).\\\n",
    "                    sort_values('importance', ascending = False)\n",
    "fi_model"
   ]
  },
  {
   "cell_type": "markdown",
   "metadata": {},
   "source": [
    "#### METRICS"
   ]
  },
  {
   "cell_type": "markdown",
   "metadata": {},
   "source": [
    "**1. Accuracy.**\n",
    "Proportion of true results among the total number of cases examined\n",
    "\n",
    "For imbalanced dataset accuracy is not a best metric"
   ]
  },
  {
   "cell_type": "code",
   "execution_count": 1846,
   "metadata": {},
   "outputs": [
    {
     "data": {
      "text/plain": [
       "0.7816666666666666"
      ]
     },
     "execution_count": 1846,
     "metadata": {},
     "output_type": "execute_result"
    }
   ],
   "source": [
    "accuracy_score(y_test, rf_predictions)"
   ]
  },
  {
   "cell_type": "markdown",
   "metadata": {},
   "source": [
    "**2. Precision.** What proportion of predicted positives is truly positive. TP/ TP + FP"
   ]
  },
  {
   "cell_type": "code",
   "execution_count": 1847,
   "metadata": {},
   "outputs": [
    {
     "data": {
      "text/plain": [
       "0.5058032987171656"
      ]
     },
     "execution_count": 1847,
     "metadata": {},
     "output_type": "execute_result"
    }
   ],
   "source": [
    "precision_score(y_test, rf_predictions)"
   ]
  },
  {
   "cell_type": "markdown",
   "metadata": {},
   "source": [
    "**3. Recall.** What proportion of actual positives is correctly classified. TP/ TP + FN\n",
    "\n",
    "In our case, we want to predict as many positives as we can (even if we are not sure) to avoid customers, who will default"
   ]
  },
  {
   "cell_type": "code",
   "execution_count": 1848,
   "metadata": {},
   "outputs": [
    {
     "data": {
      "text/plain": [
       "0.6230248306997742"
      ]
     },
     "execution_count": 1848,
     "metadata": {},
     "output_type": "execute_result"
    }
   ],
   "source": [
    "recall_score(y_test, rf_predictions)"
   ]
  },
  {
   "cell_type": "markdown",
   "metadata": {},
   "source": [
    "**4. F1 Score.** Balance between precision and recall"
   ]
  },
  {
   "cell_type": "code",
   "execution_count": 1849,
   "metadata": {},
   "outputs": [
    {
     "data": {
      "text/plain": [
       "0.5583277140930546"
      ]
     },
     "execution_count": 1849,
     "metadata": {},
     "output_type": "execute_result"
    }
   ],
   "source": [
    "f1_score(y_test, rf_predictions)"
   ]
  },
  {
   "cell_type": "markdown",
   "metadata": {},
   "source": [
    "**5. Confusion matrix.**"
   ]
  },
  {
   "cell_type": "code",
   "execution_count": 1850,
   "metadata": {},
   "outputs": [
    {
     "name": "stdout",
     "output_type": "stream",
     "text": [
      "True Negative: 3862\n",
      "False Negative: 501\n",
      "True Positive: 828\n",
      "False Positive: 809\n"
     ]
    }
   ],
   "source": [
    "cm = confusion_matrix(y_test, rf_predictions)\n",
    "\n",
    "TN = cm[0][0]\n",
    "FN = cm[1][0]\n",
    "TP = cm[1][1]\n",
    "FP = cm[0][1]\n",
    "\n",
    "print('True Negative: {}'.format(TN) + '\\n'\n",
    "'False Negative: {}'.format(FN) + '\\n'\n",
    "'True Positive: {}'.format(TP) + '\\n'\n",
    "'False Positive: {}'.format(FP))"
   ]
  },
  {
   "cell_type": "markdown",
   "metadata": {},
   "source": [
    "**6. ROC-AUC value.** Trade-off between precision and recall. 50% score says that model is useless: as good as blind guessing, so the higher the rate, the better"
   ]
  },
  {
   "cell_type": "code",
   "execution_count": 1851,
   "metadata": {},
   "outputs": [
    {
     "data": {
      "text/plain": [
       "0.8057700854688463"
      ]
     },
     "execution_count": 1851,
     "metadata": {},
     "output_type": "execute_result"
    }
   ],
   "source": [
    "roc_auc_score(y_test, rf_probs)"
   ]
  },
  {
   "cell_type": "markdown",
   "metadata": {},
   "source": [
    "### 2. LOGISTIC REGRESSION"
   ]
  },
  {
   "cell_type": "code",
   "execution_count": 721,
   "metadata": {},
   "outputs": [],
   "source": [
    "from sklearn.linear_model import LogisticRegression"
   ]
  },
  {
   "cell_type": "markdown",
   "metadata": {},
   "source": [
    "Initializing logistic regression and fitting the model:"
   ]
  },
  {
   "cell_type": "code",
   "execution_count": 1680,
   "metadata": {},
   "outputs": [],
   "source": [
    "log_reg = LogisticRegression(class_weight='balanced')"
   ]
  },
  {
   "cell_type": "code",
   "execution_count": 1852,
   "metadata": {
    "scrolled": true
   },
   "outputs": [
    {
     "name": "stderr",
     "output_type": "stream",
     "text": [
      "/Users/viktorijakasirskaja/opt/anaconda3/lib/python3.7/site-packages/sklearn/linear_model/logistic.py:432: FutureWarning: Default solver will be changed to 'lbfgs' in 0.22. Specify a solver to silence this warning.\n",
      "  FutureWarning)\n"
     ]
    },
    {
     "data": {
      "text/plain": [
       "LogisticRegression(C=1.0, class_weight='balanced', dual=False,\n",
       "                   fit_intercept=True, intercept_scaling=1, l1_ratio=None,\n",
       "                   max_iter=100, multi_class='warn', n_jobs=None, penalty='l2',\n",
       "                   random_state=None, solver='warn', tol=0.0001, verbose=0,\n",
       "                   warm_start=False)"
      ]
     },
     "execution_count": 1852,
     "metadata": {},
     "output_type": "execute_result"
    }
   ],
   "source": [
    "log_reg.fit(X_train, y_train)"
   ]
  },
  {
   "cell_type": "markdown",
   "metadata": {},
   "source": [
    "Calculating probabilities and predictions:"
   ]
  },
  {
   "cell_type": "code",
   "execution_count": 1869,
   "metadata": {},
   "outputs": [],
   "source": [
    "train_predictions = log_reg.predict(X_train)\n",
    "\n",
    "train_probs = log_reg.predict_proba(X_train)[:, 1]\n",
    "\n",
    "log_predictions = log_reg.predict(X_test)\n",
    "\n",
    "log_probs = log_reg.predict_proba(X_test)[:, 1]"
   ]
  },
  {
   "cell_type": "code",
   "execution_count": 1862,
   "metadata": {},
   "outputs": [
    {
     "data": {
      "text/plain": [
       "array([1, 0, 0, ..., 0, 0, 1])"
      ]
     },
     "execution_count": 1862,
     "metadata": {},
     "output_type": "execute_result"
    }
   ],
   "source": [
    "log_predictions"
   ]
  },
  {
   "cell_type": "markdown",
   "metadata": {},
   "source": [
    "#### FEATURE IMPORTANCE"
   ]
  },
  {
   "cell_type": "code",
   "execution_count": 1854,
   "metadata": {},
   "outputs": [
    {
     "data": {
      "text/html": [
       "<div>\n",
       "<style scoped>\n",
       "    .dataframe tbody tr th:only-of-type {\n",
       "        vertical-align: middle;\n",
       "    }\n",
       "\n",
       "    .dataframe tbody tr th {\n",
       "        vertical-align: top;\n",
       "    }\n",
       "\n",
       "    .dataframe thead th {\n",
       "        text-align: right;\n",
       "    }\n",
       "</style>\n",
       "<table border=\"1\" class=\"dataframe\">\n",
       "  <thead>\n",
       "    <tr style=\"text-align: right;\">\n",
       "      <th></th>\n",
       "      <th>feature</th>\n",
       "      <th>importance</th>\n",
       "    </tr>\n",
       "  </thead>\n",
       "  <tbody>\n",
       "    <tr>\n",
       "      <td>0</td>\n",
       "      <td>Delay September</td>\n",
       "      <td>0.596334</td>\n",
       "    </tr>\n",
       "    <tr>\n",
       "      <td>2</td>\n",
       "      <td>Marriage</td>\n",
       "      <td>0.224539</td>\n",
       "    </tr>\n",
       "    <tr>\n",
       "      <td>3</td>\n",
       "      <td>Education</td>\n",
       "      <td>0.089796</td>\n",
       "    </tr>\n",
       "    <tr>\n",
       "      <td>4</td>\n",
       "      <td>Total credit</td>\n",
       "      <td>-0.166326</td>\n",
       "    </tr>\n",
       "    <tr>\n",
       "      <td>1</td>\n",
       "      <td>Total payment</td>\n",
       "      <td>-0.308367</td>\n",
       "    </tr>\n",
       "  </tbody>\n",
       "</table>\n",
       "</div>"
      ],
      "text/plain": [
       "           feature  importance\n",
       "0  Delay September    0.596334\n",
       "2         Marriage    0.224539\n",
       "3        Education    0.089796\n",
       "4     Total credit   -0.166326\n",
       "1    Total payment   -0.308367"
      ]
     },
     "execution_count": 1854,
     "metadata": {},
     "output_type": "execute_result"
    }
   ],
   "source": [
    "fi_model2 = pd.DataFrame({'feature': features,\n",
    "                   'importance': list(log_reg.coef_[0])}).\\\n",
    "                    sort_values('importance', ascending = False)\n",
    "fi_model2"
   ]
  },
  {
   "cell_type": "markdown",
   "metadata": {},
   "source": [
    "#### METRICS"
   ]
  },
  {
   "cell_type": "markdown",
   "metadata": {},
   "source": [
    "**1. Accuracy score**"
   ]
  },
  {
   "cell_type": "code",
   "execution_count": 1863,
   "metadata": {},
   "outputs": [
    {
     "data": {
      "text/plain": [
       "0.6743333333333333"
      ]
     },
     "execution_count": 1863,
     "metadata": {},
     "output_type": "execute_result"
    }
   ],
   "source": [
    "accuracy_score(y_test, log_predictions)"
   ]
  },
  {
   "cell_type": "markdown",
   "metadata": {},
   "source": [
    "**2. Precision score**"
   ]
  },
  {
   "cell_type": "code",
   "execution_count": 1864,
   "metadata": {},
   "outputs": [
    {
     "data": {
      "text/plain": [
       "0.3659373659373659"
      ]
     },
     "execution_count": 1864,
     "metadata": {},
     "output_type": "execute_result"
    }
   ],
   "source": [
    "precision_score(y_test, log_predictions)"
   ]
  },
  {
   "cell_type": "markdown",
   "metadata": {},
   "source": [
    "**3. Recall score**"
   ]
  },
  {
   "cell_type": "code",
   "execution_count": 1865,
   "metadata": {},
   "outputs": [
    {
     "data": {
      "text/plain": [
       "0.6418359668924003"
      ]
     },
     "execution_count": 1865,
     "metadata": {},
     "output_type": "execute_result"
    }
   ],
   "source": [
    "recall_score(y_test, log_predictions)"
   ]
  },
  {
   "cell_type": "markdown",
   "metadata": {},
   "source": [
    "**4. F1 score**"
   ]
  },
  {
   "cell_type": "code",
   "execution_count": 1866,
   "metadata": {},
   "outputs": [
    {
     "data": {
      "text/plain": [
       "0.4661202185792349"
      ]
     },
     "execution_count": 1866,
     "metadata": {},
     "output_type": "execute_result"
    }
   ],
   "source": [
    "f1_score(y_test, log_predictions)"
   ]
  },
  {
   "cell_type": "markdown",
   "metadata": {},
   "source": [
    "**5. Confusion matrix**"
   ]
  },
  {
   "cell_type": "code",
   "execution_count": 1867,
   "metadata": {
    "scrolled": true
   },
   "outputs": [
    {
     "name": "stdout",
     "output_type": "stream",
     "text": [
      "True Negative: 3193\n",
      "False Negative: 476\n",
      "True Positive: 853\n",
      "False Positive: 1478\n"
     ]
    }
   ],
   "source": [
    "cm2 = confusion_matrix(y_test, log_predictions)\n",
    "\n",
    "TN2 = cm2[0][0]\n",
    "FN2 = cm2[1][0]\n",
    "TP2 = cm2[1][1]\n",
    "FP2 = cm2[0][1]\n",
    "\n",
    "print('True Negative: {}'.format(TN2) + '\\n'\n",
    "'False Negative: {}'.format(FN2) + '\\n'\n",
    "'True Positive: {}'.format(TP2) + '\\n'\n",
    "'False Positive: {}'.format(FP2))"
   ]
  },
  {
   "cell_type": "markdown",
   "metadata": {},
   "source": [
    "**6. ROC-AUC score**"
   ]
  },
  {
   "cell_type": "code",
   "execution_count": 1868,
   "metadata": {},
   "outputs": [
    {
     "data": {
      "text/plain": [
       "0.7224144010745261"
      ]
     },
     "execution_count": 1868,
     "metadata": {},
     "output_type": "execute_result"
    }
   ],
   "source": [
    "roc_auc_score(y_test, log_probs)"
   ]
  },
  {
   "cell_type": "markdown",
   "metadata": {},
   "source": [
    "#### SOME NOTES:\n",
    "\n",
    "**Unbalanced model** = Higher accuracy, Higher precision, Lower recall, Lower f1 score (a lot of false negative)\n",
    "\n",
    "**Balanced model** = Lower accuracy, Lower precision, Higher(3X) recall, Higher f1 score (a lot of false positive).\n",
    "\n",
    "**Outliers** = removing outliers adds to precision, but recall decreases\n",
    "\n",
    "For bank it is more important to have higher recall than precision, because the cost of giving a credit\n",
    "to customers who will default is higher than not giving a credit to customers who won't default."
   ]
  },
  {
   "cell_type": "markdown",
   "metadata": {},
   "source": [
    "### ROC CURVES"
   ]
  },
  {
   "cell_type": "markdown",
   "metadata": {},
   "source": [
    "#### RANDOM FOREST ROC"
   ]
  },
  {
   "cell_type": "markdown",
   "metadata": {},
   "source": [
    "Function for model evaluation and visualizing ROC curve:\n",
    "\n",
    "Code from here: https://github.com/WillKoehrsen/Machine-Learning-Projects/blob/master/Random%20Forest%20Tutorial.ipynb"
   ]
  },
  {
   "cell_type": "code",
   "execution_count": 1878,
   "metadata": {},
   "outputs": [],
   "source": [
    "def evaluate_model(rf_predictions, rf_probs, train_rf_predictions, train_rf_probs):\n",
    "    \"\"\"Compare machine learning model to baseline performance.\n",
    "    Computes statistics and shows ROC curve.\"\"\"\n",
    "    \n",
    "    baseline = {}\n",
    "    \n",
    "    baseline['recall'] = recall_score(y_test, [1 for _ in range(len(y_test))])\n",
    "    baseline['precision'] = precision_score(y_test, [1 for _ in range(len(y_test))])\n",
    "    baseline['roc'] = 0.5\n",
    "    \n",
    "    results = {}\n",
    "    \n",
    "    results['recall'] = recall_score(y_test, rf_predictions)\n",
    "    results['precision'] = precision_score(y_test, rf_predictions)\n",
    "    results['roc'] = roc_auc_score(y_test, rf_probs)\n",
    "    \n",
    "    train_results = {}\n",
    "    train_results['recall'] = recall_score(y_train, train_rf_predictions)\n",
    "    train_results['precision'] = precision_score(y_train, train_rf_predictions)\n",
    "    train_results['roc'] = roc_auc_score(y_train, train_rf_probs)\n",
    "    \n",
    "    for metric in ['recall', 'precision', 'roc']:\n",
    "        print(f'{metric.capitalize()} Baseline: {round(baseline[metric], 2)} Test: {round(results[metric], 2)} Train: {round(train_results[metric], 2)}')\n",
    "    \n",
    "    # Calculate false positive rates and true positive rates\n",
    "    base_fpr, base_tpr, _ = roc_curve(y_test, [1 for _ in range(len(y_test))])\n",
    "    model_fpr, model_tpr, _ = roc_curve(y_test, rf_probs)\n",
    "\n",
    "    plt.figure(figsize = (8, 6))\n",
    "    plt.rcParams['font.size'] = 16\n",
    "    \n",
    "    # Plot both curves\n",
    "    plt.plot(base_fpr, base_tpr, 'b', label = 'baseline')\n",
    "    plt.plot(model_fpr, model_tpr, 'r', label = 'model')\n",
    "    plt.legend();\n",
    "    plt.xlabel('False Positive Rate'); plt.ylabel('True Positive Rate'); plt.title('ROC Curve');"
   ]
  },
  {
   "cell_type": "markdown",
   "metadata": {},
   "source": [
    "**ROC curve:**\n",
    "\n",
    "ROC is probability curve which shows models capability to predict 0 as 0 and 1 as 1. \n",
    "\n",
    "AUC show much model is capable of distinguishing between classes."
   ]
  },
  {
   "cell_type": "code",
   "execution_count": 1879,
   "metadata": {},
   "outputs": [
    {
     "name": "stdout",
     "output_type": "stream",
     "text": [
      "Recall Baseline: 1.0 Test: 0.62 Train: 0.62\n",
      "Precision Baseline: 0.22 Test: 0.51 Train: 0.52\n",
      "Roc Baseline: 0.5 Test: 0.81 Train: 0.81\n"
     ]
    },
    {
     "data": {
      "image/png": "[encoded data removed]",
      "text/plain": [
       "<Figure size 576x432 with 1 Axes>"
      ]
     },
     "metadata": {
      "needs_background": "light"
     },
     "output_type": "display_data"
    }
   ],
   "source": [
    "evaluate_model(rf_predictions, rf_probs, train_rf_predictions, train_rf_probs)"
   ]
  },
  {
   "cell_type": "markdown",
   "metadata": {},
   "source": [
    "#### LOGISTIC REGRESSION ROC"
   ]
  },
  {
   "cell_type": "code",
   "execution_count": 1871,
   "metadata": {
    "scrolled": false
   },
   "outputs": [
    {
     "name": "stdout",
     "output_type": "stream",
     "text": [
      "Recall Baseline: 1.0 Test: 0.64 Train: 0.64\n",
      "Precision Baseline: 0.22 Test: 0.37 Train: 0.37\n",
      "Roc Baseline: 0.5 Test: 0.72 Train: 0.72\n"
     ]
    },
    {
     "data": {
      "image/png": "[encoded data removed]",
      "text/plain": [
       "<Figure size 576x432 with 1 Axes>"
      ]
     },
     "metadata": {
      "needs_background": "light"
     },
     "output_type": "display_data"
    }
   ],
   "source": [
    "evaluate_model(log_predictions, log_probs, train_predictions, train_probs)"
   ]
  },
  {
   "cell_type": "markdown",
   "metadata": {},
   "source": [
    "### CONCLUSION"
   ]
  },
  {
   "cell_type": "markdown",
   "metadata": {},
   "source": [
    "**Sex:**\n",
    "  * More women than man (60% and 40%)\n",
    "  * Men are more likely to default, though, difference is not significant\n",
    "  * Women tend to pay in advance\n",
    "  * Women tend to have higher total credit limit\n",
    " \n",
    "**Marriage:**\n",
    "   * 53% single, 46% married, 1% other\n",
    "   * More % of defaults are caused by married customers\n",
    "   * Married customers have higher total credit limit\n",
    "   * Married customers tend to pay in advance\n",
    " \n",
    "**Education:**\n",
    "   * 47% Bachelors, 35% Masters, 16% High School, 2% unknown\n",
    "   * The lower the education, the higher chances to default\n",
    "   * Masters have significantly higher total credit limit\n",
    "   * Masters tend to pay in advance\n",
    "   * Bachelors and customers with high school level of education have similar delay trends\n",
    "   \n",
    "**Delays:**\n",
    "  * 49% pays duly, 28% pays in advance, 23% delays their payments\n",
    "  * 1 month delay increases % of default 2X, 2 months delay - 4X\n",
    "\n",
    "**Age:**\n",
    "  * 73% of customers are under 40\n",
    "  * 31-40 group has the lowest chance to default\n",
    "  * The older the customer is, the higher chance to default\n",
    "  \n",
    "**Total credit limit:**\n",
    "  * 38% of customers has total credit limit under 100,000\n",
    "  * They also are more likely to default\n",
    "  \n",
    "**Classification models:**\n",
    "\n",
    "Random Forest model performs better than Logistic Regression model (80% roc-auc score against 72%). Though result is not perfect. I think this dataset misses some critical information like what are the earnings of customer and whether they have other credits, maybe this data would improve our predictions."
   ]
  },
  {
   "cell_type": "code",
   "execution_count": null,
   "metadata": {},
   "outputs": [],
   "source": []
  }
 ],
 "metadata": {
  "kernelspec": {
   "display_name": "Python 3",
   "language": "python",
   "name": "python3"
  },
  "language_info": {
   "codemirror_mode": {
    "name": "ipython",
    "version": 3
   },
   "file_extension": ".py",
   "mimetype": "text/x-python",
   "name": "python",
   "nbconvert_exporter": "python",
   "pygments_lexer": "ipython3",
   "version": "3.7.4"
  }
 },
 "nbformat": 4,
 "nbformat_minor": 2
}
